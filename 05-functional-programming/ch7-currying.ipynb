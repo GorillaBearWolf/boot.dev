{
 "cells": [
  {
   "cell_type": "markdown",
   "metadata": {},
   "source": [
    "# Currying\n",
    "\n",
    "Function currying is just a specific type of function transformation. It's when we translate a function that takes multiple arguments into a sequence of functions, each with a single argument."
   ]
  },
  {
   "cell_type": "code",
   "execution_count": null,
   "metadata": {},
   "outputs": [],
   "source": [
    "def converted_font_size(font_size):\n",
    "    def get_doc_type(doc_type):\n",
    "        if doc_type == \"txt\":\n",
    "            return font_size\n",
    "        if doc_type == \"md\":\n",
    "            return font_size * 2\n",
    "        if doc_type == \"docx\":\n",
    "            return font_size * 3\n",
    "        raise ValueError(\"Invalid doc type\")\n",
    "    return get_doc_type"
   ]
  },
  {
   "cell_type": "code",
   "execution_count": null,
   "metadata": {},
   "outputs": [],
   "source": [
    "# TESTS\n",
    "\n",
    "run_cases = [\n",
    "    (12, \"txt\", 12),\n",
    "    (16, \"md\", 32),\n",
    "]\n",
    "\n",
    "submit_cases = run_cases + [\n",
    "    (14, \"html\", \"Invalid doc type\"),\n",
    "    (24, \"docx\", 72),\n",
    "    (0, \"txt\", 0),\n",
    "    (50, \"md\", 100),\n",
    "    (1, \"docx\", 3),\n",
    "]\n",
    "\n",
    "\n",
    "def test(input1, input2, expected_output):\n",
    "    print(\"---------------------------------\")\n",
    "    print(f\"Inputs:\")\n",
    "    print(f\" * font_size: {input1}\")\n",
    "    print(f\" * doc_type: {input2}\")\n",
    "    print(f\"Expecting: {expected_output}\")\n",
    "    try:\n",
    "        result = converted_font_size(input1)(input2)\n",
    "    except Exception as error:\n",
    "        result = str(error)\n",
    "    print(f\"Actual: {result}\")\n",
    "    if result == expected_output:\n",
    "        print(\"Pass\")\n",
    "        return True\n",
    "    print(\"Fail\")\n",
    "    return False\n",
    "\n",
    "\n",
    "def main():\n",
    "    passed = 0\n",
    "    failed = 0\n",
    "    for test_case in test_cases:\n",
    "        correct = test(*test_case)\n",
    "        if correct:\n",
    "            passed += 1\n",
    "        else:\n",
    "            failed += 1\n",
    "    if failed == 0:\n",
    "        print(\"============= PASS ==============\")\n",
    "    else:\n",
    "        print(\"============= FAIL ==============\")\n",
    "    print(f\"{passed} passed, {failed} failed\")\n",
    "\n",
    "\n",
    "test_cases = submit_cases\n",
    "if \"__RUN__\" in globals():\n",
    "    test_cases = run_cases\n",
    "\n",
    "main()\n"
   ]
  }
 ],
 "metadata": {
  "kernelspec": {
   "display_name": ".venv",
   "language": "python",
   "name": "python3"
  },
  "language_info": {
   "codemirror_mode": {
    "name": "ipython",
    "version": 3
   },
   "file_extension": ".py",
   "mimetype": "text/x-python",
   "name": "python",
   "nbconvert_exporter": "python",
   "pygments_lexer": "ipython3",
   "version": "3.12.1"
  }
 },
 "nbformat": 4,
 "nbformat_minor": 2
}
