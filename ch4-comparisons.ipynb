{
 "cells": [
  {
   "cell_type": "markdown",
   "metadata": {},
   "source": [
    "# Comparison Operators\n",
    "\n",
    "When coding it's necessary to be able to compare two values. `Boolean logic` is the name for these kinds of comparison operations that always result in `True` or `False`.\n",
    "\n",
    "The operators:\n",
    "\n",
    "- `<` \"less than\"\n",
    "- `>` \"greater than\"\n",
    "- `<=` \"less than or equal to\"\n",
    "- `>=` \"greater than or equal to\"\n",
    "- `==` \"equal to\"\n",
    "- `!=` \"not equal to\"\n",
    "\n",
    "For example:\n",
    "\n",
    ">```py\n",
    ">5 < 6 # evaluates to True\n",
    ">5 > 6 # evaluates to False\n",
    ">5 >= 6 # evaluates to False\n",
    ">5 <= 6 # evaluates to True\n",
    ">5 == 6 # evaluates to False\n",
    ">5 != 6 # evaluates to True\n",
    "\n",
    "## Assignment\n",
    "\n",
    "Change the _operators_ in the code so that each statement evaluates to `True` if it doesn't already.\n"
   ]
  },
  {
   "cell_type": "code",
   "execution_count": null,
   "metadata": {},
   "outputs": [],
   "source": [
    "print(5 < 6)\n",
    "print(5 != 6)\n",
    "print(5 == 5)\n",
    "print(6 >= 6)\n"
   ]
  },
  {
   "cell_type": "markdown",
   "metadata": {},
   "source": [
    "# Comparison Operator Evaluations\n",
    "\n",
    "When a comparison happens, the result of the comparison is just a boolean value, it's either `True` or `False`.\n",
    "\n",
    "Take the following two examples:\n",
    "\n",
    ">```py\n",
    ">is_bigger = 5 > 4\n",
    ">\n",
    ">is_bigger = True\n",
    "\n",
    "In both of the above cases, we're creating a `Boolean` variable called `is_bigger` with a value of `True`.\n",
    "\n",
    "Since `5 > 4`, `is_bigger` is always assigned the value of `True`.\n",
    "\n",
    "## Why would I use the comparison if I can just set it to \"True\"?\n",
    "\n",
    "You wouldn't in _this_ case. However, let's imagine that instead of hard-coding the numbers `5` and `4`, we had some _dynamic_ variables that we don't know the values of. For example, perhaps you're making a video game and need to keep track of player scores.\n",
    "\n",
    "In order to calculate who wins, you would need to write something like:\n",
    "\n",
    ">```py\n",
    "># player_one_points and player_two_points are defined and change somewhere else in the game's code\n",
    ">player_one_wins = player_one_points > player_two_points\n",
    ">print(player_one_wins)\n",
    ">\n",
    "># prints \"True\" when player one is winning, otherwise prints \"False\"\n",
    "\n",
    "## Assignment\n",
    "\n",
    "Use comparison operators to assign the correct boolean values to the missing variables.\n"
   ]
  },
  {
   "cell_type": "code",
   "execution_count": null,
   "metadata": {},
   "outputs": [],
   "source": [
    "elon_height = 5\n",
    "sara_height = 10\n",
    "jill_height = 7\n",
    "bob_height = 6\n",
    "\n",
    "# don't edit above this line\n",
    "\n",
    "bobTallerThanElon = bob_height > elon_height\n",
    "saraTallerThanElon = sara_height > elon_height\n",
    "jillTallerThanSara = jill_height > sara_height\n",
    "\n",
    "# don't edit below this line\n",
    "\n",
    "print(type(bobTallerThanElon))\n",
    "print(bobTallerThanElon)\n",
    "print(type(saraTallerThanElon))\n",
    "print(saraTallerThanElon)\n",
    "print(type(jillTallerThanSara))\n",
    "print(jillTallerThanSara)\n"
   ]
  },
  {
   "cell_type": "markdown",
   "metadata": {},
   "source": [
    "# Comparison Practice\n",
    "\n",
    ">```py\n",
    ">car_size = 4\n",
    ">truck_size = 5\n",
    ">is_smaller = car_size < truck_size\n",
    "># isSmaller is True \n",
    "\n",
    "## Assignment\n",
    "\n",
    "On line `6` create a variable called `enough_armor` and use a comparison operator to set it to `True` or `False` depending on whether `hero_armor` is greater than or equal to `enemy_damage`.\n"
   ]
  },
  {
   "cell_type": "code",
   "execution_count": null,
   "metadata": {},
   "outputs": [],
   "source": [
    "hero_armor = 175\n",
    "enemy_damage = 250\n",
    "\n",
    "# Don't touch above this line\n",
    "\n",
    "enough_armor = hero_armor >= enemy_damage\n",
    "\n",
    "# Don't touch below this line\n",
    "\n",
    "print(\"Your armor can withstand the enemies blows:\", enough_armor)\n"
   ]
  },
  {
   "cell_type": "markdown",
   "metadata": {},
   "source": [
    "# Increment / Decrement\n",
    "\n",
    "If we're changing a number and simply want to increment (add to) or decrement (subtract from) there are special operators for that.\n",
    "\n",
    ">```py\n",
    ">shield_armor = 4\n",
    ">shield_armor += 1\n",
    "># shield_armor now equals 5\n",
    ">shield_armor += 2\n",
    "># shield_armor now equals 7\n",
    ">\n",
    ">shield_armor = 4\n",
    ">shield_armor -= 1\n",
    "># shield_armor now equals 3\n",
    ">shield_armor -= 2\n",
    "># shield_armor now equals 1\n",
    "\n",
    "Notice that `shield_armor+=1` is just short-hand for `shield_armor = shield_armor + 1`\n",
    "\n",
    "## Assignment\n",
    "\n",
    "Decrement `shield_armor` by 3 on line `7`.\n"
   ]
  },
  {
   "cell_type": "code",
   "execution_count": null,
   "metadata": {},
   "outputs": [],
   "source": [
    "shield_armor = 5\n",
    "\n",
    "print(\"shield_armor was: \" + str(shield_armor))\n",
    "\n",
    "# Don't touch above this line\n",
    "\n",
    "shield_armor -= 3\n",
    "\n",
    "# Don't touch below this line\n",
    "\n",
    "print(\"shield_armor is: \" + str(shield_armor))\n"
   ]
  },
  {
   "cell_type": "markdown",
   "metadata": {},
   "source": [
    "# If Statements\n",
    "\n",
    "It's often useful to only execute code if a certain condition is met:\n",
    "\n",
    ">```py\n",
    ">if CONDITION:\n",
    ">  # do some stuff here\n",
    "\n",
    "for example:\n",
    "\n",
    ">```py\n",
    ">if bob_score > bill_score:\n",
    ">  print(\"Bob Wins!\")\n",
    "\n",
    "## Assignment\n",
    "\n",
    "Take a look at the code. Edit `player_health` on line 1 so that the code prints `dead!`\n"
   ]
  },
  {
   "cell_type": "code",
   "execution_count": null,
   "metadata": {},
   "outputs": [],
   "source": [
    "player_health = 0\n",
    "\n",
    "# Don't edit below this line\n",
    "\n",
    "if player_health == 0:\n",
    "    print(\"dead!\")\n",
    "\n",
    "if player_health > 0:\n",
    "    print(\"alive!\")\n"
   ]
  },
  {
   "cell_type": "markdown",
   "metadata": {},
   "source": [
    "# If Practice\n",
    "\n",
    ">```py\n",
    ">if bob_score > bill_score:\n",
    ">  print('Bob Wins!')\n",
    "\n",
    "## Assignment\n",
    "\n",
    "Complete line `6`. It should only log the warning message if `number_of_swords` is less than `number_of_soldiers`\n"
   ]
  },
  {
   "cell_type": "code",
   "execution_count": null,
   "metadata": {},
   "outputs": [],
   "source": [
    "number_of_swords = 500\n",
    "number_of_soldiers = 1000\n",
    "\n",
    "## Don't touch above this line\n",
    "\n",
    "if number_of_swords < number_of_soldiers:\n",
    "    print(\"We do not have enough swords for the army!\")\n"
   ]
  },
  {
   "cell_type": "markdown",
   "metadata": {},
   "source": [
    "# If-Else\n",
    "\n",
    "An `if` statement can be followed by zero or more `elif` (which stands for \"else if\") statements, which can be followed by zero or one `else` statement. For example:\n",
    "\n",
    ">```py\n",
    ">if score > high_Score:\n",
    ">    print('High score beat!')\n",
    ">elif score > second_highest_score:\n",
    ">    print('You got second place!')\n",
    ">elif score > third_highest_score:\n",
    ">    print('You got third place!')\n",
    ">else:\n",
    ">    print('Better luck next time')\n",
    "\n",
    "First the `if` statement is evaluated. If it is `True` then the if statement's body is executed and all the other `else`s are ignored.\n",
    "\n",
    "If the first `if` is false then the next `elif` is evaluated. Likewise if it is `True` then its body is executed and the rest are ignored.\n",
    "\n",
    "If none of the `if` statements evaluate to `True` then the final `else` statement will be the only body executed.\n",
    "\n",
    "## Assignment\n",
    "\n",
    "Complete the code, it's missing some conditions! It should print `dead` if `player_health` is `0`, otherwise it should print `injured` if `player_health` is less than `5`, if neither of those are the case it should print `alive`.\n",
    "Note\n",
    "\n",
    "For now, the `player_health` in the test code is always `4`, so your output will always be `injured`. We'll learn how to write more dynamic programs in future assignments!\n"
   ]
  },
  {
   "cell_type": "code",
   "execution_count": null,
   "metadata": {},
   "outputs": [],
   "source": [
    "player_health = 4\n",
    "\n",
    "## Don't touch above this line\n",
    "\n",
    "if player_health == 0:\n",
    "    print(\"dead\")\n",
    "elif player_health < 5:\n",
    "    print(\"injured\")\n",
    "else:\n",
    "    print(\"alive\")\n"
   ]
  },
  {
   "cell_type": "markdown",
   "metadata": {},
   "source": [
    "## If-Else Practice\n",
    "\n",
    "Here are some basic rules with if/else blocks.\n",
    "\n",
    "- You can't have an `elif` or an `else` without an `if`\n",
    "- You can have an `else` without an `elif`\n",
    "\n",
    "Remember, to check if two values are the same use the `==` operator.\n",
    "\n",
    ">```py\n",
    ">same = 5 == 6\n",
    "># same is false\n",
    ">\n",
    ">same = 6 == 6\n",
    "># same is true\n",
    "\n",
    "Assignment\n",
    "\n",
    "There's a bug in our code on line `6`! Edit the code so that if `current_player_name` is the same as `high_scoring_player_name` it logs `You are the highest scoring player!`. If they aren't the same, it should log `You are not the highest scoring player`.\n"
   ]
  },
  {
   "cell_type": "code",
   "execution_count": null,
   "metadata": {},
   "outputs": [],
   "source": [
    "current_player_name = \"ash ketchum\"\n",
    "high_scoring_player_name = \"ash ketchum\"\n",
    "\n",
    "# Don't touch above this line\n",
    "\n",
    "if current_player_name == high_scoring_player_name:\n",
    "    print(\"You are the highest scoring player!\")\n",
    "else:\n",
    "    print(\"You are not the highest scoring player\")\n"
   ]
  },
  {
   "cell_type": "markdown",
   "metadata": {},
   "source": [
    "# If-Else Practice\n",
    "\n",
    "Here are some basic rules with if/else blocks.\n",
    "\n",
    "- You can't have an `elif` or an `else` without an `if`\n",
    "- You can have an `else` without an `elif`\n",
    "\n",
    "## Assignment\n",
    "\n",
    "Edit lines `7` and `9`, they're missing their conditions!\n",
    "\n",
    "If `current_player_name` is the same as `high_scoring_player_name` the code should print `You are the highest scoring player!`. Otherwise, if `current_player_name` is the same as `lowest_scoring_player_name` the code should print `You are the lowest scoring player!`.\n"
   ]
  },
  {
   "cell_type": "code",
   "execution_count": null,
   "metadata": {},
   "outputs": [],
   "source": [
    "current_player_name = \"brock harrison\"\n",
    "high_scoring_player_name = \"ash ketchum\"\n",
    "lowest_scoring_player_name = \"brock harrison\"\n",
    "\n",
    "# Don't touch above this line\n",
    "\n",
    "if current_player_name == high_scoring_player_name:\n",
    "    print(\"You are the highest scoring player!\")\n",
    "elif current_player_name == lowest_scoring_player_name:\n",
    "    print(\"You are the lowest scoring player!\")\n"
   ]
  }
 ],
 "metadata": {
  "kernelspec": {
   "display_name": "Python 3.9.6 64-bit",
   "language": "python",
   "name": "python3"
  },
  "language_info": {
   "codemirror_mode": {
    "name": "ipython",
    "version": 3
   },
   "file_extension": ".py",
   "mimetype": "text/x-python",
   "name": "python",
   "nbconvert_exporter": "python",
   "pygments_lexer": "ipython3",
   "version": "3.9.6"
  },
  "orig_nbformat": 4,
  "vscode": {
   "interpreter": {
    "hash": "31f2aee4e71d21fbe5cf8b01ff0e069b9275f58929596ceb00d14d90e3e16cd6"
   }
  }
 },
 "nbformat": 4,
 "nbformat_minor": 2
}
