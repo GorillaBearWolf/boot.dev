{
 "cells": [
  {
   "cell_type": "markdown",
   "metadata": {},
   "source": [
    "# Variables\n",
    "\n",
    "[Variables](https://www.cs.utah.edu/~germain/PPS/Topics/variables.html) are how we store data in our program. So far we've been directly printing data by passing it directly into the `print()` function.\n",
    "\n",
    "Now we are going to learn to save the data in variables so we can use and change it before we need to print it.\n",
    "\n",
    "A variable is a name that we define that will point to some data. For example, I could define a new variable called `my_height` and set its value to `100`. I could also define a variable called `my_name` and set it equal to `Lane`.\n",
    "\n",
    "## Creating variables\n",
    "\n",
    "To create a new variable in Python we use the following syntax:\n",
    "\n",
    "> ```python\n",
    "> my_new_variable_two = 2\n",
    "> this_can_be_called_anything = 3\n",
    "\n",
    "## Assignment\n",
    "\n",
    "We need to keep track of our hero's health!\n",
    "\n",
    "On the first line of code, create a new variable named `player_health` and set it equal to `1000`.\n"
   ]
  },
  {
   "cell_type": "code",
   "execution_count": 1,
   "metadata": {},
   "outputs": [
    {
     "name": "stdout",
     "output_type": "stream",
     "text": [
      "1000\n"
     ]
    }
   ],
   "source": [
    "player_health = 1_000\n",
    "\n",
    "print(player_health)\n"
   ]
  },
  {
   "cell_type": "markdown",
   "metadata": {},
   "source": [
    "# Variables Vary\n",
    "\n",
    "Variables are called \"variables\" because they can hold any value and that value can change (it varies).\n",
    "\n",
    "For example, the following will print `20`:\n",
    "\n",
    "> ```python\n",
    "> acceleration = 10\n",
    "> acceleration = 20\n",
    "> print(acceleration)\n",
    "\n",
    "The line `acceleration = 20` reassigns the value of `acceleration` to 20. It overwrites whatever was being held in the `acceleration` variable before.\n",
    "\n",
    "## Assignment\n",
    "\n",
    "We need to reduce our hero's health as they take damage in the game.\n",
    "\n",
    "Before each `print()` function in the provided code, change the value of `player_health` to be 100 less than it was before.\n"
   ]
  },
  {
   "cell_type": "code",
   "execution_count": 3,
   "metadata": {},
   "outputs": [
    {
     "name": "stdout",
     "output_type": "stream",
     "text": [
      "900\n",
      "800\n",
      "700\n",
      "600\n"
     ]
    }
   ],
   "source": [
    "player_health = 1000\n",
    "\n",
    "player_health = player_health - 100\n",
    "\n",
    "print(player_health)\n",
    "\n",
    "player_health = player_health - 100\n",
    "\n",
    "print(player_health)\n",
    "\n",
    "player_health = player_health - 100\n",
    "\n",
    "print(player_health)\n",
    "\n",
    "player_health = player_health - 100\n",
    "\n",
    "print(player_health)\n"
   ]
  },
  {
   "cell_type": "markdown",
   "metadata": {},
   "source": [
    "# Let's do some math\n",
    "\n",
    "Now that we know how to store and change the value of variables let's do some math!\n",
    "\n",
    "Here are some examples of common mathematical operators in Python syntax.\n",
    "\n",
    "> ```python\n",
    "> sum = a + b\n",
    "> difference = a - b\n",
    "> product = a * b\n",
    "> quotient = a / b\n",
    "\n",
    "## Assignment\n",
    "\n",
    "Create a new variable called `armored_health` on line 4 and set it equal to `player_health * armor_multiplier`\n"
   ]
  },
  {
   "cell_type": "code",
   "execution_count": 4,
   "metadata": {},
   "outputs": [
    {
     "name": "stdout",
     "output_type": "stream",
     "text": [
      "2000\n"
     ]
    }
   ],
   "source": [
    "player_health = 1000\n",
    "armor_multiplier = 2\n",
    "\n",
    "armored_health = player_health * armor_multiplier\n",
    "print(armored_health)\n"
   ]
  },
  {
   "cell_type": "markdown",
   "metadata": {},
   "source": [
    "# Let's do some more math\n",
    "\n",
    "Creating negative numbers in Python works the way you probably expect, just add a minus sign in front of a number.\n",
    "\n",
    "> ```python\n",
    "> my_negative_num = -1\n",
    "\n",
    "## Assignment\n",
    "\n",
    "When our hero walks through poison, their health should be reduced. Change the `poison_damage` variable to be negative.\n",
    "\n",
    "## Fun Fact\n",
    "\n",
    "Computers can do math on really big numbers very quickly.\n"
   ]
  },
  {
   "cell_type": "code",
   "execution_count": 5,
   "metadata": {},
   "outputs": [
    {
     "name": "stdout",
     "output_type": "stream",
     "text": [
      "6783334623881\n"
     ]
    }
   ],
   "source": [
    "player_health = 6783424367754\n",
    "poison_damage = -89743873\n",
    "\n",
    "player_poison_health = player_health + poison_damage\n",
    "\n",
    "print(player_poison_health)\n"
   ]
  },
  {
   "cell_type": "markdown",
   "metadata": {},
   "source": [
    "# Comments\n",
    "\n",
    "Comments don't run like code, they are ignored by the computer. Comments are useful for adding reminders or explaining what a piece of code does in plain english.\n",
    "\n",
    "## Single line comment\n",
    "\n",
    "> ```python\n",
    "> # speed is a variable describing how fast your player moves\n",
    "> speed = 2\n",
    "\n",
    "## Multi line comments (aka docstrings)\n",
    "\n",
    "You can use triple quotes to start and end multi-line comments as well:\n",
    "\n",
    "> ```python\n",
    "> \"\"\"\n",
    ">     the code found below\n",
    ">     will print 'Hello, World!' to the console\n",
    "> \"\"\"\n",
    "> print('Hello, World!')\n",
    "\n",
    "This is useful if you don't want to add the `#` to the start of each line when writing paragraphs of comments.\n",
    "\n",
    "## Assignment\n",
    "\n",
    "Line #1 in the code was meant to be a comment, but the developer forgot to use the right syntax (`#`). Fix the bug by making the first line in the code a comment.\n"
   ]
  },
  {
   "cell_type": "code",
   "execution_count": 6,
   "metadata": {},
   "outputs": [
    {
     "name": "stdout",
     "output_type": "stream",
     "text": [
      "scimitar\n"
     ]
    }
   ],
   "source": [
    "# the bestSword variable holds the value of the best sword in the game\n",
    "best_sword = \"scimitar\"\n",
    "print(best_sword)\n"
   ]
  },
  {
   "cell_type": "markdown",
   "metadata": {},
   "source": [
    "# Variable Names\n",
    "\n",
    "Variable names can't have spaces, they're continuous strings of characters.\n",
    "\n",
    "In Python you should use \"snake_case\" when creating variable names - it's become the \"rule of thumb\" for the language. By way of comparison, \"camel case\" is where the beginning of each new word except the first is capitalized.\n",
    "\n",
    "## Casing Examples\n",
    "\n",
    "No casing:\n",
    "\n",
    "> ```python\n",
    "> somevariablehere = 10\n",
    "\n",
    "Camel Case:\n",
    "\n",
    "> ```python\n",
    "> someVariableHere = 10\n",
    "\n",
    "Snake Case:\n",
    "\n",
    "> ```python\n",
    "> some_variable_here = 10\n"
   ]
  },
  {
   "cell_type": "markdown",
   "metadata": {},
   "source": [
    "# Basic Variable Types\n",
    "\n",
    "In Python there are several basic data types.\n",
    "\n",
    "## String Type\n",
    "\n",
    "\"Strings\" are raw text in coding speak. They are called \"strings\" because they are a list of characters strung together. Strings are declared in Python by using single quotes or double quotes. That said, for consistency's sake, we prefer double quotes.\n",
    "\n",
    "> ```python\n",
    "> name_with_single_quotes = 'boot.dev'\n",
    "> name_With_double_quotes = \"boot.dev\"\n",
    "\n",
    "## Numeric Types\n",
    "\n",
    "Numbers aren't surrounded by quotes when created, but they can have decimals and negative signs.\n",
    "\n",
    "## Integers are numbers without a decimal\n",
    "\n",
    "> ```python\n",
    "> x = 5\n",
    "> y = -5\n",
    "\n",
    "## A \"Float\" is a number with a decimal\n",
    "\n",
    "> ```python\n",
    "> x = 5.2\n",
    "> y = -5.2\n",
    "\n",
    "## Boolean Type\n",
    "\n",
    "A \"Boolean\" (or \"bool\") is a type that can only have one of two values: `True` or `False`. As you may have heard computers really only use 1's and 0's. These 1's and 0's are just `Boolean` values.\n",
    "\n",
    "> ```python\n",
    "> 0 = False\n",
    "> 1 = True\n",
    "\n",
    "> ```python\n",
    "> is_tall = True\n",
    "\n",
    "## Assignment\n",
    "\n",
    "Fix the bugs in the code to move on. `player_health` should be an integer and `player_has_magic` should be a boolean.\n"
   ]
  },
  {
   "cell_type": "code",
   "execution_count": 7,
   "metadata": {},
   "outputs": [
    {
     "name": "stdout",
     "output_type": "stream",
     "text": [
      "player_health is a/an <class 'int'>\n",
      "player_has_magic is a/an <class 'bool'>\n"
     ]
    }
   ],
   "source": [
    "player_health = 100\n",
    "\n",
    "player_has_magic = True\n",
    "\n",
    "# don't touch below this line\n",
    "print(f\"player_health is a/an {type(player_health)}\")\n",
    "print(f\"player_has_magic is a/an {type(player_has_magic)}\")\n"
   ]
  }
 ],
 "metadata": {
  "kernelspec": {
   "display_name": "Python 3.9.6 64-bit",
   "language": "python",
   "name": "python3"
  },
  "language_info": {
   "codemirror_mode": {
    "name": "ipython",
    "version": 3
   },
   "file_extension": ".py",
   "mimetype": "text/x-python",
   "name": "python",
   "nbconvert_exporter": "python",
   "pygments_lexer": "ipython3",
   "version": "3.9.6"
  },
  "orig_nbformat": 4,
  "vscode": {
   "interpreter": {
    "hash": "31f2aee4e71d21fbe5cf8b01ff0e069b9275f58929596ceb00d14d90e3e16cd6"
   }
  }
 },
 "nbformat": 4,
 "nbformat_minor": 2
}
