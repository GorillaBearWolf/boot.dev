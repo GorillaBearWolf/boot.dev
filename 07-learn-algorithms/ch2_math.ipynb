{
 "cells": [
  {
   "cell_type": "markdown",
   "metadata": {},
   "source": [
    "# EXPONENTS"
   ]
  },
  {
   "cell_type": "code",
   "execution_count": null,
   "metadata": {},
   "outputs": [],
   "source": [
    "def get_estimated_spread(audiences_followers):\n",
    "    total = 0\n",
    "    n = len(audiences_followers)\n",
    "    for i in audiences_followers:\n",
    "        total += i\n",
    "    average = total / n\n",
    "    return average * (n ** 1.2)\n",
    "\n",
    "\n",
    "# don't touch below this line\n",
    "\n",
    "\n",
    "def test(nums):\n",
    "    res = round(get_estimated_spread(nums))\n",
    "    print(f\"Follower counts: {nums}\")\n",
    "    print(f\"Estimated spread: {res}\")\n",
    "    print(\"====================================\")\n",
    "\n",
    "\n",
    "def main():\n",
    "    test([7, 4, 3, 100, 765, 2344, 1, 2, 32])\n",
    "    test([12, 12, 12])\n",
    "    test([10, 200, 3000, 5000, 4])\n",
    "\n",
    "\n",
    "main()\n"
   ]
  },
  {
   "cell_type": "markdown",
   "metadata": {},
   "source": [
    "# EXPONENTS GROW VERY QUICKLY"
   ]
  },
  {
   "cell_type": "code",
   "execution_count": null,
   "metadata": {},
   "outputs": [],
   "source": [
    "def get_follower_prediction(follower_count, influencer_type, num_months):\n",
    "    if influencer_type == \"fitness\":\n",
    "        return follower_count * 4 ** num_months\n",
    "    if influencer_type == \"cosmetic\":\n",
    "        return follower_count * 3 ** num_months\n",
    "    else:\n",
    "        return follower_count * 2 ** num_months\n",
    "\n",
    "\n",
    "# don't touch below this line\n",
    "\n",
    "\n",
    "def test(follower_count, influencer_type, num_months):\n",
    "    predicted = get_follower_prediction(follower_count, influencer_type, num_months)\n",
    "    print(f\"- Follower count: {follower_count}\")\n",
    "    print(f\"- Type: {influencer_type}\")\n",
    "    print(f\"- Months: {num_months}\")\n",
    "    print(f\"Prediction: {predicted}\")\n",
    "    print(\"====================================\")\n",
    "\n",
    "\n",
    "def main():\n",
    "    test(10, \"fitness\", 1)\n",
    "    test(10, \"fitness\", 2)\n",
    "    test(10, \"fitness\", 4)\n",
    "    test(12, \"cosmetic\", 4)\n",
    "    test(15, \"business\", 4)\n",
    "    test(10, \"fitness\", 5)\n",
    "    test(10, \"fitness\", 6)\n",
    "    test(10, \"fitness\", 7)\n",
    "    test(10, \"fitness\", 8)\n",
    "    test(10, \"fitness\", 9)\n",
    "\n",
    "\n",
    "main()\n"
   ]
  },
  {
   "cell_type": "markdown",
   "metadata": {},
   "source": [
    "# WHAT IS A LOGARITHM?"
   ]
  },
  {
   "cell_type": "code",
   "execution_count": null,
   "metadata": {},
   "outputs": [],
   "source": [
    "import math\n",
    "\n",
    "\n",
    "def get_influencer_score(num_followers, average_engagement_percentage):\n",
    "    return average_engagement_percentage * math.log(num_followers, 2)\n",
    "\n",
    "\n",
    "# don't touch below this line\n",
    "\n",
    "\n",
    "def test(num_followers, average_engagement_percentage):\n",
    "    influencer_score = round(\n",
    "        get_influencer_score(num_followers, average_engagement_percentage)\n",
    "    )\n",
    "    print(f\"- num_followers: {num_followers}\")\n",
    "    print(f\"- average_engagement_percentage: {average_engagement_percentage}\")\n",
    "    print(f\"Influencer score: {influencer_score}\")\n",
    "    print(\"====================================\")\n",
    "\n",
    "\n",
    "def main():\n",
    "    test(40000, 0.3)\n",
    "    test(43000, 0.1)\n",
    "    test(100000, 0.6)\n",
    "    test(200, 0.8)\n",
    "\n",
    "\n",
    "main()\n"
   ]
  },
  {
   "cell_type": "markdown",
   "metadata": {},
   "source": [
    "# FACTORIALS"
   ]
  },
  {
   "cell_type": "code",
   "execution_count": null,
   "metadata": {},
   "outputs": [],
   "source": [
    "def num_possible_orders(num_posts):\n",
    "    fact = 1\n",
    "    for num in range(2, num_posts + 1):\n",
    "        fact *= num\n",
    "    return fact\n",
    "\n",
    "\n",
    "# don't touch below this line\n",
    "\n",
    "\n",
    "def test(num_posts):\n",
    "    orders = num_possible_orders(num_posts)\n",
    "    print(f\"- num_posts: {num_posts}\")\n",
    "    print(f\"Possible orders: {orders}\")\n",
    "    print(\"====================================\")\n",
    "\n",
    "\n",
    "def main():\n",
    "    test(2)\n",
    "    test(3)\n",
    "    test(5)\n",
    "    test(10)\n",
    "    test(7)\n",
    "    test(9)\n",
    "    test(11)\n",
    "\n",
    "\n",
    "main()\n"
   ]
  },
  {
   "cell_type": "markdown",
   "metadata": {},
   "source": [
    "# EXPONENTIAL DECAY"
   ]
  },
  {
   "cell_type": "code",
   "execution_count": null,
   "metadata": {},
   "outputs": [],
   "source": [
    "def decayed_followers(intl_followers, fraction_lost_daily, days):\n",
    "    return intl_followers * (1 - fraction_lost_daily) ** days\n",
    "\n",
    "    # for i in range(days):\n",
    "    #     intl_followers -= intl_followers * fraction_lost_daily\n",
    "    # return intl_followers\n",
    "\n",
    "\n",
    "# don't touch below this line\n",
    "\n",
    "\n",
    "def test(intl_followers, fraction_lost_daily, days):\n",
    "    final_value = round(decayed_followers(intl_followers, fraction_lost_daily, days))\n",
    "    print(f\"- Initial followers: {intl_followers}\")\n",
    "    print(f\"- Decay rate: {fraction_lost_daily}\")\n",
    "    print(f\"- Days: {days}\")\n",
    "    print(f\"Final followers: {final_value}\")\n",
    "    print(\"=====================================\")\n",
    "\n",
    "\n",
    "def main():\n",
    "    test(200, 0.5, 1)\n",
    "    test(200, 0.5, 2)\n",
    "    test(200, 0.5, 3)\n",
    "\n",
    "    test(1000, 0.005, 2)\n",
    "    test(1000, 0.05, 3)\n",
    "\n",
    "    test(1200, 0.55, 8)\n",
    "    test(1200, 0.09, 16)\n",
    "\n",
    "\n",
    "main()\n"
   ]
  },
  {
   "cell_type": "markdown",
   "metadata": {},
   "source": [
    "# TODO LOGARITHMIC SCALE "
   ]
  },
  {
   "cell_type": "code",
   "execution_count": null,
   "metadata": {},
   "outputs": [],
   "source": [
    "import math\n",
    "\n",
    "\n",
    "def log_scale(data, base):\n",
    "    return [math.log(num, base) for num in data]\n",
    "\n",
    "\n",
    "# don't touch below this line\n",
    "\n",
    "\n",
    "def test(data, base):\n",
    "    scaled_data = log_scale(data, base)\n",
    "    for i in range(0, len(scaled_data)):\n",
    "        scaled_data[i] = round(scaled_data[i], 2)\n",
    "\n",
    "    print(f\"- Data: {data}\")\n",
    "    print(f\"- Base: {base}\")\n",
    "    print(f\"Scaled data: {scaled_data}\")\n",
    "    print(\"=====================================\")\n",
    "\n",
    "\n",
    "def main():\n",
    "    test([1, 10, 100, 1000], 10)\n",
    "    test([1, 2, 4, 8, 16], 2)\n",
    "    test([100, 1000, 10000], 4)\n",
    "\n",
    "\n",
    "main()\n"
   ]
  }
 ],
 "metadata": {
  "kernelspec": {
   "display_name": "Python 3",
   "language": "python",
   "name": "python3"
  },
  "language_info": {
   "codemirror_mode": {
    "name": "ipython",
    "version": 3
   },
   "file_extension": ".py",
   "mimetype": "text/x-python",
   "name": "python",
   "nbconvert_exporter": "python",
   "pygments_lexer": "ipython3",
   "version": "3.11.4"
  },
  "orig_nbformat": 4
 },
 "nbformat": 4,
 "nbformat_minor": 2
}
