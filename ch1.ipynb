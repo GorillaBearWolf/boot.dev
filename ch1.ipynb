{
 "cells": [
  {
   "attachments": {},
   "cell_type": "markdown",
   "metadata": {},
   "source": [
    "# Welcome to \"Learn Python\"\n",
    "\n",
    "Welcome, I'm Lane, founder and author of Boot.dev! Let's get started writing code! Press the gray \"run\" button in the bottom-right of your screen. You'll see the code's text output is printed in the darker-gray box below the button.\n",
    "\n",
    "## Let's build a game: \"Fantasy Quest\"\n",
    "\n",
    "In this course we'll learn Python by writing the building blocks of a text-based game called \"Fantasy Quest\"!\n",
    "\n",
    "### Assignment\n",
    "\n",
    "We need to prompt the player to create a username. Edit the code so that it prints:\n",
    "\n",
    "> Enter a username\n",
    "\n",
    "When you think you have it right, click the blue \"submit\" button to check your work.\n",
    "\n",
    "#### Tip: Exactness matters\n",
    "\n",
    "Coding requires precision! Make sure your code prints exactly what is asked for, including any capitals or punctuation.\n"
   ]
  },
  {
   "cell_type": "code",
   "execution_count": 3,
   "metadata": {},
   "outputs": [
    {
     "name": "stdout",
     "output_type": "stream",
     "text": [
      "Enter a username\n"
     ]
    }
   ],
   "source": [
    "print(\"Enter a username\")\n"
   ]
  },
  {
   "attachments": {},
   "cell_type": "markdown",
   "metadata": {},
   "source": [
    "## Fix Your First Bug\n",
    "\n",
    "The combat system in Fantasy Quest isn't working as intended! It appears that players are gaining health when attacked instead of losing it.\n",
    "\n",
    "### Assignment\n",
    "\n",
    "Fix the math bug on line 3."
   ]
  },
  {
   "cell_type": "code",
   "execution_count": null,
   "metadata": {},
   "outputs": [],
   "source": [
    "sword_damage = 10\n",
    "player_health = 100\n",
    "health_after_attack = player_health - sword_damage\n",
    "\n",
    "# Don't touch below this line\n",
    "print(f\"Lollilfred's health is: {player_health}\")\n",
    "print(f\"Lollilfred is hit by a sword for {sword_damage} damage...\")\n",
    "print(f\"Lollilfred's health is now: {health_after_attack}\")"
   ]
  },
  {
   "attachments": {},
   "cell_type": "markdown",
   "metadata": {},
   "source": [
    "# The Console\n",
    "\n",
    "The \"console\" is a panel that displays important messages, like errors or the text output of a program. If we want to see what's happening in our code, we need to print it to the console.\n",
    "\n",
    "You've already used the console, it's that panel below your code in the bottom-right of your screen.\n",
    "\n",
    "Let's practice again! To print text to the console, you'll use the `print()` function. We'll learn more about functions later, but for now just know that the `print()` function will print anything you put inside its parentheses.\n",
    "\n",
    "### Assignment\n",
    "\n",
    "We need to give our players an instruction! Print the following text to the console:\n",
    "\n",
    "> Press the spacebar\n",
    "\n",
    "Here's an example\n",
    "\n",
    "> ```python\n",
    "> print(\"example text to print\")\n"
   ]
  },
  {
   "cell_type": "code",
   "execution_count": 5,
   "metadata": {},
   "outputs": [
    {
     "name": "stdout",
     "output_type": "stream",
     "text": [
      "Press the spacebar\n"
     ]
    }
   ],
   "source": [
    "print(\"Press the spacebar\")"
   ]
  },
  {
   "attachments": {},
   "cell_type": "markdown",
   "metadata": {},
   "source": [
    "# What is \"Code\"?\n",
    "\n",
    "Code is just a series of instructions that computers can follow. Computers obey each instruction, one after another.\n",
    "\n",
    "Programs can be comprised of many instructions. Like many. Like millions.\n",
    "\n",
    "One of the most common instructions in coding is the addition instruction.\n",
    "\n",
    "## Printing numbers\n",
    "\n",
    "`print()` can print text using quotes:\n",
    "\n",
    "> ```python\n",
    "> print(\"some text here\")\n",
    "\n",
    "but it can also print numbers without quotes:\n",
    "\n",
    "> ```python\n",
    "> print(1)\n",
    "\n",
    "and you can do math directly inside the parentheses:\n",
    "\n",
    "> ```python\n",
    "> print(1 + 2)\n",
    "\n",
    "### Assignment\n",
    "\n",
    "It's common in videogames to do basic addition. For example, we may need to calculate the additional damage a sword deals when it is enchanted with a spell.\n",
    "\n",
    "Our hero's sword does `250` normally, but does an additional `75` damage when it's enchanted.\n",
    "\n",
    "Calculate and print the result of `250 + 75`.\n"
   ]
  },
  {
   "cell_type": "code",
   "execution_count": 7,
   "metadata": {},
   "outputs": [
    {
     "name": "stdout",
     "output_type": "stream",
     "text": [
      "325\n"
     ]
    }
   ],
   "source": [
    "print(250+75)"
   ]
  },
  {
   "attachments": {},
   "cell_type": "markdown",
   "metadata": {},
   "source": [
    "# Multiple Instructions\n",
    "\n",
    "Code runs in order, starting at the top of the program. For example:\n",
    "\n",
    "> ```python\n",
    "> print(\"this prints first\")\n",
    "> print(\"this prints second\")\n",
    "> print(\"this prints last\")\n",
    "\n",
    "Each `print()` instruction prints on a new line.\n",
    "\n",
    "### Assignment\n",
    "\n",
    "The dialogue in our game needs to be printed in the correct order! In the first level, our hero encounters a talking owl named Jax. Let's display their conversation to the user through text.\n",
    "\n",
    "Rearrange the code it so that it prints in the following order.\n",
    "\n",
    "> ```python\n",
    "> Jax: B-Kaw!\n",
    "> Hero: ...\n",
    "> Jax: Where are you off to this morning? Bkaw...\n",
    "> Hero: Where did an owl learn to speak??\n"
   ]
  },
  {
   "cell_type": "code",
   "execution_count": 8,
   "metadata": {},
   "outputs": [
    {
     "name": "stdout",
     "output_type": "stream",
     "text": [
      "Jax: B-Kaw!\n",
      "Hero: ...\n",
      "Jax: Where are you off to this morning? Bkaw...\n",
      "Hero: Where did an owl learn to speak??\n"
     ]
    }
   ],
   "source": [
    "print(\"Jax: B-Kaw!\")\n",
    "print(\"Hero: ...\")\n",
    "print(\"Jax: Where are you off to this morning? Bkaw...\")\n",
    "print(\"Hero: Where did an owl learn to speak??\")\n"
   ]
  },
  {
   "cell_type": "markdown",
   "metadata": {},
   "source": [
    "# Syntax Errors\n",
    "\n",
    "[Syntax](https://en.wikipedia.org/wiki/Syntax_(programming_languages)) is jargon for \"valid code that the computer can understand\". For example,\n",
    "\n",
    "> ```python\n",
    "> prnt(\"hello world\")\n",
    "\n",
    "is invalid syntax because `prnt()` is not a valid function, \"print\" is spelled incorrectly. As a result, an error will be thrown and the code won't execute.\n",
    "\n",
    "## Assignment\n",
    "\n",
    "There's a bug in our game! Our players are getting mad because they pay us $20/month to have access to \"Fantasy Quest\".\n",
    "\n",
    "Find the syntax error in the code and correct it.\n"
   ]
  },
  {
   "cell_type": "code",
   "execution_count": 1,
   "metadata": {},
   "outputs": [
    {
     "name": "stdout",
     "output_type": "stream",
     "text": [
      "Welcome to Fantasy Quest!\n"
     ]
    }
   ],
   "source": [
    "# Print(\"Welcome to Fantasy Quest!\")\n",
    "\n",
    "print(\"Welcome to Fantasy Quest!\")\n"
   ]
  },
  {
   "attachments": {},
   "cell_type": "markdown",
   "metadata": {},
   "source": [
    "# Startup bug\n",
    "\n",
    "A new startup has a bug in its server code. The code is supposed to print messages indicating the server has started successfully.\n",
    "\n",
    "### Challenge\n",
    "\n",
    "Fix the errors in the code and get it to run!"
   ]
  },
  {
   "cell_type": "code",
   "execution_count": 3,
   "metadata": {},
   "outputs": [
    {
     "name": "stdout",
     "output_type": "stream",
     "text": [
      "Starting up server...\n",
      "local server is listening on port 8080\n"
     ]
    }
   ],
   "source": [
    "print(\"Starting up server...\")\n",
    "print(\"local server is listening on port 8080\")\n"
   ]
  },
  {
   "attachments": {},
   "cell_type": "markdown",
   "metadata": {},
   "source": [
    "# Statistics Homework\n",
    "\n",
    "A local high school student was asked to do some statistics work in Python. She's trying to calculate the average number of students at all of the local high schools.\n",
    "\n",
    "### Challenge\n",
    "\n",
    "Debug the code so that it correctly prints the solution to the math problem.\n"
   ]
  },
  {
   "cell_type": "code",
   "execution_count": 4,
   "metadata": {},
   "outputs": [
    {
     "name": "stdout",
     "output_type": "stream",
     "text": [
      "247.5\n"
     ]
    }
   ],
   "source": [
    "print((250 + 241 + 244 + 255) / 4)\n"
   ]
  },
  {
   "attachments": {},
   "cell_type": "markdown",
   "metadata": {},
   "source": [
    "# Email response\n",
    "\n",
    "A new online store has been migrating to a new software system for its inventory management. The last thing they need to do for the new system to be fully operational is complete their survey response messages.\n",
    "\n",
    "They assigned someone with no Python experience to work on it. As you'd expect, there are now bugs in the code, and you have been asked to fix the report.\n",
    "\n",
    "### Challenge\n",
    "\n",
    "Pay attention to capitalization and punctuation!\n",
    "\n",
    "This section of the report should print:\n",
    "\n",
    "```text\n",
    "Thank you for shopping at Bootmart!\n",
    "Your total today was:\n",
    "```\n",
    "\n",
    "Fix the bug in the print statements.\n"
   ]
  },
  {
   "cell_type": "code",
   "execution_count": 6,
   "metadata": {},
   "outputs": [
    {
     "name": "stdout",
     "output_type": "stream",
     "text": [
      "Thank you for shopping at Bootmart!\n",
      "Your total today was:\n",
      "$12.50\n"
     ]
    }
   ],
   "source": [
    "items_in_cart = 5\n",
    "cost_of_each_item = 2.50\n",
    "total_cost = items_in_cart * cost_of_each_item\n",
    "\n",
    "# Don't Touch Above This line\n",
    "\n",
    "print (\"Thank you for shopping at Bootmart!\")\n",
    "print (\"Your total today was:\")\n",
    "\n",
    "# Don't Touch Below This Line\n",
    "\n",
    "print(f\"${total_cost:.2f}\")\n"
   ]
  }
 ],
 "metadata": {
  "kernelspec": {
   "display_name": "Python 3.9.6 64-bit",
   "language": "python",
   "name": "python3"
  },
  "language_info": {
   "codemirror_mode": {
    "name": "ipython",
    "version": 3
   },
   "file_extension": ".py",
   "mimetype": "text/x-python",
   "name": "python",
   "nbconvert_exporter": "python",
   "pygments_lexer": "ipython3",
   "version": "3.9.6"
  },
  "orig_nbformat": 4,
  "vscode": {
   "interpreter": {
    "hash": "31f2aee4e71d21fbe5cf8b01ff0e069b9275f58929596ceb00d14d90e3e16cd6"
   }
  }
 },
 "nbformat": 4,
 "nbformat_minor": 2
}
