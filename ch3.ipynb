{
 "cells": [
  {
   "cell_type": "markdown",
   "metadata": {},
   "source": [
    "# Python Numbers\n",
    "\n",
    "In Python, numbers without a decimal part are called Integers - just like they are in mathematics.\n",
    "\n",
    "`Integers` are simply whole numbers, positive or negative. For example, `3` and `-3` are both examples of integers.\n",
    "\n",
    "Arithmetic can be performed as you might expect:\n",
    "\n",
    "## Addition\n",
    "\n",
    "> ```py\n",
    "> 2 + 1\n",
    "> # 3\n",
    "\n",
    "## Subtraction\n",
    "\n",
    "> ```py\n",
    "> 2 - 1\n",
    "> # 1\n",
    "\n",
    "## Multiplication\n",
    "\n",
    "> ```py\n",
    "> 2 * 2\n",
    "> # 4\n",
    "\n",
    "## Division\n",
    "\n",
    "> ```py\n",
    "> 3 / 2\n",
    "> # 1.5 (a float)\n",
    "\n",
    "This one is actually a bit different - division on two integers will actually produce a `float`. A float is, as you may have guessed, the number type that allows for decimal values.\n",
    "\n",
    "## Assignment\n",
    "\n",
    "On line `9` create a `total_damage` variable that contains the sum all the different weapon's damage values.\n",
    "\n",
    "On line `10` create a `average_damage` variable that contains the [_average_](https://en.wikipedia.org/wiki/Average) weapon damage.\n"
   ]
  },
  {
   "cell_type": "code",
   "execution_count": 1,
   "metadata": {},
   "outputs": [
    {
     "name": "stdout",
     "output_type": "stream",
     "text": [
      "total damage is: 15\n",
      "average damage is: 3.0\n"
     ]
    }
   ],
   "source": [
    "sword_damage = 3\n",
    "arrow_damage = 5\n",
    "spear_damage = 2\n",
    "dagger_damage = 1\n",
    "fire_damage = 4\n",
    "\n",
    "# don't touch above this line\n",
    "\n",
    "total_damage = sword_damage + arrow_damage + spear_damage + dagger_damage + fire_damage\n",
    "average_damage = total_damage / 5\n",
    "\n",
    "# don't touch below this line\n",
    "\n",
    "print(f\"total damage is: {total_damage}\")\n",
    "print(f\"average damage is: {average_damage}\")\n"
   ]
  },
  {
   "cell_type": "markdown",
   "metadata": {},
   "source": [
    "# Numbers Review\n",
    "\n",
    "## Integers\n",
    "\n",
    "In Python, numbers without a decimal part are called `Integers`. Contrast this to JavaScript where all numbers are just a `Number` type.\n",
    "\n",
    "Integers are simply whole numbers, positive or negative. For example, `3` and `-3` are both examples of integers.\n",
    "\n",
    "## Floats\n",
    "\n",
    "A float is, as you may have guessed, the number type that allows for decimal values.\n",
    "\n",
    "> ```py\n",
    "> my_int = 5\n",
    "> my_float = 5.5\n"
   ]
  },
  {
   "cell_type": "markdown",
   "metadata": {},
   "source": [
    "# Floor division\n",
    "\n",
    "Python has great out-of-the-box support for mathematical operations. This, among other reasons, is why it has had such success in artificial intelligence, machine learning, and data science applications.\n",
    "\n",
    "Floor division is like normal division except the result is [floored](https://en.wikipedia.org/wiki/Floor_and_ceiling_functions) afterwards, which means the remainder is _removed_. As you would expect, this means the result is an `integer` instead of a `float`.\n",
    "\n",
    "> ```py\n",
    "> 7 // 3\n",
    "> # 2 (an integer)\n"
   ]
  },
  {
   "cell_type": "markdown",
   "metadata": {},
   "source": [
    "# Exponents\n",
    "\n",
    "Python has built-in support for exponents - something most languages require a `math` library for.\n",
    "\n",
    "> ```py\n",
    "> # reads as \"three squared\" or\n",
    "> # \"three raised to the second power\"\n",
    "> 3 ** 2\n",
    "> # 9\n"
   ]
  },
  {
   "cell_type": "markdown",
   "metadata": {},
   "source": [
    "# Changing In Place\n",
    "\n",
    "It's fairly common to want to change the value of a variable based on its current value.\n",
    "\n",
    "> ```py\n",
    "> player_score = 4\n",
    "> player_score = player_score + 1\n",
    "> # player_score now equals 5\n",
    "\n",
    "> ```py\n",
    "> player_score = 4\n",
    "> player_score = player_score - 1\n",
    "> # player_score now equals 3\n",
    "\n",
    "Don't let the fact that the expression `player_score = player_score - 1` is not a valid mathematical expression be confusing. _It doesn't matter, it is valid code_. It's valid because the way the expression should be read in english is:\n",
    "\n",
    "> Assign to player_score the old value of player_score minus 1\n",
    "\n",
    "Assignment\n",
    "\n",
    "On line 5, add `234340` to the current value of `player_score`.\n"
   ]
  },
  {
   "cell_type": "code",
   "execution_count": 2,
   "metadata": {},
   "outputs": [
    {
     "name": "stdout",
     "output_type": "stream",
     "text": [
      "player_score is: 3476779\n"
     ]
    }
   ],
   "source": [
    "player_score = 3_242_439\n",
    "\n",
    "# Don't touch above this line\n",
    "\n",
    "player_score = player_score + 234_340\n",
    "\n",
    "# Don't touch below this line\n",
    "\n",
    "print(\"player_score is: \" + str(player_score))\n"
   ]
  },
  {
   "cell_type": "markdown",
   "metadata": {},
   "source": [
    "# Plus Equals\n",
    "\n",
    "Python makes reassignment easy when doing math. In JavaScript or Go you might be familiar with the `++` syntax for incrementing a number variable. In Python, we use the `+=` operator instead.\n",
    "\n",
    "> ```py\n",
    "> star_rating = 4\n",
    "> star_rating += 1\n",
    "> # star_rating is now 5\n",
    "\n",
    "## Assignment\n",
    "\n",
    "On line 5, use the `+=` operator to add `10` to the player's health.\n"
   ]
  },
  {
   "cell_type": "code",
   "execution_count": 4,
   "metadata": {},
   "outputs": [
    {
     "name": "stdout",
     "output_type": "stream",
     "text": [
      "166\n"
     ]
    }
   ],
   "source": [
    "player_health = 156\n",
    "\n",
    "# don't touch above this line\n",
    "\n",
    "player_health += 10\n",
    "\n",
    "# don't touch below this line\n",
    "\n",
    "print(player_health)\n"
   ]
  },
  {
   "cell_type": "markdown",
   "metadata": {},
   "source": [
    "# Scientific Notation\n",
    "\n",
    "As we covered earlier, a `float` is a positive or negative number with a fractional part.\n",
    "\n",
    "You can add the letter `e` or `E` followed by a positive or negative integer to specify that you're using [scientific notation](https://en.wikipedia.org/wiki/Scientific_notation).\n",
    "\n",
    ">```py\n",
    ">print(16e3)\n",
    "># Prints 16000.0\n",
    ">\n",
    ">print(7.1e-2)\n",
    "># Prints 0.071\n",
    "\n",
    "If you're not familiar with scientific notation, it's a way of expressing numbers that are too large or too small to conveniently write normally.\n",
    "\n",
    "In a nutshell, the number following the `e` specifies how many places to move the decimal to the right for a positive number, or to the left for a negative number.\n",
    "\n",
    "## Underscores for readability\n",
    "\n",
    "Python also allows you to represent large numbers in the decimal format using underscores instead of commas to make it easier to read.\n",
    "\n",
    ">```py\n",
    ">num = 16_000\n",
    ">print(num)\n",
    "># Prints 16000\n",
    ">\n",
    ">num = 16_000_000\n",
    ">print(num)\n",
    "># Prints 16000000\n",
    "\n",
    "## Assignment\n",
    "\n",
    "Due to the constraints of our app's server, we have maximum number of players we can have on a single \"Fantasy Quest\" server. Declare a variable on line `1` called `max_number_of_players`. Set it equal to `1,024,000,000,000,000,000` using scientific notation.\n"
   ]
  },
  {
   "cell_type": "code",
   "execution_count": 34,
   "metadata": {},
   "outputs": [
    {
     "name": "stdout",
     "output_type": "stream",
     "text": [
      "Maximum players on a Fantasy Quest server: 1.024e+18\n"
     ]
    }
   ],
   "source": [
    "max_number_of_players = 1.024e18\n",
    "\n",
    "# don't touch below this line\n",
    "\n",
    "print(f\"Maximum players on a Fantasy Quest server: {max_number_of_players}\")\n"
   ]
  },
  {
   "cell_type": "markdown",
   "metadata": {},
   "source": [
    "# Logical Operators\n",
    "\n",
    "You're probably familiar with the logical operators `AND` and `OR`.\n",
    "\n",
    "Logical operators deal with [boolean values](https://en.wikipedia.org/wiki/Boolean_data_type), `True` and `False`.\n",
    "\n",
    "The logical `AND` operator requires that both inputs are `True` on order to return `True`. The logical `OR` operator only requires that at least one input is `True` in order to return `True`.\n",
    "\n",
    "For example:\n",
    "\n",
    ">```py\n",
    ">True AND True  = True\n",
    ">True AND False = False\n",
    ">False AND False = False\n",
    ">\n",
    ">True OR True  = True\n",
    ">True OR False = True\n",
    ">False OR False = False\n",
    "\n",
    "## Python Syntax\n",
    "\n",
    ">```py\n",
    ">print(True and True)\n",
    "># prints True\n",
    ">\n",
    ">print(True or False)\n",
    "># prints True\n",
    "\n",
    "## Nesting with parentheses\n",
    "\n",
    "As you would expect, you can nest logical expressions using parentheses just like any other code.\n",
    "\n",
    ">```py\n",
    ">print((True or False) and False)\n",
    "># prints False\n"
   ]
  },
  {
   "cell_type": "markdown",
   "metadata": {},
   "source": [
    "# Binary Numbers\n",
    "\n",
    "Binary numbers are just \"base 2\" numbers. They work the same way as \"normal\" base 10 numbers, but with 2 symbols instead of 10.\n",
    "\n",
    "Each `1` in a binary number represents a greater multiple of 2. In a 4-digit number, that means you have the eight's place, the four's place, the two's place, and the one's place. Similar to how in decimal you would have the thousandth's place, the hundreth's place, the ten's place, and the one's place.\n",
    "\n",
    "- `0001` = 1\n",
    "- `0010` = 2\n",
    "- `0011` = 3\n",
    "- `0100` = 4\n",
    "- `0101` = 5\n",
    "- `0110` = 6\n",
    "- `0111` = 7\n",
    "- `1000` = 8\n",
    "\n",
    "![](https://www.wikihow.com/images/4/47/B2d.gif)\n",
    "\n",
    "## Binary in Python\n",
    "\n",
    "You can write an integer in Python using binary syntax using the 0b prefix\n",
    "\n",
    ">```py\n",
    ">print(0b0001)\n",
    "># Prints 1\n",
    ">\n",
    ">print(0b0101)\n",
    "># Prints 5\n"
   ]
  },
  {
   "cell_type": "markdown",
   "metadata": {},
   "source": [
    "# Bitwise \"&\" Operator\n",
    "\n",
    "Bitwise operators are similar to logical operators, but instead of operating on boolean values, they apply the same logic to all the bits in a value. For example, say you had the numbers `5` and `7` represented in binary. You could perform a bitwise `AND` operation that would result in `5`\n",
    "\n",
    "- `0101` is 5\n",
    "- `0111` is 7\n",
    "\n",
    ">```py\n",
    "> 0101\n",
    ">&\n",
    "> 0111\n",
    ">=\n",
    "> 0101\n",
    "\n",
    "A `1` in binary is the same as `True`, while `0` is False. So really a bitwise operation is just a bunch of logical operations that are completed in tandem.\n",
    "\n",
    "`&` is the bitwise `AND` operator in Python. So `5 & 7 = 5`, while `5 & 2 = 0`\n",
    "\n",
    ">```py\n",
    ">0101 = 5\n",
    ">0010 = 2\n",
    ">&\n",
    ">0000 = 0\n",
    "\n",
    "## Binary notation\n",
    "\n",
    "When writing a number in binary, the prefix 0b is used to indicate that what follows is a binary number.\n",
    "\n",
    "- `0b0101` is 5\n",
    "- `0b0111` is 7\n",
    "\n",
    "## Guild Permissions\n",
    "\n",
    "It's common practice in backend development to store user permissions as binary values. Think about it, if I have 4 different permissions a user can have, then I can store that as a 4-digit binary number, and if a certain bit is present, I know the permission is enabled.\n",
    "\n",
    "Let's pretend we have 4 permissions:\n",
    "\n",
    "- `can_create_guild` - First bit\n",
    "- `can_review_guild` - Second bit\n",
    "- `can_delete_guild` - Third bit\n",
    "- `can_edit_guild` - Fourth bit\n",
    "\n",
    "Which are represented by `0b0000`. For example, if a user only has the `can_create_guild` permission, their binary permissions would be `0b1000`. A user with `can_review_guild` and `can_edit_guild` would be `0b0101`.\n",
    "\n",
    "In order to check for, say, the `can_review_guild` permission, we can perform a bitwise `AND` operation on the user's permissions and the enabled `can_review_guild` bit (`0b0100`). If the result is `0b0100` again, we know they have that specific permission!\n",
    "\n",
    "## Assignment\n",
    "\n",
    "Assign a binary value to the `user_permissions` variable so that the user will have the `can_review_guild` permission and the `can_delete_guild` permission.\n"
   ]
  },
  {
   "cell_type": "code",
   "execution_count": 36,
   "metadata": {},
   "outputs": [
    {
     "name": "stdout",
     "output_type": "stream",
     "text": [
      "user_can_create_guild: False\n",
      "user_can_review_guild: True\n",
      "user_can_delete_guild: True\n",
      "user_can_edit_guild: False\n"
     ]
    }
   ],
   "source": [
    "user_permissions = 0b0110\n",
    "\n",
    "# DON'T EDIT BELOW THIS LINE\n",
    "\n",
    "can_create_guild = 0b1000\n",
    "can_review_guild = 0b0100\n",
    "can_delete_guild = 0b0010\n",
    "can_edit_guild = 0b0001\n",
    "\n",
    "user_can_create_guild = user_permissions & can_create_guild == can_create_guild\n",
    "user_can_review_guild = user_permissions & can_review_guild == can_review_guild\n",
    "user_can_delete_guild = user_permissions & can_delete_guild == can_delete_guild\n",
    "user_can_edit_guild = user_permissions & can_edit_guild == can_edit_guild\n",
    "\n",
    "print(f\"user_can_create_guild: {user_can_create_guild}\")\n",
    "print(f\"user_can_review_guild: {user_can_review_guild}\")\n",
    "print(f\"user_can_delete_guild: {user_can_delete_guild}\")\n",
    "print(f\"user_can_edit_guild: {user_can_edit_guild}\")\n"
   ]
  }
 ],
 "metadata": {
  "kernelspec": {
   "display_name": "Python 3.9.6 64-bit",
   "language": "python",
   "name": "python3"
  },
  "language_info": {
   "codemirror_mode": {
    "name": "ipython",
    "version": 3
   },
   "file_extension": ".py",
   "mimetype": "text/x-python",
   "name": "python",
   "nbconvert_exporter": "python",
   "pygments_lexer": "ipython3",
   "version": "3.9.6"
  },
  "orig_nbformat": 4,
  "vscode": {
   "interpreter": {
    "hash": "31f2aee4e71d21fbe5cf8b01ff0e069b9275f58929596ceb00d14d90e3e16cd6"
   }
  }
 },
 "nbformat": 4,
 "nbformat_minor": 2
}
