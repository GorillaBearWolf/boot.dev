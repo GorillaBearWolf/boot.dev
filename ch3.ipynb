{
 "cells": [
  {
   "cell_type": "markdown",
   "metadata": {},
   "source": [
    "# Python Numbers\n",
    "\n",
    "In Python, numbers without a decimal part are called Integers - just like they are in mathematics.\n",
    "\n",
    "`Integers` are simply whole numbers, positive or negative. For example, `3` and `-3` are both examples of integers.\n",
    "\n",
    "Arithmetic can be performed as you might expect:\n",
    "\n",
    "## Addition\n",
    "\n",
    "> ```py\n",
    "> 2 + 1\n",
    "> # 3\n",
    "\n",
    "## Subtraction\n",
    "\n",
    "> ```py\n",
    "> 2 - 1\n",
    "> # 1\n",
    "\n",
    "## Multiplication\n",
    "\n",
    "> ```py\n",
    "> 2 * 2\n",
    "> # 4\n",
    "\n",
    "## Division\n",
    "\n",
    "> ```py\n",
    "> 3 / 2\n",
    "> # 1.5 (a float)\n",
    "\n",
    "This one is actually a bit different - division on two integers will actually produce a `float`. A float is, as you may have guessed, the number type that allows for decimal values.\n",
    "\n",
    "## Assignment\n",
    "\n",
    "On line `9` create a `total_damage` variable that contains the sum all the different weapon's damage values.\n",
    "\n",
    "On line `10` create a `average_damage` variable that contains the [_average_](https://en.wikipedia.org/wiki/Average) weapon damage.\n"
   ]
  },
  {
   "cell_type": "code",
   "execution_count": null,
   "metadata": {},
   "outputs": [],
   "source": [
    "sword_damage = 3\n",
    "arrow_damage = 5\n",
    "spear_damage = 2\n",
    "dagger_damage = 1\n",
    "fire_damage = 4\n",
    "\n",
    "# don't touch above this line\n",
    "\n",
    "total_damage = sword_damage + arrow_damage + spear_damage + dagger_damage + fire_damage\n",
    "average_damage = total_damage / 5\n",
    "\n",
    "# don't touch below this line\n",
    "\n",
    "print(f\"total damage is: {total_damage}\")\n",
    "print(f\"average damage is: {average_damage}\")\n"
   ]
  },
  {
   "cell_type": "markdown",
   "metadata": {},
   "source": [
    "# Numbers Review\n",
    "\n",
    "## Integers\n",
    "\n",
    "In Python, numbers without a decimal part are called `Integers`. Contrast this to JavaScript where all numbers are just a `Number` type.\n",
    "\n",
    "Integers are simply whole numbers, positive or negative. For example, `3` and `-3` are both examples of integers.\n",
    "\n",
    "## Floats\n",
    "\n",
    "A float is, as you may have guessed, the number type that allows for decimal values.\n",
    "\n",
    "> ```py\n",
    "> my_int = 5\n",
    "> my_float = 5.5\n"
   ]
  },
  {
   "cell_type": "markdown",
   "metadata": {},
   "source": [
    "# Floor division\n",
    "\n",
    "Python has great out-of-the-box support for mathematical operations. This, among other reasons, is why it has had such success in artificial intelligence, machine learning, and data science applications.\n",
    "\n",
    "Floor division is like normal division except the result is [floored](https://en.wikipedia.org/wiki/Floor_and_ceiling_functions) afterwards, which means the remainder is _removed_. As you would expect, this means the result is an `integer` instead of a `float`.\n",
    "\n",
    "> ```py\n",
    "> 7 // 3\n",
    "> # 2 (an integer)\n"
   ]
  },
  {
   "cell_type": "markdown",
   "metadata": {},
   "source": [
    "# Exponents\n",
    "\n",
    "Python has built-in support for exponents - something most languages require a `math` library for.\n",
    "\n",
    "> ```py\n",
    "> # reads as \"three squared\" or\n",
    "> # \"three raised to the second power\"\n",
    "> 3 ** 2\n",
    "> # 9\n"
   ]
  },
  {
   "cell_type": "markdown",
   "metadata": {},
   "source": [
    "# Changing In Place\n",
    "\n",
    "It's fairly common to want to change the value of a variable based on its current value.\n",
    "\n",
    "> ```py\n",
    "> player_score = 4\n",
    "> player_score = player_score + 1\n",
    "> # player_score now equals 5\n",
    "\n",
    "> ```py\n",
    "> player_score = 4\n",
    "> player_score = player_score - 1\n",
    "> # player_score now equals 3\n",
    "\n",
    "Don't let the fact that the expression `player_score = player_score - 1` is not a valid mathematical expression be confusing. _It doesn't matter, it is valid code_. It's valid because the way the expression should be read in english is:\n",
    "\n",
    "> Assign to player_score the old value of player_score minus 1\n",
    "\n",
    "Assignment\n",
    "\n",
    "On line 5, add `234340` to the current value of `player_score`.\n"
   ]
  },
  {
   "cell_type": "code",
   "execution_count": null,
   "metadata": {},
   "outputs": [],
   "source": [
    "player_score = 3_242_439\n",
    "\n",
    "# Don't touch above this line\n",
    "\n",
    "player_score = player_score + 234_340\n",
    "\n",
    "# Don't touch below this line\n",
    "\n",
    "print(\"player_score is: \" + str(player_score))\n"
   ]
  },
  {
   "cell_type": "markdown",
   "metadata": {},
   "source": [
    "# Plus Equals\n",
    "\n",
    "Python makes reassignment easy when doing math. In JavaScript or Go you might be familiar with the `++` syntax for incrementing a number variable. In Python, we use the `+=` operator instead.\n",
    "\n",
    "> ```py\n",
    "> star_rating = 4\n",
    "> star_rating += 1\n",
    "> # star_rating is now 5\n",
    "\n",
    "## Assignment\n",
    "\n",
    "On line 5, use the `+=` operator to add `10` to the player's health.\n"
   ]
  },
  {
   "cell_type": "code",
   "execution_count": null,
   "metadata": {},
   "outputs": [],
   "source": [
    "player_health = 156\n",
    "\n",
    "# don't touch above this line\n",
    "\n",
    "player_health += 10\n",
    "\n",
    "# don't touch below this line\n",
    "\n",
    "print(player_health)\n"
   ]
  },
  {
   "cell_type": "markdown",
   "metadata": {},
   "source": [
    "# Scientific Notation\n",
    "\n",
    "As we covered earlier, a `float` is a positive or negative number with a fractional part.\n",
    "\n",
    "You can add the letter `e` or `E` followed by a positive or negative integer to specify that you're using [scientific notation](https://en.wikipedia.org/wiki/Scientific_notation).\n",
    "\n",
    ">```py\n",
    ">print(16e3)\n",
    "># Prints 16000.0\n",
    ">\n",
    ">print(7.1e-2)\n",
    "># Prints 0.071\n",
    "\n",
    "If you're not familiar with scientific notation, it's a way of expressing numbers that are too large or too small to conveniently write normally.\n",
    "\n",
    "In a nutshell, the number following the `e` specifies how many places to move the decimal to the right for a positive number, or to the left for a negative number.\n",
    "\n",
    "## Underscores for readability\n",
    "\n",
    "Python also allows you to represent large numbers in the decimal format using underscores instead of commas to make it easier to read.\n",
    "\n",
    ">```py\n",
    ">num = 16_000\n",
    ">print(num)\n",
    "># Prints 16000\n",
    ">\n",
    ">num = 16_000_000\n",
    ">print(num)\n",
    "># Prints 16000000\n",
    "\n",
    "## Assignment\n",
    "\n",
    "Due to the constraints of our app's server, we have maximum number of players we can have on a single \"Fantasy Quest\" server. Declare a variable on line `1` called `max_number_of_players`. Set it equal to `1,024,000,000,000,000,000` using scientific notation.\n"
   ]
  },
  {
   "cell_type": "code",
   "execution_count": null,
   "metadata": {},
   "outputs": [],
   "source": [
    "max_number_of_players = 1.024e18\n",
    "\n",
    "# don't touch below this line\n",
    "\n",
    "print(f\"Maximum players on a Fantasy Quest server: {max_number_of_players}\")\n"
   ]
  },
  {
   "cell_type": "markdown",
   "metadata": {},
   "source": [
    "# Logical Operators\n",
    "\n",
    "You're probably familiar with the logical operators `AND` and `OR`.\n",
    "\n",
    "Logical operators deal with [boolean values](https://en.wikipedia.org/wiki/Boolean_data_type), `True` and `False`.\n",
    "\n",
    "The logical `AND` operator requires that both inputs are `True` on order to return `True`. The logical `OR` operator only requires that at least one input is `True` in order to return `True`.\n",
    "\n",
    "For example:\n",
    "\n",
    ">```py\n",
    ">True AND True  = True\n",
    ">True AND False = False\n",
    ">False AND False = False\n",
    ">\n",
    ">True OR True  = True\n",
    ">True OR False = True\n",
    ">False OR False = False\n",
    "\n",
    "## Python Syntax\n",
    "\n",
    ">```py\n",
    ">print(True and True)\n",
    "># prints True\n",
    ">\n",
    ">print(True or False)\n",
    "># prints True\n",
    "\n",
    "## Nesting with parentheses\n",
    "\n",
    "As you would expect, you can nest logical expressions using parentheses just like any other code.\n",
    "\n",
    ">```py\n",
    ">print((True or False) and False)\n",
    "># prints False\n"
   ]
  },
  {
   "cell_type": "markdown",
   "metadata": {},
   "source": [
    "# Binary Numbers\n",
    "\n",
    "Binary numbers are just \"base 2\" numbers. They work the same way as \"normal\" base 10 numbers, but with 2 symbols instead of 10.\n",
    "\n",
    "Each `1` in a binary number represents a greater multiple of 2. In a 4-digit number, that means you have the eight's place, the four's place, the two's place, and the one's place. Similar to how in decimal you would have the thousandth's place, the hundreth's place, the ten's place, and the one's place.\n",
    "\n",
    "- `0001` = 1\n",
    "- `0010` = 2\n",
    "- `0011` = 3\n",
    "- `0100` = 4\n",
    "- `0101` = 5\n",
    "- `0110` = 6\n",
    "- `0111` = 7\n",
    "- `1000` = 8\n",
    "\n",
    "![](https://www.wikihow.com/images/4/47/B2d.gif)\n",
    "\n",
    "## Binary in Python\n",
    "\n",
    "You can write an integer in Python using binary syntax using the 0b prefix\n",
    "\n",
    ">```py\n",
    ">print(0b0001)\n",
    "># Prints 1\n",
    ">\n",
    ">print(0b0101)\n",
    "># Prints 5\n"
   ]
  },
  {
   "cell_type": "markdown",
   "metadata": {},
   "source": [
    "# Bitwise \"&\" Operator\n",
    "\n",
    "Bitwise operators are similar to logical operators, but instead of operating on boolean values, they apply the same logic to all the bits in a value. For example, say you had the numbers `5` and `7` represented in binary. You could perform a bitwise `AND` operation that would result in `5`\n",
    "\n",
    "- `0101` is 5\n",
    "- `0111` is 7\n",
    "\n",
    ">```py\n",
    "> 0101\n",
    ">&\n",
    "> 0111\n",
    ">=\n",
    "> 0101\n",
    "\n",
    "A `1` in binary is the same as `True`, while `0` is False. So really a bitwise operation is just a bunch of logical operations that are completed in tandem.\n",
    "\n",
    "`&` is the bitwise `AND` operator in Python. So `5 & 7 = 5`, while `5 & 2 = 0`\n",
    "\n",
    ">```py\n",
    ">0101 = 5\n",
    ">0010 = 2\n",
    ">&\n",
    ">0000 = 0\n",
    "\n",
    "## Binary notation\n",
    "\n",
    "When writing a number in binary, the prefix 0b is used to indicate that what follows is a binary number.\n",
    "\n",
    "- `0b0101` is 5\n",
    "- `0b0111` is 7\n",
    "\n",
    "## Guild Permissions\n",
    "\n",
    "It's common practice in backend development to store user permissions as binary values. Think about it, if I have 4 different permissions a user can have, then I can store that as a 4-digit binary number, and if a certain bit is present, I know the permission is enabled.\n",
    "\n",
    "Let's pretend we have 4 permissions:\n",
    "\n",
    "- `can_create_guild` - First bit\n",
    "- `can_review_guild` - Second bit\n",
    "- `can_delete_guild` - Third bit\n",
    "- `can_edit_guild` - Fourth bit\n",
    "\n",
    "Which are represented by `0b0000`. For example, if a user only has the `can_create_guild` permission, their binary permissions would be `0b1000`. A user with `can_review_guild` and `can_edit_guild` would be `0b0101`.\n",
    "\n",
    "In order to check for, say, the `can_review_guild` permission, we can perform a bitwise `AND` operation on the user's permissions and the enabled `can_review_guild` bit (`0b0100`). If the result is `0b0100` again, we know they have that specific permission!\n",
    "\n",
    "## Assignment\n",
    "\n",
    "Assign a binary value to the `user_permissions` variable so that the user will have the `can_review_guild` permission and the `can_delete_guild` permission.\n"
   ]
  },
  {
   "cell_type": "code",
   "execution_count": null,
   "metadata": {},
   "outputs": [],
   "source": [
    "user_permissions = 0b0110\n",
    "\n",
    "# DON'T EDIT BELOW THIS LINE\n",
    "\n",
    "can_create_guild = 0b1000\n",
    "can_review_guild = 0b0100\n",
    "can_delete_guild = 0b0010\n",
    "can_edit_guild = 0b0001\n",
    "\n",
    "user_can_create_guild = user_permissions & can_create_guild == can_create_guild\n",
    "user_can_review_guild = user_permissions & can_review_guild == can_review_guild\n",
    "user_can_delete_guild = user_permissions & can_delete_guild == can_delete_guild\n",
    "user_can_edit_guild = user_permissions & can_edit_guild == can_edit_guild\n",
    "\n",
    "print(f\"user_can_create_guild: {user_can_create_guild}\")\n",
    "print(f\"user_can_review_guild: {user_can_review_guild}\")\n",
    "print(f\"user_can_delete_guild: {user_can_delete_guild}\")\n",
    "print(f\"user_can_edit_guild: {user_can_edit_guild}\")\n"
   ]
  },
  {
   "attachments": {},
   "cell_type": "markdown",
   "metadata": {},
   "source": [
    "# Bitwise \"|\" Operator\n",
    "\n",
    "As you may have guessed, the bitwise \"or\" operator is similar to the bitwise \"and\" operator in that it works on binary rather than boolean values. However, the bitwise \"or\" operator \"ORs\" the bits together. Here's an example:\n",
    "\n",
    "- 0101 is 5\n",
    "- 0111 is 7\n",
    "\n",
    "> ```text\n",
    ">  0101\n",
    "> |     \n",
    ">  0111\n",
    "> =\n",
    ">  0111\n",
    "> ```\n",
    "\n",
    "A `1` in binary is the same as `True`, while `0` is `False`. So a bitwise operation is just a bunch of logical operations that are completed in tandem. When two binary numbers are \"OR'ed\" together, the result has a `1` in any place where either of the input numbers has a `1` in that place.\n",
    "\n",
    "`|` is the bitwise `OR` operator in Python. `5 | 7 = 7` and `5 | 2 = 7` as well!\n",
    "\n",
    "> ```text\n",
    "> 0101 = 5\n",
    "> 0010 = 2\n",
    "> |\n",
    "> 0111 = 7\n",
    "> ```\n",
    "\n",
    "### Party Permissions\n",
    "\n",
    "A \"party\" is a team of 2-4 players who are online at the same time and fighting together. A guild is a larger group of players, sometimes 50 or 60, who share a common purpose.\n",
    "\n",
    "We've been asked to add some more functionality to the \"guild permissions\" system. When players are in a party, they gain the guild permissions of all the other members of the party!\n",
    "\n",
    "### Assignment\n",
    "\n",
    "On line `13`, create a new variable:\n",
    "\n",
    "`party_perms`: A binary number. Use bitwise `OR` operations to get the superset of all the permissions of the members of the party (Glorfindel, Galadriel, Elendil and Elrond)\n"
   ]
  },
  {
   "cell_type": "code",
   "execution_count": 1,
   "metadata": {},
   "outputs": [
    {
     "name": "stdout",
     "output_type": "stream",
     "text": [
      "party_perms: 0b1011\n",
      "party_can_create_guild: True\n",
      "party_can_review_guild: False\n",
      "party_can_delete_guild: True\n",
      "party_can_edit_guild: True\n"
     ]
    }
   ],
   "source": [
    "glorfindel_perms = 0b0001\n",
    "galadriel_perms = 0b0010\n",
    "elendil_perms = 0b0001\n",
    "elrond_perms = 0b1011\n",
    "\n",
    "can_create_guild = 0b1000\n",
    "can_review_guild = 0b0100\n",
    "can_delete_guild = 0b0010\n",
    "can_edit_guild = 0b0001\n",
    "\n",
    "# DON'T EDIT ABOVE THIS LINE\n",
    "\n",
    "party_perms = glorfindel_perms | galadriel_perms | elendil_perms | elrond_perms\n",
    "\n",
    "# DON'T EDIT BELOW THIS LINE\n",
    "\n",
    "party_can_create_guild = party_perms & can_create_guild == can_create_guild\n",
    "party_can_review_guild = party_perms & can_review_guild == can_review_guild\n",
    "party_can_delete_guild = party_perms & can_delete_guild == can_delete_guild\n",
    "party_can_edit_guild = party_perms & can_edit_guild == can_edit_guild\n",
    "\n",
    "print(f\"party_perms: 0b{party_perms:b}\")\n",
    "print(f\"party_can_create_guild: {party_can_create_guild}\")\n",
    "print(f\"party_can_review_guild: {party_can_review_guild}\")\n",
    "print(f\"party_can_delete_guild: {party_can_delete_guild}\")\n",
    "print(f\"party_can_edit_guild: {party_can_edit_guild}\")\n"
   ]
  },
  {
   "cell_type": "markdown",
   "metadata": {},
   "source": [
    "# Not\n",
    "\n",
    "We skipped a very important logical operator - `not`. The `not` operator reverses the result. It returns `False` if the input was `True` and vice-versa.\n",
    "\n",
    ">```py\n",
    ">print(not True)\n",
    "># Prints: False\n",
    ">\n",
    ">print(not False)\n",
    "># Prints: True\n"
   ]
  },
  {
   "attachments": {},
   "cell_type": "markdown",
   "metadata": {},
   "source": [
    "# Number Syntax\n",
    "\n",
    "You've been working with a biologist who is researching the mating behaviors of fruit bats.\n",
    "\n",
    "### Challenge\n",
    "\n",
    "Fix the biologist's syntax error. Use the proper delimiter so that the numbers are still easy to parse visually.\n"
   ]
  },
  {
   "cell_type": "code",
   "execution_count": 2,
   "metadata": {},
   "outputs": [
    {
     "name": "stdout",
     "output_type": "stream",
     "text": [
      "37.5% of fruit bats are male\n"
     ]
    }
   ],
   "source": [
    "num_fruit_bats = 8_000_000\n",
    "num_male_bats = 3_000_000\n",
    "\n",
    "# don't touch below this line\n",
    "\n",
    "ratio = num_male_bats / num_fruit_bats\n",
    "print(f\"{ratio * 100}% of fruit bats are male\")\n"
   ]
  },
  {
   "attachments": {},
   "cell_type": "markdown",
   "metadata": {},
   "source": [
    "# Binary Permissions\n",
    "\n",
    "You're responsible for the code that manages the posting permissions of a popular blogging software: \"BloggerBytes\".\n",
    "\n",
    "### Challenge\n",
    "\n",
    "Use binary logic and the provided variables to calculate the following boolean values:\n",
    "\n",
    "- can_read_posts\n",
    "- can_edit_posts\n",
    "- can_delete_posts\n",
    "- can_create_posts\n"
   ]
  },
  {
   "cell_type": "code",
   "execution_count": 3,
   "metadata": {},
   "outputs": [
    {
     "name": "stdout",
     "output_type": "stream",
     "text": [
      "The user can read posts: True\n",
      "The user can edit posts: False\n",
      "The user can delete posts: True\n",
      "The user can create posts: False\n"
     ]
    }
   ],
   "source": [
    "user_permissions = 0b1010\n",
    "\n",
    "read_posts_perm = 0b1000\n",
    "edit_posts_perm = 0b0100\n",
    "delete_posts_perm = 0b0010\n",
    "create_posts_perm = 0b0001\n",
    "\n",
    "# Don't touch above this line\n",
    "\n",
    "can_read_posts = True\n",
    "can_edit_posts = False\n",
    "can_delete_posts = True\n",
    "can_create_posts = False\n",
    "\n",
    "# Don't touch below this line\n",
    "\n",
    "print(f\"The user can read posts: {can_read_posts}\")\n",
    "print(f\"The user can edit posts: {can_edit_posts}\")\n",
    "print(f\"The user can delete posts: {can_delete_posts}\")\n",
    "print(f\"The user can create posts: {can_create_posts}\")\n"
   ]
  },
  {
   "attachments": {},
   "cell_type": "markdown",
   "metadata": {},
   "source": [
    "# Binary Addition\n",
    "\n",
    "You're writing some tests for the Python interpreter's source code itself! Python has built-in functionality to parse strings of 1's and 0's as binary numbers.\n",
    "\n",
    "### Challenge\n",
    "\n",
    "Assign these values to the following variables:\n",
    "\n",
    "- num_heads: 1\n",
    "- num_arms: 2\n",
    "- num_fingers: 10\n",
    "\n",
    "However, assign the number as a *binary string*. For example, the number 4 would be `\"100\"`\n"
   ]
  },
  {
   "cell_type": "code",
   "execution_count": 6,
   "metadata": {},
   "outputs": [
    {
     "name": "stdout",
     "output_type": "stream",
     "text": [
      "Humans typically have 1 head(s)\n",
      "Humans typically have 2 arms\n",
      "Humans typically have 10 fingers\n"
     ]
    }
   ],
   "source": [
    "num_heads = \"0001\"\n",
    "num_arms = \"0010\"\n",
    "num_fingers = \"1010\"\n",
    "\n",
    "# Don't touch below this line\n",
    "\n",
    "print(f\"Humans typically have {int(num_heads, 2)} head(s)\")\n",
    "print(f\"Humans typically have {int(num_arms, 2)} arms\")\n",
    "print(f\"Humans typically have {int(num_fingers, 2)} fingers\")\n"
   ]
  }
 ],
 "metadata": {
  "kernelspec": {
   "display_name": "Python 3.9.6 64-bit",
   "language": "python",
   "name": "python3"
  },
  "language_info": {
   "codemirror_mode": {
    "name": "ipython",
    "version": 3
   },
   "file_extension": ".py",
   "mimetype": "text/x-python",
   "name": "python",
   "nbconvert_exporter": "python",
   "pygments_lexer": "ipython3",
   "version": "3.9.6"
  },
  "orig_nbformat": 4,
  "vscode": {
   "interpreter": {
    "hash": "31f2aee4e71d21fbe5cf8b01ff0e069b9275f58929596ceb00d14d90e3e16cd6"
   }
  }
 },
 "nbformat": 4,
 "nbformat_minor": 2
}
