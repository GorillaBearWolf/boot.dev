{
 "cells": [
  {
   "cell_type": "markdown",
   "metadata": {},
   "source": [
    "# EXPONENTS"
   ]
  },
  {
   "cell_type": "code",
   "execution_count": null,
   "metadata": {},
   "outputs": [],
   "source": [
    "def get_estimated_spread(audiences_followers):\n",
    "    total = 0\n",
    "    n = len(audiences_followers)\n",
    "    for i in audiences_followers:\n",
    "        total += i\n",
    "    average = total / n\n",
    "    return average * (n ** 1.2)\n",
    "\n",
    "\n",
    "# don't touch below this line\n",
    "\n",
    "\n",
    "def test(nums):\n",
    "    res = round(get_estimated_spread(nums))\n",
    "    print(f\"Follower counts: {nums}\")\n",
    "    print(f\"Estimated spread: {res}\")\n",
    "    print(\"====================================\")\n",
    "\n",
    "\n",
    "def main():\n",
    "    test([7, 4, 3, 100, 765, 2344, 1, 2, 32])\n",
    "    test([12, 12, 12])\n",
    "    test([10, 200, 3000, 5000, 4])\n",
    "\n",
    "\n",
    "main()\n"
   ]
  },
  {
   "cell_type": "markdown",
   "metadata": {},
   "source": [
    "# EXPONENTS GROW VERY QUICKLY"
   ]
  },
  {
   "cell_type": "code",
   "execution_count": null,
   "metadata": {},
   "outputs": [],
   "source": [
    "def get_follower_prediction(follower_count, influencer_type, num_months):\n",
    "    if influencer_type == \"fitness\":\n",
    "        return follower_count * 4 ** num_months\n",
    "    if influencer_type == \"cosmetic\":\n",
    "        return follower_count * 3 ** num_months\n",
    "    else:\n",
    "        return follower_count * 2 ** num_months\n",
    "\n",
    "\n",
    "# don't touch below this line\n",
    "\n",
    "\n",
    "def test(follower_count, influencer_type, num_months):\n",
    "    predicted = get_follower_prediction(follower_count, influencer_type, num_months)\n",
    "    print(f\"- Follower count: {follower_count}\")\n",
    "    print(f\"- Type: {influencer_type}\")\n",
    "    print(f\"- Months: {num_months}\")\n",
    "    print(f\"Prediction: {predicted}\")\n",
    "    print(\"====================================\")\n",
    "\n",
    "\n",
    "def main():\n",
    "    test(10, \"fitness\", 1)\n",
    "    test(10, \"fitness\", 2)\n",
    "    test(10, \"fitness\", 4)\n",
    "    test(12, \"cosmetic\", 4)\n",
    "    test(15, \"business\", 4)\n",
    "    test(10, \"fitness\", 5)\n",
    "    test(10, \"fitness\", 6)\n",
    "    test(10, \"fitness\", 7)\n",
    "    test(10, \"fitness\", 8)\n",
    "    test(10, \"fitness\", 9)\n",
    "\n",
    "\n",
    "main()\n"
   ]
  }
 ],
 "metadata": {
  "kernelspec": {
   "display_name": "Python 3",
   "language": "python",
   "name": "python3"
  },
  "language_info": {
   "codemirror_mode": {
    "name": "ipython",
    "version": 3
   },
   "file_extension": ".py",
   "mimetype": "text/x-python",
   "name": "python",
   "nbconvert_exporter": "python",
   "pygments_lexer": "ipython3",
   "version": "3.11.4"
  },
  "orig_nbformat": 4
 },
 "nbformat": 4,
 "nbformat_minor": 2
}
