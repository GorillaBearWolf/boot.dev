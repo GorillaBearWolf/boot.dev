{
 "cells": [
  {
   "cell_type": "markdown",
   "metadata": {},
   "source": [
    "# EXPONENTS"
   ]
  },
  {
   "cell_type": "code",
   "execution_count": null,
   "metadata": {},
   "outputs": [],
   "source": [
    "def get_estimated_spread(audiences_followers):\n",
    "    total = 0\n",
    "    n = len(audiences_followers)\n",
    "    for i in audiences_followers:\n",
    "        total += i\n",
    "    average = total / n\n",
    "    return average * (n ** 1.2)\n",
    "\n",
    "\n",
    "# don't touch below this line\n",
    "\n",
    "\n",
    "def test(nums):\n",
    "    res = round(get_estimated_spread(nums))\n",
    "    print(f\"Follower counts: {nums}\")\n",
    "    print(f\"Estimated spread: {res}\")\n",
    "    print(\"====================================\")\n",
    "\n",
    "\n",
    "def main():\n",
    "    test([7, 4, 3, 100, 765, 2344, 1, 2, 32])\n",
    "    test([12, 12, 12])\n",
    "    test([10, 200, 3000, 5000, 4])\n",
    "\n",
    "\n",
    "main()\n"
   ]
  }
 ],
 "metadata": {
  "kernelspec": {
   "display_name": "Python 3",
   "language": "python",
   "name": "python3"
  },
  "language_info": {
   "codemirror_mode": {
    "name": "ipython",
    "version": 3
   },
   "file_extension": ".py",
   "mimetype": "text/x-python",
   "name": "python",
   "nbconvert_exporter": "python",
   "pygments_lexer": "ipython3",
   "version": "3.11.4"
  },
  "orig_nbformat": 4
 },
 "nbformat": 4,
 "nbformat_minor": 2
}
