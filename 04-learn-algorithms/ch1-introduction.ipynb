{
 "cells": [
  {
   "cell_type": "markdown",
   "metadata": {},
   "source": [
    "# ALGORITHM - FIND MIN"
   ]
  },
  {
   "cell_type": "code",
   "execution_count": null,
   "metadata": {},
   "outputs": [],
   "source": [
    "def find_min(nums):\n",
    "    min = float(\"inf\")\n",
    "    for num in nums:\n",
    "        if num < min:\n",
    "            min = num\n",
    "    return min\n",
    "\n",
    "\n",
    "# don't touch below this line\n",
    "\n",
    "\n",
    "def test(nums):\n",
    "    res = find_min(nums)\n",
    "    print(f\"Follower counts: {nums}\")\n",
    "    print(f\"Lowest follower count: {res}\")\n",
    "    print(\"----\")\n",
    "\n",
    "\n",
    "def main():\n",
    "    test([7, 4, 3, 100, 2343243, 343434, 1, 2, 32])\n",
    "    test([12, 12, 12])\n",
    "    test([10, 200, 3000, 5000, 4])\n",
    "\n",
    "\n",
    "main()\n"
   ]
  },
  {
   "cell_type": "markdown",
   "metadata": {},
   "source": [
    "# ALGORITHMS CAN BE SIMPLE"
   ]
  },
  {
   "cell_type": "code",
   "execution_count": null,
   "metadata": {},
   "outputs": [],
   "source": [
    "def sum(nums):\n",
    "    sum = 0\n",
    "    for num in nums:\n",
    "        sum += num\n",
    "    return sum\n",
    "\n",
    "\n",
    "# don't touch below this line\n",
    "\n",
    "\n",
    "def test(nums):\n",
    "    res = sum(nums)\n",
    "    print(f\"Follower counts: {nums}\")\n",
    "    print(f\"Total follower count: {res}\")\n",
    "    print(\"----\")\n",
    "\n",
    "\n",
    "def main():\n",
    "    test([7, 4, 3, 100, 2343243, 343434, 1, 2, 32])\n",
    "    test([12, 12, 12])\n",
    "    test([10, 200, 3000, 5000, 4])\n",
    "\n",
    "\n",
    "main()\n"
   ]
  },
  {
   "cell_type": "markdown",
   "metadata": {},
   "source": [
    "# AVERAGE"
   ]
  },
  {
   "cell_type": "code",
   "execution_count": null,
   "metadata": {},
   "outputs": [],
   "source": [
    "def average_followers(nums):\n",
    "    sum = 0\n",
    "    for num in nums:\n",
    "        sum += num\n",
    "    return sum / len(nums)\n",
    "\n",
    "\n",
    "# don't touch below this line\n",
    "\n",
    "\n",
    "def test(nums):\n",
    "    res = average_followers(nums)\n",
    "    print(f'Follower counts: {nums}')\n",
    "    print(f'Average follower count: {res}')\n",
    "    print('----')\n",
    "\n",
    "\n",
    "def main():\n",
    "    test([7, 4, 3, 100, 2343243, 343434, 1, 2, 32])\n",
    "    test([12, 12, 12])\n",
    "    test([10, 200, 3000, 5000, 4])\n",
    "\n",
    "\n",
    "main()\n"
   ]
  },
  {
   "cell_type": "markdown",
   "metadata": {},
   "source": [
    "# MEDIAN"
   ]
  },
  {
   "cell_type": "code",
   "execution_count": null,
   "metadata": {},
   "outputs": [],
   "source": [
    "def median_followers(nums):\n",
    "    sum = 0\n",
    "    for num in nums:\n",
    "        sum += num\n",
    "    return median([nums])\n",
    "\n",
    "\n",
    "# don't touch below this line\n",
    "\n",
    "\n",
    "def test(nums):\n",
    "    res = round(median_followers(nums))\n",
    "    print(f\"Follower counts: {nums}\")\n",
    "    print(f\"Median follower count: {res}\")\n",
    "    print(\"----\")\n",
    "\n",
    "\n",
    "def main():\n",
    "    test([7, 4, 3, 100, 2343243, 343434, 1, 2, 32])\n",
    "    test([12, 12, 12])\n",
    "    test([10, 200, 3000, 5000, 4])\n",
    "    test([10, 200, 3000, 5000, 4, 6])\n",
    "\n",
    "\n",
    "main()\n"
   ]
  }
 ],
 "metadata": {
  "kernelspec": {
   "display_name": "Python 3",
   "language": "python",
   "name": "python3"
  },
  "language_info": {
   "codemirror_mode": {
    "name": "ipython",
    "version": 3
   },
   "file_extension": ".py",
   "mimetype": "text/x-python",
   "name": "python",
   "nbconvert_exporter": "python",
   "pygments_lexer": "ipython3",
   "version": "3.11.4"
  },
  "orig_nbformat": 4
 },
 "nbformat": 4,
 "nbformat_minor": 2
}
