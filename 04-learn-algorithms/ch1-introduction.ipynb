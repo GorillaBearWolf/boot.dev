{
 "cells": [
  {
   "cell_type": "markdown",
   "metadata": {},
   "source": [
    "# ALGORITHM - FIND MIN"
   ]
  },
  {
   "cell_type": "code",
   "execution_count": null,
   "metadata": {},
   "outputs": [],
   "source": [
    "def find_min(nums):\n",
    "    min = float(\"inf\")\n",
    "    for num in nums:\n",
    "        if num < min:\n",
    "            min = num\n",
    "    return min\n",
    "\n",
    "\n",
    "# don't touch below this line\n",
    "\n",
    "\n",
    "def test(nums):\n",
    "    res = find_min(nums)\n",
    "    print(f\"Follower counts: {nums}\")\n",
    "    print(f\"Lowest follower count: {res}\")\n",
    "    print(\"----\")\n",
    "\n",
    "\n",
    "def main():\n",
    "    test([7, 4, 3, 100, 2343243, 343434, 1, 2, 32])\n",
    "    test([12, 12, 12])\n",
    "    test([10, 200, 3000, 5000, 4])\n",
    "\n",
    "\n",
    "main()\n"
   ]
  },
  {
   "cell_type": "markdown",
   "metadata": {},
   "source": [
    "# ALGORITHMS CAN BE SIMPLE"
   ]
  },
  {
   "cell_type": "code",
   "execution_count": null,
   "metadata": {},
   "outputs": [],
   "source": [
    "def sum(nums):\n",
    "    sum = 0\n",
    "    for num in nums:\n",
    "        sum += num\n",
    "    return sum\n",
    "\n",
    "\n",
    "# don't touch below this line\n",
    "\n",
    "\n",
    "def test(nums):\n",
    "    res = sum(nums)\n",
    "    print(f\"Follower counts: {nums}\")\n",
    "    print(f\"Total follower count: {res}\")\n",
    "    print(\"----\")\n",
    "\n",
    "\n",
    "def main():\n",
    "    test([7, 4, 3, 100, 2343243, 343434, 1, 2, 32])\n",
    "    test([12, 12, 12])\n",
    "    test([10, 200, 3000, 5000, 4])\n",
    "\n",
    "\n",
    "main()\n"
   ]
  },
  {
   "cell_type": "markdown",
   "metadata": {},
   "source": [
    "# AVERAGE"
   ]
  },
  {
   "cell_type": "code",
   "execution_count": null,
   "metadata": {},
   "outputs": [],
   "source": [
    "def average_followers(nums):\n",
    "    sum = 0\n",
    "    for num in nums:\n",
    "        sum += num\n",
    "    return sum / len(nums)\n",
    "\n",
    "\n",
    "# don't touch below this line\n",
    "\n",
    "\n",
    "def test(nums):\n",
    "    res = average_followers(nums)\n",
    "    print(f'Follower counts: {nums}')\n",
    "    print(f'Average follower count: {res}')\n",
    "    print('----')\n",
    "\n",
    "\n",
    "def main():\n",
    "    test([7, 4, 3, 100, 2343243, 343434, 1, 2, 32])\n",
    "    test([12, 12, 12])\n",
    "    test([10, 200, 3000, 5000, 4])\n",
    "\n",
    "\n",
    "main()\n"
   ]
  },
  {
   "cell_type": "markdown",
   "metadata": {},
   "source": [
    "# MEDIAN"
   ]
  },
  {
   "cell_type": "code",
   "execution_count": 7,
   "metadata": {},
   "outputs": [
    {
     "ename": "NameError",
     "evalue": "name 'median' is not defined",
     "output_type": "error",
     "traceback": [
      "\u001b[0;31m---------------------------------------------------------------------------\u001b[0m",
      "\u001b[0;31mNameError\u001b[0m                                 Traceback (most recent call last)",
      "Cell \u001b[0;32mIn[7], line 25\u001b[0m\n\u001b[1;32m     21\u001b[0m     test([\u001b[39m10\u001b[39m, \u001b[39m200\u001b[39m, \u001b[39m3000\u001b[39m, \u001b[39m5000\u001b[39m, \u001b[39m4\u001b[39m])\n\u001b[1;32m     22\u001b[0m     test([\u001b[39m10\u001b[39m, \u001b[39m200\u001b[39m, \u001b[39m3000\u001b[39m, \u001b[39m5000\u001b[39m, \u001b[39m4\u001b[39m, \u001b[39m6\u001b[39m])\n\u001b[0;32m---> 25\u001b[0m main()\n",
      "Cell \u001b[0;32mIn[7], line 19\u001b[0m, in \u001b[0;36mmain\u001b[0;34m()\u001b[0m\n\u001b[1;32m     18\u001b[0m \u001b[39mdef\u001b[39;00m \u001b[39mmain\u001b[39m():\n\u001b[0;32m---> 19\u001b[0m     test([\u001b[39m7\u001b[39;49m, \u001b[39m4\u001b[39;49m, \u001b[39m3\u001b[39;49m, \u001b[39m100\u001b[39;49m, \u001b[39m2343243\u001b[39;49m, \u001b[39m343434\u001b[39;49m, \u001b[39m1\u001b[39;49m, \u001b[39m2\u001b[39;49m, \u001b[39m32\u001b[39;49m])\n\u001b[1;32m     20\u001b[0m     test([\u001b[39m12\u001b[39m, \u001b[39m12\u001b[39m, \u001b[39m12\u001b[39m])\n\u001b[1;32m     21\u001b[0m     test([\u001b[39m10\u001b[39m, \u001b[39m200\u001b[39m, \u001b[39m3000\u001b[39m, \u001b[39m5000\u001b[39m, \u001b[39m4\u001b[39m])\n",
      "Cell \u001b[0;32mIn[7], line 12\u001b[0m, in \u001b[0;36mtest\u001b[0;34m(nums)\u001b[0m\n\u001b[1;32m     11\u001b[0m \u001b[39mdef\u001b[39;00m \u001b[39mtest\u001b[39m(nums):\n\u001b[0;32m---> 12\u001b[0m     res \u001b[39m=\u001b[39m \u001b[39mround\u001b[39m(median_followers(nums))\n\u001b[1;32m     13\u001b[0m     \u001b[39mprint\u001b[39m(\u001b[39mf\u001b[39m\u001b[39m\"\u001b[39m\u001b[39mFollower counts: \u001b[39m\u001b[39m{\u001b[39;00mnums\u001b[39m}\u001b[39;00m\u001b[39m\"\u001b[39m)\n\u001b[1;32m     14\u001b[0m     \u001b[39mprint\u001b[39m(\u001b[39mf\u001b[39m\u001b[39m\"\u001b[39m\u001b[39mMedian follower count: \u001b[39m\u001b[39m{\u001b[39;00mres\u001b[39m}\u001b[39;00m\u001b[39m\"\u001b[39m)\n",
      "Cell \u001b[0;32mIn[7], line 5\u001b[0m, in \u001b[0;36mmedian_followers\u001b[0;34m(nums)\u001b[0m\n\u001b[1;32m      3\u001b[0m \u001b[39mfor\u001b[39;00m num \u001b[39min\u001b[39;00m nums:\n\u001b[1;32m      4\u001b[0m     \u001b[39msum\u001b[39m \u001b[39m+\u001b[39m\u001b[39m=\u001b[39m num\n\u001b[0;32m----> 5\u001b[0m \u001b[39mreturn\u001b[39;00m median([nums])\n",
      "\u001b[0;31mNameError\u001b[0m: name 'median' is not defined"
     ]
    }
   ],
   "source": [
    "def median_followers(nums):\n",
    "    sum = 0\n",
    "    for num in nums:\n",
    "        sum += num\n",
    "    return median([nums])\n",
    "\n",
    "\n",
    "# don't touch below this line\n",
    "\n",
    "\n",
    "def test(nums):\n",
    "    res = round(median_followers(nums))\n",
    "    print(f\"Follower counts: {nums}\")\n",
    "    print(f\"Median follower count: {res}\")\n",
    "    print(\"----\")\n",
    "\n",
    "\n",
    "def main():\n",
    "    test([7, 4, 3, 100, 2343243, 343434, 1, 2, 32])\n",
    "    test([12, 12, 12])\n",
    "    test([10, 200, 3000, 5000, 4])\n",
    "    test([10, 200, 3000, 5000, 4, 6])\n",
    "\n",
    "\n",
    "main()\n"
   ]
  }
 ],
 "metadata": {
  "kernelspec": {
   "display_name": "Python 3",
   "language": "python",
   "name": "python3"
  },
  "language_info": {
   "codemirror_mode": {
    "name": "ipython",
    "version": 3
   },
   "file_extension": ".py",
   "mimetype": "text/x-python",
   "name": "python",
   "nbconvert_exporter": "python",
   "pygments_lexer": "ipython3",
   "version": "3.11.4"
  },
  "orig_nbformat": 4
 },
 "nbformat": 4,
 "nbformat_minor": 2
}
