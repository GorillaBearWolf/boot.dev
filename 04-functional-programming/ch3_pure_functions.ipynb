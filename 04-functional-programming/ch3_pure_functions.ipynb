{
 "cells": [
  {
   "cell_type": "code",
   "execution_count": 3,
   "metadata": {},
   "outputs": [
    {
     "name": "stdout",
     "output_type": "stream",
     "text": [
      "Converted 'Proposal.docx' to 'Proposal.pdf'\n",
      "=====================================\n",
      "Converted 'Invoice.txt' to 'Invoice.docx'\n",
      "=====================================\n",
      "Converted 'Presentation.ppt' to 'Presentation.pptx'\n",
      "=====================================\n",
      "Cannot convert 'Intro.pptx' to 'jpeg' format!\n",
      "=====================================\n",
      "Converted 'Summary.md' to 'Summary.txt'\n",
      "=====================================\n",
      "Cannot convert 'Contract.pdf' to 'pdoof' format!\n",
      "=====================================\n"
     ]
    }
   ],
   "source": [
    "def convert_file_format(filename, target_format):\n",
    "    valid_extensions = [\"docx\", \"pdf\", \"txt\", \"pptx\", \"ppt\", \"md\"]\n",
    "    valid_conversions = {\n",
    "    \"docx\": [\"pdf\", \"txt\", \"md\"],\n",
    "    \"pdf\": [\"docx\", \"txt\", \"md\"],\n",
    "    \"txt\": [\"docx\", \"pdf\", \"md\"],\n",
    "    \"pptx\": [\"ppt\", \"pdf\"],\n",
    "    \"ppt\": [\"pptx\", \"pdf\"],\n",
    "    \"md\": [\"docx\", \"pdf\", \"txt\"],\n",
    "    }\n",
    "    current_format = filename.split(\".\")[-1]\n",
    "    if (\n",
    "        current_format in valid_extensions\n",
    "        and target_format in valid_conversions[current_format]\n",
    "    ):\n",
    "        return filename.replace(current_format, target_format)\n",
    "    return None\n",
    "\n",
    "\n",
    "# Don't edit below this line\n",
    "\n",
    "\n",
    "def test(filename, target_format):\n",
    "    converted_filename = convert_file_format(filename, target_format)\n",
    "    if converted_filename:\n",
    "        print(f\"Converted '{filename}' to '{converted_filename}'\")\n",
    "    else:\n",
    "        print(f\"Cannot convert '{filename}' to '{target_format}' format!\")\n",
    "    print(\"=====================================\")\n",
    "\n",
    "\n",
    "def mutate_globals():\n",
    "    global valid_conversions\n",
    "    valid_conversions = {\n",
    "        \"docx\": [\"jpeg\"],\n",
    "        \"pdf\": [\"docx\", \"txt\", \"md\"],\n",
    "        \"txt\": [\"docx\", \"pdf\", \"md\"],\n",
    "        \"pptx\": [\"ppt\", \"pdf\"],\n",
    "        \"ppt\": [\"pptx\", \"jpeg\"],\n",
    "        \"md\": [\"docx\", \"pdf\", \"txt\"],\n",
    "    }\n",
    "\n",
    "\n",
    "def main():\n",
    "    mutate_globals()\n",
    "    test(\"Proposal.docx\", \"pdf\")\n",
    "    test(\"Invoice.txt\", \"docx\")\n",
    "    test(\"Presentation.ppt\", \"pptx\")\n",
    "    test(\"Intro.pptx\", \"jpeg\")\n",
    "    test(\"Summary.md\", \"txt\")\n",
    "    test(\"Contract.pdf\", \"pdoof\")\n",
    "\n",
    "\n",
    "main()\n"
   ]
  }
 ],
 "metadata": {
  "kernelspec": {
   "display_name": "Python 3",
   "language": "python",
   "name": "python3"
  },
  "language_info": {
   "codemirror_mode": {
    "name": "ipython",
    "version": 3
   },
   "file_extension": ".py",
   "mimetype": "text/x-python",
   "name": "python",
   "nbconvert_exporter": "python",
   "pygments_lexer": "ipython3",
   "version": "3.11.5"
  },
  "orig_nbformat": 4
 },
 "nbformat": 4,
 "nbformat_minor": 2
}
