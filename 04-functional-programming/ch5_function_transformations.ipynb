{
 "cells": [
  {
   "cell_type": "code",
   "execution_count": 21,
   "metadata": {},
   "outputs": [],
   "source": [
    "def get_logger(formatter):\n",
    "    def func(a):\n",
    "        return formatter(a)\n",
    "    return func\n",
    "\n"
   ]
  },
  {
   "cell_type": "code",
   "execution_count": 22,
   "metadata": {},
   "outputs": [
    {
     "name": "stdout",
     "output_type": "stream",
     "text": [
      "Logs:\n"
     ]
    },
    {
     "ename": "TypeError",
     "evalue": "get_logger.<locals>.func() takes 1 positional argument but 2 were given",
     "output_type": "error",
     "traceback": [
      "\u001b[0;31m---------------------------------------------------------------------------\u001b[0m",
      "\u001b[0;31mTypeError\u001b[0m                                 Traceback (most recent call last)",
      "Cell \u001b[0;32mIn[22], line 33\u001b[0m\n\u001b[1;32m     26\u001b[0m     mail_errors \u001b[38;5;241m=\u001b[39m [\n\u001b[1;32m     27\u001b[0m         \u001b[38;5;124m\"\u001b[39m\u001b[38;5;124memail too large\u001b[39m\u001b[38;5;124m\"\u001b[39m,\n\u001b[1;32m     28\u001b[0m         \u001b[38;5;124m\"\u001b[39m\u001b[38;5;124mnon alphanumeric symbols found\u001b[39m\u001b[38;5;124m\"\u001b[39m,\n\u001b[1;32m     29\u001b[0m     ]\n\u001b[1;32m     30\u001b[0m     test(\u001b[38;5;124m\"\u001b[39m\u001b[38;5;124mDoc2Doc WARNING\u001b[39m\u001b[38;5;124m\"\u001b[39m, mail_errors, dash_delimit)\n\u001b[0;32m---> 33\u001b[0m \u001b[43mmain\u001b[49m\u001b[43m(\u001b[49m\u001b[43m)\u001b[49m\n",
      "Cell \u001b[0;32mIn[22], line 24\u001b[0m, in \u001b[0;36mmain\u001b[0;34m()\u001b[0m\n\u001b[1;32m     17\u001b[0m \u001b[38;5;28;01mdef\u001b[39;00m \u001b[38;5;21mmain\u001b[39m():\n\u001b[1;32m     18\u001b[0m     db_errors \u001b[38;5;241m=\u001b[39m [\n\u001b[1;32m     19\u001b[0m         \u001b[38;5;124m\"\u001b[39m\u001b[38;5;124mout of memory\u001b[39m\u001b[38;5;124m\"\u001b[39m,\n\u001b[1;32m     20\u001b[0m         \u001b[38;5;124m\"\u001b[39m\u001b[38;5;124mcpu is pegged\u001b[39m\u001b[38;5;124m\"\u001b[39m,\n\u001b[1;32m     21\u001b[0m         \u001b[38;5;124m\"\u001b[39m\u001b[38;5;124mnetworking issue\u001b[39m\u001b[38;5;124m\"\u001b[39m,\n\u001b[1;32m     22\u001b[0m         \u001b[38;5;124m\"\u001b[39m\u001b[38;5;124minvalid syntax\u001b[39m\u001b[38;5;124m\"\u001b[39m,\n\u001b[1;32m     23\u001b[0m     ]\n\u001b[0;32m---> 24\u001b[0m     \u001b[43mtest\u001b[49m\u001b[43m(\u001b[49m\u001b[38;5;124;43m\"\u001b[39;49m\u001b[38;5;124;43mDoc2Doc FATAL\u001b[39;49m\u001b[38;5;124;43m\"\u001b[39;49m\u001b[43m,\u001b[49m\u001b[43m \u001b[49m\u001b[43mdb_errors\u001b[49m\u001b[43m,\u001b[49m\u001b[43m \u001b[49m\u001b[43mcolon_delimit\u001b[49m\u001b[43m)\u001b[49m\n\u001b[1;32m     26\u001b[0m     mail_errors \u001b[38;5;241m=\u001b[39m [\n\u001b[1;32m     27\u001b[0m         \u001b[38;5;124m\"\u001b[39m\u001b[38;5;124memail too large\u001b[39m\u001b[38;5;124m\"\u001b[39m,\n\u001b[1;32m     28\u001b[0m         \u001b[38;5;124m\"\u001b[39m\u001b[38;5;124mnon alphanumeric symbols found\u001b[39m\u001b[38;5;124m\"\u001b[39m,\n\u001b[1;32m     29\u001b[0m     ]\n\u001b[1;32m     30\u001b[0m     test(\u001b[38;5;124m\"\u001b[39m\u001b[38;5;124mDoc2Doc WARNING\u001b[39m\u001b[38;5;124m\"\u001b[39m, mail_errors, dash_delimit)\n",
      "Cell \u001b[0;32mIn[22], line 5\u001b[0m, in \u001b[0;36mtest\u001b[0;34m(first, errors, formatter)\u001b[0m\n\u001b[1;32m      3\u001b[0m logger \u001b[38;5;241m=\u001b[39m get_logger(formatter)\n\u001b[1;32m      4\u001b[0m \u001b[38;5;28;01mfor\u001b[39;00m err \u001b[38;5;129;01min\u001b[39;00m errors:\n\u001b[0;32m----> 5\u001b[0m     \u001b[43mlogger\u001b[49m\u001b[43m(\u001b[49m\u001b[43mfirst\u001b[49m\u001b[43m,\u001b[49m\u001b[43m \u001b[49m\u001b[43merr\u001b[49m\u001b[43m)\u001b[49m\n\u001b[1;32m      6\u001b[0m \u001b[38;5;28mprint\u001b[39m(\u001b[38;5;124m\"\u001b[39m\u001b[38;5;124m====================================\u001b[39m\u001b[38;5;124m\"\u001b[39m)\n",
      "\u001b[0;31mTypeError\u001b[0m: get_logger.<locals>.func() takes 1 positional argument but 2 were given"
     ]
    }
   ],
   "source": [
    "def test(first, errors, formatter):\n",
    "    print(\"Logs:\")\n",
    "    logger = get_logger(formatter)\n",
    "    for err in errors:\n",
    "        logger(first, err)\n",
    "    print(\"====================================\")\n",
    "\n",
    "\n",
    "def colon_delimit(first, second):\n",
    "    return f\"{first}: {second}\"\n",
    "\n",
    "\n",
    "def dash_delimit(first, second):\n",
    "    return f\"{first} - {second}\"\n",
    "\n",
    "\n",
    "def main():\n",
    "    db_errors = [\n",
    "        \"out of memory\",\n",
    "        \"cpu is pegged\",\n",
    "        \"networking issue\",\n",
    "        \"invalid syntax\",\n",
    "    ]\n",
    "    test(\"Doc2Doc FATAL\", db_errors, colon_delimit)\n",
    "\n",
    "    mail_errors = [\n",
    "        \"email too large\",\n",
    "        \"non alphanumeric symbols found\",\n",
    "    ]\n",
    "    test(\"Doc2Doc WARNING\", mail_errors, dash_delimit)\n",
    "\n",
    "\n",
    "main()\n"
   ]
  }
 ],
 "metadata": {
  "kernelspec": {
   "display_name": ".venv",
   "language": "python",
   "name": "python3"
  },
  "language_info": {
   "codemirror_mode": {
    "name": "ipython",
    "version": 3
   },
   "file_extension": ".py",
   "mimetype": "text/x-python",
   "name": "python",
   "nbconvert_exporter": "python",
   "pygments_lexer": "ipython3",
   "version": "3.12.1"
  }
 },
 "nbformat": 4,
 "nbformat_minor": 2
}
