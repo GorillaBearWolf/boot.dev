{
 "cells": [
  {
   "attachments": {},
   "cell_type": "markdown",
   "metadata": {},
   "source": [
    "# Errors and exceptions in Python\n",
    "\n",
    "You've probably encountered some errors in your code from time to time if you've gotten this far in the course. In Python, there are two main kinds of distinguishable errors.\n",
    "\n",
    "- syntax errors\n",
    "- exceptions\n",
    "\n",
    "## Syntax errors\n",
    "\n",
    "You probably know what these are by now. A syntax error is just the Python interpreter telling you that your code isn't adhering to proper Python syntax.\n",
    "\n",
    "> ```py\n",
    "> this is not valid code, so it will error\n",
    "> ```\n",
    "\n",
    "If I try to run that sentence as if it were valid code I'll get a syntax error:\n",
    "\n",
    "> ```py\n",
    "> this is not valid code, so it will error\n",
    ">       ^\n",
    "> SyntaxError: invalid syntax\n",
    "> ```\n",
    "\n",
    "## Exceptions\n",
    "\n",
    "Even if your code has the right syntax however, it may still cause an error when an attempt is made to execute it. Errors detected during execution are called \"exceptions\" and can be handled gracefully by your code. You can even raise your own exceptions when bad things happen in your code.\n",
    "\n",
    "Python uses a try-except pattern for handling errors.\n",
    "\n",
    "> ```py\n",
    "> try:\n",
    ">   10 / 0\n",
    "> except Exception as e:\n",
    ">   print(e)\n",
    "> \n",
    "> # prints \"division by zero\"\n",
    "> ```\n",
    "\n",
    "The `try` block is executed until an exception is raised or it completes, whichever happens first. In this case, a \"divide by zero\" error is raised because division by zero is impossible. The `except` block is only executed if an exception is raised in the `try` block. It then exposes the exception as data (`e` in our case) so that the program can handle the exception gracefully without crashing.\n",
    "\n",
    "### Assignment\n",
    "\n",
    "One of the calls to `get_player_record` is throwing a `player id not found` exception. Change the code to safely make each call within a try-except block. If an exception is raised, print only the exception.\n"
   ]
  },
  {
   "cell_type": "code",
   "execution_count": 1,
   "metadata": {},
   "outputs": [
    {
     "name": "stdout",
     "output_type": "stream",
     "text": [
      "{'name': 'Slayer', 'level': 128}\n",
      "{'name': 'Dorgoth', 'level': 300}\n",
      "{'name': 'Saruman', 'level': 4000}\n",
      "player id not found\n"
     ]
    }
   ],
   "source": [
    "def main():\n",
    "    try:\n",
    "        print(get_player_record(1))\n",
    "        print(get_player_record(2))\n",
    "        print(get_player_record(3))\n",
    "        print(get_player_record(4))\n",
    "    except Exception as e:\n",
    "        print(f\"{e}\")\n",
    "\n",
    "# Don't edit below this line\n",
    "\n",
    "\n",
    "def get_player_record(player_id):\n",
    "    if player_id == 1:\n",
    "        return {\"name\": \"Slayer\", \"level\": 128}\n",
    "    if player_id == 2:\n",
    "        return {\"name\": \"Dorgoth\", \"level\": 300}\n",
    "    if player_id == 3:\n",
    "        return {\"name\": \"Saruman\", \"level\": 4000}\n",
    "    raise Exception(\"player id not found\")\n",
    "\n",
    "\n",
    "main()\n"
   ]
  },
  {
   "attachments": {},
   "cell_type": "markdown",
   "metadata": {},
   "source": [
    "# Raising your own exceptions\n",
    "\n",
    "Errors are *not* something to be scared of. Every program that runs in production is expected to manage errors on a constant basis. Our job as developers is to handle the errors gracefully and in a way that aligns with our user's expectations.\n",
    "\n",
    "## Errors are NOT bugs\n",
    "\n",
    "[Bugs vs Errors in Programming](https://youtu.be/k23hjyvvhcA)\n",
    "\n",
    "When something in our own code happens that we don't expect, we should raise our own exceptions. For example, if someone passes some bad inputs to a function we write, we should not be afraid to raise an exception to let them know they did something wrong.\n",
    "\n",
    "An error or exception is raised when something bad happens, but as long as our code handles it as users expect it to, it's *not* a bug. A bug is when code behaves in ways our users don't expect it to.\n",
    "\n",
    "For example, if a player tries to forge an iron sword out of bronze metal, we might raise an exception and display an error message to the player. However, that's the expected behavior of the game, so it's not a bug. If a player can forge the iron sword out of bronze, that may be considered a bug because that's against the rules of the game.\n",
    "Syntax for raising exceptions\n",
    "\n",
    "> ```py\n",
    "> raise Exception(\"something bad happened\")\n",
    "> ```\n",
    "\n",
    "### Assignment\n",
    "\n",
    "If a `player_id` that doesn't exist is passed into the `get_player_record` function, we need to raise our own error to alert the caller of our function that the player they are looking for doesn't exist. The exception should say `player id not found`.\n"
   ]
  },
  {
   "cell_type": "code",
   "execution_count": 3,
   "metadata": {},
   "outputs": [
    {
     "name": "stdout",
     "output_type": "stream",
     "text": [
      "{'name': 'Slayer', 'level': 128}\n",
      "{'name': 'Dorgoth', 'level': 300}\n",
      "{'name': 'Saruman', 'level': 4000}\n",
      "player id not found\n"
     ]
    }
   ],
   "source": [
    "def get_player_record(player_id):\n",
    "    if player_id == 1:\n",
    "        return {\"name\": \"Slayer\", \"level\": 128}\n",
    "    if player_id == 2:\n",
    "        return {\"name\": \"Dorgoth\", \"level\": 300}\n",
    "    if player_id == 3:\n",
    "        return {\"name\": \"Saruman\", \"level\": 4000}\n",
    "    raise Exception(\"player id not found\")\n",
    "\n",
    "\n",
    "# Don't edit below this line\n",
    "\n",
    "\n",
    "def main():\n",
    "    try:\n",
    "        print(get_player_record(1))\n",
    "        print(get_player_record(2))\n",
    "        print(get_player_record(3))\n",
    "        print(get_player_record(4))\n",
    "    except Exception as e:\n",
    "        print(e)\n",
    "\n",
    "\n",
    "main()\n"
   ]
  },
  {
   "attachments": {},
   "cell_type": "markdown",
   "metadata": {},
   "source": [
    "# Raising exceptions review\n",
    "\n",
    "Software applications aren't perfect, and user input and network connectivity are far from predictable. Despite intensive debugging and unit testing, applications will still have failure cases.\n",
    "\n",
    "Loss of network connectivity, missing database rows, out of memory issues, and unexpected user inputs can all prevent an application from performing \"normally\". It is your job to catch and handle any and all exceptions gracefully so that your app keeps working. When you are able to detect that something is amiss, you should be raising the errors yourself, in addition to the \"default\" exceptions that the Python interpreter will raise.\n",
    "\n",
    "> ```py\n",
    "> raise Exception(\"something bad happened\")\n",
    "> ```\n"
   ]
  },
  {
   "attachments": {},
   "cell_type": "markdown",
   "metadata": {},
   "source": [
    "# Different types of exceptions\n",
    "\n",
    "We haven't covered classes and objects yet, which is what an Exception really is at its core. We'll go more into that in the object-oriented programming course that we have lined up for you next.\n",
    "\n",
    "For now, what is important to understand is that there are different types of exceptions and that we can differentiate between them in our code.\n",
    "\n",
    "## Syntax\n",
    "\n",
    "> ```py\n",
    "> try:\n",
    ">     10/0\n",
    "> except ZeroDivisionError:\n",
    ">     print(\"0 division\")\n",
    "> except Exception:\n",
    ">     print(\"unknown exception\")\n",
    "> \n",
    "> try:\n",
    ">     nums = [0, 1]\n",
    ">     print(nums[2])\n",
    "> except ZeroDivisionError:\n",
    ">     print(\"0 division\")\n",
    "> except Exception:\n",
    ">     print(\"unknown exception\")\n",
    "> ```\n",
    "\n",
    "Which will print:\n",
    "\n",
    "> ```py\n",
    "> 0 division\n",
    "> unknown exception\n",
    "> ```\n",
    "\n",
    "### Assignment\n",
    "\n",
    "Take a look at the `get_player_record` function. It can now raise two different types of exceptions. One is an `IndexError`, the other is a custom exception message of the base `Exception` type.\n",
    "\n",
    "Complete the `handle_get_player_record()` function. It should return the result of `get_player_record` but if an `IndexError` is raised it will instead *print* `index is too high`. Otherwise, if any other exception is raised it will just print the exception itself.\n"
   ]
  },
  {
   "cell_type": "code",
   "execution_count": 5,
   "metadata": {},
   "outputs": [
    {
     "name": "stdout",
     "output_type": "stream",
     "text": [
      "{'name': 'Slayer', 'level': 128}\n",
      "{'name': 'Dorgoth', 'level': 300}\n",
      "{'name': 'Saruman', 'level': 4000}\n",
      "index is too high\n",
      "negative ids not allowed\n"
     ]
    }
   ],
   "source": [
    "def handle_get_player_record(player_id):\n",
    "    try:\n",
    "      return get_player_record(player_id)\n",
    "    except IndexError:\n",
    "      print(\"index is too high\")\n",
    "    except Exception as e:\n",
    "      print(e)\n",
    "\n",
    "\n",
    "# Don't edit below this line\n",
    "\n",
    "\n",
    "def get_player_record(player_id):\n",
    "    if player_id < 0:\n",
    "        raise Exception(\"negative ids not allowed\")\n",
    "    players = [\n",
    "        {\"name\": \"Slayer\", \"level\": 128},\n",
    "        {\"name\": \"Dorgoth\", \"level\": 300},\n",
    "        {\"name\": \"Saruman\", \"level\": 4000},\n",
    "    ]\n",
    "    return players[player_id]\n",
    "\n",
    "\n",
    "def test(player_id):\n",
    "    player_record = handle_get_player_record(player_id)\n",
    "    if player_record is not None:\n",
    "        print(player_record)\n",
    "\n",
    "\n",
    "def main():\n",
    "    test(0)\n",
    "    test(1)\n",
    "    test(2)\n",
    "    test(3)\n",
    "    test(-1)\n",
    "\n",
    "\n",
    "main()\n"
   ]
  },
  {
   "attachments": {},
   "cell_type": "markdown",
   "metadata": {},
   "source": [
    "# Raising exceptions review\n",
    "\n",
    "As you've noticed, there are many kinds of exceptions. Many specific exceptions are built into the language like `IndexError` and `ZeroDivisionError`, and all Exceptions count as the parent `Exception` type.\n",
    "\n",
    "If you're interested in the official documentation on all the built-in exceptions you can find a [list here](https://docs.python.org/3/library/exceptions.html).\n"
   ]
  },
  {
   "cell_type": "code",
   "execution_count": 6,
   "metadata": {},
   "outputs": [
    {
     "ename": "Exception",
     "evalue": "zero division",
     "output_type": "error",
     "traceback": [
      "\u001b[0;31m---------------------------------------------------------------------------\u001b[0m",
      "\u001b[0;31mException\u001b[0m                                 Traceback (most recent call last)",
      "\u001b[1;32m/Users/matthew/Library/Mobile Documents/com~apple~CloudDocs/Developer/boot-dot-dev/ch10-errors.ipynb Cell 9\u001b[0m in \u001b[0;36m2\n\u001b[1;32m      <a href='vscode-notebook-cell:/Users/matthew/Library/Mobile%20Documents/com~apple~CloudDocs/Developer/boot-dot-dev/ch10-errors.ipynb#X24sZmlsZQ%3D%3D?line=0'>1</a>\u001b[0m \u001b[39mtry\u001b[39;00m:\n\u001b[0;32m----> <a href='vscode-notebook-cell:/Users/matthew/Library/Mobile%20Documents/com~apple~CloudDocs/Developer/boot-dot-dev/ch10-errors.ipynb#X24sZmlsZQ%3D%3D?line=1'>2</a>\u001b[0m     \u001b[39mraise\u001b[39;00m \u001b[39mException\u001b[39;00m(\u001b[39m'\u001b[39m\u001b[39mzero division\u001b[39m\u001b[39m'\u001b[39m)\n\u001b[1;32m      <a href='vscode-notebook-cell:/Users/matthew/Library/Mobile%20Documents/com~apple~CloudDocs/Developer/boot-dot-dev/ch10-errors.ipynb#X24sZmlsZQ%3D%3D?line=2'>3</a>\u001b[0m \u001b[39mexcept\u001b[39;00m \u001b[39mZeroDivisionError\u001b[39;00m \u001b[39mas\u001b[39;00m e:\n\u001b[1;32m      <a href='vscode-notebook-cell:/Users/matthew/Library/Mobile%20Documents/com~apple~CloudDocs/Developer/boot-dot-dev/ch10-errors.ipynb#X24sZmlsZQ%3D%3D?line=3'>4</a>\u001b[0m     \u001b[39mprint\u001b[39m(\u001b[39m\"\u001b[39m\u001b[39mzero\u001b[39m\u001b[39m\"\u001b[39m)\n",
      "\u001b[0;31mException\u001b[0m: zero division"
     ]
    }
   ],
   "source": [
    "try:\n",
    "    raise Exception('zero division')\n",
    "except ZeroDivisionError as e:\n",
    "    print(\"zero\")\n"
   ]
  },
  {
   "cell_type": "code",
   "execution_count": 7,
   "metadata": {},
   "outputs": [
    {
     "name": "stdout",
     "output_type": "stream",
     "text": [
      "other\n"
     ]
    }
   ],
   "source": [
    "try:\n",
    "    raise Exception('zero division')\n",
    "except ZeroDivisionError as e:\n",
    "    print(\"zero\")\n",
    "except Exception as e:\n",
    "    print(\"other\")\n"
   ]
  },
  {
   "cell_type": "code",
   "execution_count": 8,
   "metadata": {},
   "outputs": [
    {
     "name": "stdout",
     "output_type": "stream",
     "text": [
      "other\n"
     ]
    }
   ],
   "source": [
    "try:\n",
    "    10/0\n",
    "except Exception as e:\n",
    "    print(\"other\")\n"
   ]
  },
  {
   "attachments": {},
   "cell_type": "markdown",
   "metadata": {},
   "source": [
    "# Purchasing\n",
    "\n",
    "You've been asked to work on the checkout flow of a popular e-commerce site.\n",
    "\n",
    "## Challenge\n",
    "\n",
    "Complete the `purchase` function. If the customer doesn't have enough money raise an exception with the text \"not enough money\".\n",
    "\n",
    "Otherwise, return the amount of money the customer has leftover after completing the purchase.\n"
   ]
  },
  {
   "cell_type": "code",
   "execution_count": 48,
   "metadata": {},
   "outputs": [
    {
     "name": "stdout",
     "output_type": "stream",
     "text": [
      "Attempting to purchase an item for $10.0 with $20.0\n",
      "Success! There is $10.0 leftover\n",
      "---\n",
      "Attempting to purchase an item for $30.0 with $20.0\n",
      "Purchase exception: not enough money\n",
      "---\n",
      "Attempting to purchase an item for $15.1 with $15.1\n",
      "Success! There is $0.0 leftover\n",
      "---\n",
      "Attempting to purchase an item for $1430.0 with $69.0\n",
      "Purchase exception: not enough money\n",
      "---\n"
     ]
    }
   ],
   "source": [
    "def purchase(price, money_available):\n",
    "    if money_available < price:\n",
    "        raise Exception(\"not enough money\")\n",
    "    return money_available - price\n",
    "\n",
    "\n",
    "# Don't edit below this line\n",
    "\n",
    "\n",
    "def test(price, money_available):\n",
    "    try:\n",
    "        print(f\"Attempting to purchase an item for ${price} with ${money_available}\")\n",
    "        leftover = purchase(price, money_available)\n",
    "        print(f\"Success! There is ${leftover} leftover\")\n",
    "    except Exception as e:\n",
    "        print(f\"Purchase exception: {e}\")\n",
    "    print(\"---\")\n",
    "\n",
    "\n",
    "test(10.00, 20.00)\n",
    "test(30.00, 20.00)\n",
    "test(15.10, 15.10)\n",
    "test(1430.00, 69.00)\n"
   ]
  },
  {
   "attachments": {},
   "cell_type": "markdown",
   "metadata": {},
   "source": [
    "# Purchasing\n",
    "\n",
    "Now we need to use our `purchase` function to process an entire list of purchase orders.\n",
    "\n",
    "### Challenge\n",
    "\n",
    "Complete the `make_purchases` function. It accepts a list of dictionaries representing purchase orders. You can take a look at the test suite for an example of the shape of the data.\n",
    "\n",
    "It returns a list of floats representing the amount of money left in each customer's account after completing a purchase. The returned list may be smaller because it will only contain the leftover amounts of the customers who were able to successfully complete a purchase.\n",
    "\n",
    "`make_purchases()` should create an empty list of \"leftovers\", and then loop over each order, running the `purchase()` function for each one. If an exception is raised, print:\n",
    "\n",
    "Purchase exception: ERROR\n",
    "\n",
    "*Where `ERROR` is the exception's text.*\n",
    "\n",
    "Then continue to the next order without adding anything to the leftovers list.\n",
    "\n",
    "Otherwise, if the purchase was successful, append the leftover amount to the \"leftovers\" list.\n",
    "\n",
    "At the end of the loop return the leftovers list.\n",
    "\n",
    "*The order of the returned list should be the same as the input, but with the invalid items removed.*"
   ]
  },
  {
   "cell_type": "code",
   "execution_count": 24,
   "metadata": {},
   "outputs": [
    {
     "name": "stdout",
     "output_type": "stream",
     "text": [
      "Making purchases...\n"
     ]
    },
    {
     "ename": "NameError",
     "evalue": "name 'PurchaseException' is not defined",
     "output_type": "error",
     "traceback": [
      "\u001b[0;31m---------------------------------------------------------------------------\u001b[0m",
      "\u001b[0;31mNameError\u001b[0m                                 Traceback (most recent call last)",
      "\u001b[1;32m/Users/matthew/Library/Mobile Documents/com~apple~CloudDocs/Developer/boot-dot-dev/ch10-errors.ipynb Cell 15\u001b[0m in \u001b[0;36m4\n\u001b[1;32m     <a href='vscode-notebook-cell:/Users/matthew/Library/Mobile%20Documents/com~apple~CloudDocs/Developer/boot-dot-dev/ch10-errors.ipynb#X21sZmlsZQ%3D%3D?line=35'>36</a>\u001b[0m         \u001b[39mraise\u001b[39;00m \u001b[39mException\u001b[39;00m(\u001b[39mf\u001b[39m\u001b[39m\"\u001b[39m\u001b[39m{\u001b[39;00mmoney_available\u001b[39m:\u001b[39;00m\u001b[39m.2f\u001b[39m\u001b[39m}\u001b[39;00m\u001b[39m is not enough for \u001b[39m\u001b[39m{\u001b[39;00mprice\u001b[39m:\u001b[39;00m\u001b[39m.2f\u001b[39m\u001b[39m}\u001b[39;00m\u001b[39m\"\u001b[39m)\n\u001b[1;32m     <a href='vscode-notebook-cell:/Users/matthew/Library/Mobile%20Documents/com~apple~CloudDocs/Developer/boot-dot-dev/ch10-errors.ipynb#X21sZmlsZQ%3D%3D?line=36'>37</a>\u001b[0m     \u001b[39mreturn\u001b[39;00m money_available \u001b[39m-\u001b[39m price\n\u001b[0;32m---> <a href='vscode-notebook-cell:/Users/matthew/Library/Mobile%20Documents/com~apple~CloudDocs/Developer/boot-dot-dev/ch10-errors.ipynb#X21sZmlsZQ%3D%3D?line=39'>40</a>\u001b[0m main()\n",
      "\u001b[1;32m/Users/matthew/Library/Mobile Documents/com~apple~CloudDocs/Developer/boot-dot-dev/ch10-errors.ipynb Cell 15\u001b[0m in \u001b[0;36m1\n\u001b[1;32m     <a href='vscode-notebook-cell:/Users/matthew/Library/Mobile%20Documents/com~apple~CloudDocs/Developer/boot-dot-dev/ch10-errors.ipynb#X21sZmlsZQ%3D%3D?line=13'>14</a>\u001b[0m \u001b[39mdef\u001b[39;00m \u001b[39mmain\u001b[39m():\n\u001b[1;32m     <a href='vscode-notebook-cell:/Users/matthew/Library/Mobile%20Documents/com~apple~CloudDocs/Developer/boot-dot-dev/ch10-errors.ipynb#X21sZmlsZQ%3D%3D?line=14'>15</a>\u001b[0m     \u001b[39mprint\u001b[39m(\u001b[39m\"\u001b[39m\u001b[39mMaking purchases...\u001b[39m\u001b[39m\"\u001b[39m)\n\u001b[0;32m---> <a href='vscode-notebook-cell:/Users/matthew/Library/Mobile%20Documents/com~apple~CloudDocs/Developer/boot-dot-dev/ch10-errors.ipynb#X21sZmlsZQ%3D%3D?line=15'>16</a>\u001b[0m     leftovers \u001b[39m=\u001b[39m make_purchases(\n\u001b[1;32m     <a href='vscode-notebook-cell:/Users/matthew/Library/Mobile%20Documents/com~apple~CloudDocs/Developer/boot-dot-dev/ch10-errors.ipynb#X21sZmlsZQ%3D%3D?line=16'>17</a>\u001b[0m         [\n\u001b[1;32m     <a href='vscode-notebook-cell:/Users/matthew/Library/Mobile%20Documents/com~apple~CloudDocs/Developer/boot-dot-dev/ch10-errors.ipynb#X21sZmlsZQ%3D%3D?line=17'>18</a>\u001b[0m             {\u001b[39m\"\u001b[39;49m\u001b[39mprice\u001b[39;49m\u001b[39m\"\u001b[39;49m: \u001b[39m10.00\u001b[39;49m, \u001b[39m\"\u001b[39;49m\u001b[39mmoney_available\u001b[39;49m\u001b[39m\"\u001b[39;49m: \u001b[39m125.00\u001b[39;49m},\n\u001b[1;32m     <a href='vscode-notebook-cell:/Users/matthew/Library/Mobile%20Documents/com~apple~CloudDocs/Developer/boot-dot-dev/ch10-errors.ipynb#X21sZmlsZQ%3D%3D?line=18'>19</a>\u001b[0m             {\u001b[39m\"\u001b[39;49m\u001b[39mprice\u001b[39;49m\u001b[39m\"\u001b[39;49m: \u001b[39m5.00\u001b[39;49m, \u001b[39m\"\u001b[39;49m\u001b[39mmoney_available\u001b[39;49m\u001b[39m\"\u001b[39;49m: \u001b[39m2.00\u001b[39;49m},\n\u001b[1;32m     <a href='vscode-notebook-cell:/Users/matthew/Library/Mobile%20Documents/com~apple~CloudDocs/Developer/boot-dot-dev/ch10-errors.ipynb#X21sZmlsZQ%3D%3D?line=19'>20</a>\u001b[0m             {\u001b[39m\"\u001b[39;49m\u001b[39mprice\u001b[39;49m\u001b[39m\"\u001b[39;49m: \u001b[39m20.01\u001b[39;49m, \u001b[39m\"\u001b[39;49m\u001b[39mmoney_available\u001b[39;49m\u001b[39m\"\u001b[39;49m: \u001b[39m5.20\u001b[39;49m},\n\u001b[1;32m     <a href='vscode-notebook-cell:/Users/matthew/Library/Mobile%20Documents/com~apple~CloudDocs/Developer/boot-dot-dev/ch10-errors.ipynb#X21sZmlsZQ%3D%3D?line=20'>21</a>\u001b[0m             {\u001b[39m\"\u001b[39;49m\u001b[39mprice\u001b[39;49m\u001b[39m\"\u001b[39;49m: \u001b[39m1.04\u001b[39;49m, \u001b[39m\"\u001b[39;49m\u001b[39mmoney_available\u001b[39;49m\u001b[39m\"\u001b[39;49m: \u001b[39m254.00\u001b[39;49m},\n\u001b[1;32m     <a href='vscode-notebook-cell:/Users/matthew/Library/Mobile%20Documents/com~apple~CloudDocs/Developer/boot-dot-dev/ch10-errors.ipynb#X21sZmlsZQ%3D%3D?line=21'>22</a>\u001b[0m             {\u001b[39m\"\u001b[39;49m\u001b[39mprice\u001b[39;49m\u001b[39m\"\u001b[39;49m: \u001b[39m40.20\u001b[39;49m, \u001b[39m\"\u001b[39;49m\u001b[39mmoney_available\u001b[39;49m\u001b[39m\"\u001b[39;49m: \u001b[39m6.00\u001b[39;49m},\n\u001b[1;32m     <a href='vscode-notebook-cell:/Users/matthew/Library/Mobile%20Documents/com~apple~CloudDocs/Developer/boot-dot-dev/ch10-errors.ipynb#X21sZmlsZQ%3D%3D?line=22'>23</a>\u001b[0m             {\u001b[39m\"\u001b[39;49m\u001b[39mprice\u001b[39;49m\u001b[39m\"\u001b[39;49m: \u001b[39m16.00\u001b[39;49m, \u001b[39m\"\u001b[39;49m\u001b[39mmoney_available\u001b[39;49m\u001b[39m\"\u001b[39;49m: \u001b[39m235.01\u001b[39;49m},\n\u001b[1;32m     <a href='vscode-notebook-cell:/Users/matthew/Library/Mobile%20Documents/com~apple~CloudDocs/Developer/boot-dot-dev/ch10-errors.ipynb#X21sZmlsZQ%3D%3D?line=23'>24</a>\u001b[0m             {\u001b[39m\"\u001b[39;49m\u001b[39mprice\u001b[39;49m\u001b[39m\"\u001b[39;49m: \u001b[39m10.70\u001b[39;49m, \u001b[39m\"\u001b[39;49m\u001b[39mmoney_available\u001b[39;49m\u001b[39m\"\u001b[39;49m: \u001b[39m254.10\u001b[39;49m},\n\u001b[1;32m     <a href='vscode-notebook-cell:/Users/matthew/Library/Mobile%20Documents/com~apple~CloudDocs/Developer/boot-dot-dev/ch10-errors.ipynb#X21sZmlsZQ%3D%3D?line=24'>25</a>\u001b[0m             {\u001b[39m\"\u001b[39;49m\u001b[39mprice\u001b[39;49m\u001b[39m\"\u001b[39;49m: \u001b[39m12.00\u001b[39;49m, \u001b[39m\"\u001b[39;49m\u001b[39mmoney_available\u001b[39;49m\u001b[39m\"\u001b[39;49m: \u001b[39m2.30\u001b[39;49m},\n\u001b[1;32m     <a href='vscode-notebook-cell:/Users/matthew/Library/Mobile%20Documents/com~apple~CloudDocs/Developer/boot-dot-dev/ch10-errors.ipynb#X21sZmlsZQ%3D%3D?line=25'>26</a>\u001b[0m         ]\n\u001b[1;32m     <a href='vscode-notebook-cell:/Users/matthew/Library/Mobile%20Documents/com~apple~CloudDocs/Developer/boot-dot-dev/ch10-errors.ipynb#X21sZmlsZQ%3D%3D?line=26'>27</a>\u001b[0m     )\n\u001b[1;32m     <a href='vscode-notebook-cell:/Users/matthew/Library/Mobile%20Documents/com~apple~CloudDocs/Developer/boot-dot-dev/ch10-errors.ipynb#X21sZmlsZQ%3D%3D?line=27'>28</a>\u001b[0m     \u001b[39mprint\u001b[39m(\u001b[39m\"\u001b[39m\u001b[39mPurchases complete!\u001b[39m\u001b[39m\"\u001b[39m)\n\u001b[1;32m     <a href='vscode-notebook-cell:/Users/matthew/Library/Mobile%20Documents/com~apple~CloudDocs/Developer/boot-dot-dev/ch10-errors.ipynb#X21sZmlsZQ%3D%3D?line=28'>29</a>\u001b[0m     \u001b[39mprint\u001b[39m(\u001b[39m\"\u001b[39m\u001b[39mLeftover amounts for successful purchases:\u001b[39m\u001b[39m\"\u001b[39m)\n",
      "\u001b[1;32m/Users/matthew/Library/Mobile Documents/com~apple~CloudDocs/Developer/boot-dot-dev/ch10-errors.ipynb Cell 15\u001b[0m in \u001b[0;36m5\n\u001b[1;32m      <a href='vscode-notebook-cell:/Users/matthew/Library/Mobile%20Documents/com~apple~CloudDocs/Developer/boot-dot-dev/ch10-errors.ipynb#X21sZmlsZQ%3D%3D?line=2'>3</a>\u001b[0m \u001b[39mfor\u001b[39;00m p \u001b[39min\u001b[39;00m purchase_orders:\n\u001b[1;32m      <a href='vscode-notebook-cell:/Users/matthew/Library/Mobile%20Documents/com~apple~CloudDocs/Developer/boot-dot-dev/ch10-errors.ipynb#X21sZmlsZQ%3D%3D?line=3'>4</a>\u001b[0m     \u001b[39mif\u001b[39;00m p[\u001b[39m\"\u001b[39m\u001b[39mprice\u001b[39m\u001b[39m\"\u001b[39m] \u001b[39m>\u001b[39m p[\u001b[39m\"\u001b[39m\u001b[39mmoney_available\u001b[39m\u001b[39m\"\u001b[39m]:\n\u001b[0;32m----> <a href='vscode-notebook-cell:/Users/matthew/Library/Mobile%20Documents/com~apple~CloudDocs/Developer/boot-dot-dev/ch10-errors.ipynb#X21sZmlsZQ%3D%3D?line=4'>5</a>\u001b[0m       \u001b[39mraise\u001b[39;00m PurchaseException(\u001b[39m\"\u001b[39m\u001b[39mERROR\u001b[39m\u001b[39m\"\u001b[39m)\n\u001b[1;32m      <a href='vscode-notebook-cell:/Users/matthew/Library/Mobile%20Documents/com~apple~CloudDocs/Developer/boot-dot-dev/ch10-errors.ipynb#X21sZmlsZQ%3D%3D?line=5'>6</a>\u001b[0m leftovers\u001b[39m.\u001b[39mappend(p[\u001b[39m\"\u001b[39m\u001b[39mmoney_available\u001b[39m\u001b[39m\"\u001b[39m] \u001b[39m-\u001b[39m p[\u001b[39m\"\u001b[39m\u001b[39mprice\u001b[39m\u001b[39m\"\u001b[39m])   \n\u001b[1;32m      <a href='vscode-notebook-cell:/Users/matthew/Library/Mobile%20Documents/com~apple~CloudDocs/Developer/boot-dot-dev/ch10-errors.ipynb#X21sZmlsZQ%3D%3D?line=6'>7</a>\u001b[0m \u001b[39mreturn\u001b[39;00m leftovers\n",
      "\u001b[0;31mNameError\u001b[0m: name 'PurchaseException' is not defined"
     ]
    }
   ],
   "source": [
    "def make_purchases(purchase_orders):\n",
    "    leftovers = []\n",
    "    for p in purchase_orders:\n",
    "        if p[\"price\"] > p[\"money_available\"]:\n",
    "          raise Exception(\"ERROR\")\n",
    "    leftovers.append(p[\"money_available\"] - p[\"price\"])   \n",
    "    return leftovers\n",
    "      \n",
    "\n",
    "\n",
    "# Don't edit below this line\n",
    "\n",
    "\n",
    "def main():\n",
    "    print(\"Making purchases...\")\n",
    "    leftovers = make_purchases(\n",
    "        [\n",
    "            {\"price\": 10.00, \"money_available\": 125.00},\n",
    "            {\"price\": 5.00, \"money_available\": 2.00},\n",
    "            {\"price\": 20.01, \"money_available\": 5.20},\n",
    "            {\"price\": 1.04, \"money_available\": 254.00},\n",
    "            {\"price\": 40.20, \"money_available\": 6.00},\n",
    "            {\"price\": 16.00, \"money_available\": 235.01},\n",
    "            {\"price\": 10.70, \"money_available\": 254.10},\n",
    "            {\"price\": 12.00, \"money_available\": 2.30},\n",
    "        ]\n",
    "    )\n",
    "    print(\"Purchases complete!\")\n",
    "    print(\"Leftover amounts for successful purchases:\")\n",
    "    for leftover in leftovers:\n",
    "        print(f\" * {leftover:.2f}\")\n",
    "\n",
    "\n",
    "def purchase(price, money_available):\n",
    "    if money_available < price:\n",
    "        raise Exception(f\"{money_available:.2f} is not enough for {price:.2f}\")\n",
    "    return money_available - price\n",
    "\n",
    "\n",
    "main()\n"
   ]
  }
 ],
 "metadata": {
  "kernelspec": {
   "display_name": "Python 3",
   "language": "python",
   "name": "python3"
  },
  "language_info": {
   "codemirror_mode": {
    "name": "ipython",
    "version": 3
   },
   "file_extension": ".py",
   "mimetype": "text/x-python",
   "name": "python",
   "nbconvert_exporter": "python",
   "pygments_lexer": "ipython3",
   "version": "3.9.6"
  },
  "orig_nbformat": 4
 },
 "nbformat": 4,
 "nbformat_minor": 2
}
