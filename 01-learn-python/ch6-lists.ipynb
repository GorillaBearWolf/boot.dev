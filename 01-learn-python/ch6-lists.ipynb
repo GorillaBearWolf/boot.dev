{
 "cells": [
  {
   "attachments": {},
   "cell_type": "markdown",
   "metadata": {},
   "source": [
    "# Lists\n",
    "\n",
    "A natural way to organize and store data is in the form of a `List`. Some languages call them \"arrays\", but in Python we just call them lists. Think of all the apps you use and how many of the items in the app are organized into lists.\n",
    "\n",
    "For example:\n",
    "\n",
    "- A twitter feed is a list of posts\n",
    "- An online store is a list of products\n",
    "- The state of a chess game is a list of moves\n",
    "- This list is a list of things that are lists\n",
    "\n",
    "Lists in Python are declared using square brackets, with commas separating each item:\n",
    "\n",
    "> ```py\n",
    "> inventory = [\"Iron Breastplate\", \"Healing Potion\", \"Leather Scraps\"]\n",
    "> ```\n",
    "\n",
    "Arrays can contain items of any data type, in our example above we have a `List` of strings.\n",
    "\n",
    "### Assignment\n",
    "\n",
    "Let's work on Fantasy Quest's inventory! We can store items the player is carrying in a list!\n",
    "\n",
    "Add a `Shortsword` to the end of the list.\n"
   ]
  },
  {
   "cell_type": "code",
   "execution_count": 1,
   "metadata": {},
   "outputs": [
    {
     "name": "stdout",
     "output_type": "stream",
     "text": [
      "['Healing Potion', 'Leather Scraps', 'Iron Helmet', 'Bread', 'Shortsword']\n"
     ]
    }
   ],
   "source": [
    "inventory = [\"Healing Potion\", \"Leather Scraps\", \"Iron Helmet\", \"Bread\", \"Shortsword\"]\n",
    "\n",
    "# Don't touch below this line\n",
    "\n",
    "print(inventory)\n"
   ]
  },
  {
   "attachments": {},
   "cell_type": "markdown",
   "metadata": {},
   "source": [
    "Sometimes when we're manually creating lists it can be hard to read if all the items are on the same line of code. We can declare the array using multiple lines if we want to:\n",
    "\n",
    "> ```py\n",
    "> flower_types = [\n",
    ">     \"daffodil\",\n",
    ">     \"rose\",\n",
    ">     \"chrysanthemum\"\n",
    "> ]\n",
    "> ```\n",
    "\n",
    "Keep in mind this is just a styling change. The code will run correctly either way.\n"
   ]
  },
  {
   "attachments": {},
   "cell_type": "markdown",
   "metadata": {},
   "source": [
    "# Counting in Programming\n",
    "\n",
    "In the world of programming, counting is a bit strange!\n",
    "\n",
    "We don't start counting at `1`, we start at `0` instead.\n",
    "\n",
    "### Indexes\n",
    "\n",
    "Each item in an array has an index that refers to its spot in the array.\n",
    "\n",
    "Take the following array as an example:\n",
    "\n",
    "> ```py\n",
    "> names = [\"Bob\", \"Lane\", \"Alice\", \"Breanna\"]\n",
    "> ```\n",
    "\n",
    "- Index 0: `Bob`\n",
    "- Index 1: `Lane`\n",
    "- Index 2: `Alice`\n",
    "- Index 3: `Breanna`\n"
   ]
  },
  {
   "attachments": {},
   "cell_type": "markdown",
   "metadata": {},
   "source": [
    "# Indexing into Lists\n",
    "\n",
    "Now that we know how to create new lists, we need to know how to access specific items in the list.\n",
    "\n",
    "We access items in a list directly by using their *index*. Indexes start at 0 (the first item) and increment by one with each successive item. The syntax is as follows:\n",
    "\n",
    "> ```py\n",
    "> best_languages = [\"JavaScript\", \"Go\", \"Rust\", \"Python\", \"C\"]\n",
    "> print(best_languages[1])\n",
    "> // prints \"Go\", because index 1 was provided\n",
    "> ```\n",
    "\n",
    "### Assignment\n",
    "\n",
    "We need to allow our players to access items within their inventory!\n",
    "\n",
    "Change the value of `item_index` to the index in `inventory` that holds the value \"Leather Scraps\".\n"
   ]
  },
  {
   "cell_type": "code",
   "execution_count": 3,
   "metadata": {},
   "outputs": [
    {
     "name": "stdout",
     "output_type": "stream",
     "text": [
      "inventory: ['Healing Potion', 'Leather Scraps', 'Iron Helmet', 'Bread', 'Shortsword']\n",
      "index: 1\n",
      "item: Leather Scraps\n"
     ]
    }
   ],
   "source": [
    "inventory = [\"Healing Potion\", \"Leather Scraps\", \"Iron Helmet\", \"Bread\", \"Shortsword\"]\n",
    "\n",
    "item_index = 1\n",
    "\n",
    "# don't edit below this line\n",
    "\n",
    "item = inventory[item_index]\n",
    "\n",
    "print(f\"inventory: {inventory}\")\n",
    "print(f\"index: {item_index}\")\n",
    "print(f\"item: {inventory[item_index]}\")\n"
   ]
  },
  {
   "attachments": {},
   "cell_type": "markdown",
   "metadata": {},
   "source": [
    "# List length\n",
    "\n",
    "The length of a List can be calculated using the `len()` function. Again, we'll cover functions in detail later, but this is the syntax:\n",
    "\n",
    "> ```py\n",
    "> fruits = [\"apple\", \"banana\", \"pear\"]\n",
    "> length = len(fruits)\n",
    "> # Prints: 3\n",
    "> ```\n",
    "\n",
    "The length of the list is equal to the number of items present. Don't be fooled by the fact that the length is not equal to the index of the last element, in fact it will always be one greater.\n",
    "\n",
    "### Assignment\n",
    "\n",
    "Some of our players inventories are huge, so looking through the entire list is cumbersome. Let's make an easy way for them to see the last item in their inventory.\n",
    "\n",
    "Set the `last_index` variable equal to the length of the inventory array minus 1. You will need to use the `len()` syntax.\n"
   ]
  },
  {
   "cell_type": "code",
   "execution_count": 6,
   "metadata": {},
   "outputs": [
    {
     "name": "stdout",
     "output_type": "stream",
     "text": [
      "last_index: 56\n",
      "last_item: Iron Bar\n"
     ]
    }
   ],
   "source": [
    "inventory = [ \"Potion\", \"Iron Breastplate\", \"Leather Scraps\", \"Iron Ore\", \"Light Leather\", \"Bread\", \"Shortsword\", \"Longsword\", \"Iron Mace\", \"Gold Ore\", \"Healing Potion\", \"Silk Cloth\", \"Leather Armor Kit\", \"Iron Boots\", \"Iron Bar\", \"Potion\", \"Iron Breastplate\", \"Leather Scraps\", \"Iron Ore\", \"Light Leather\", \"Bread\", \"Shortsword\", \"Longsword\", \"Iron Mace\", \"Gold Ore\", \"Healing Potion\", \"Silk Cloth\", \"Leather Armor Kit\", \"Iron Boots\", \"Iron Bar\", \"Iron Mace\", \"Gold Ore\", \"Healing Potion\", \"Silk Cloth\", \"Leather Armor Kit\", \"Iron Boots\", \"Iron Bar\", \"Potion\", \"Iron Breastplate\", \"Leather Scraps\", \"Iron Ore\", \"Light Leather\", \"Potion\", \"Iron Breastplate\", \"Leather Scraps\", \"Iron Ore\", \"Light Leather\", \"Bread\", \"Shortsword\", \"Longsword\", \"Iron Mace\", \"Gold Ore\", \"Healing Potion\", \"Silk Cloth\", \"Leather Armor Kit\", \"Iron Boots\", \"Iron Bar\" ]\n",
    "\n",
    "last_index = len(inventory) - 1\n",
    "\n",
    "# don't edit below this line\n",
    "\n",
    "last_item = inventory[last_index]\n",
    "\n",
    "print(f\"last_index: {last_index}\")\n",
    "print(f\"last_item: {last_item}\")\n"
   ]
  },
  {
   "attachments": {},
   "cell_type": "markdown",
   "metadata": {},
   "source": [
    "# List Updates\n",
    "\n",
    "We can also change the item that exists at a given index. For example, we can change `Leather` to `Leather Armor` in the `inventory` array in the following way:\n",
    "\n",
    "> ```py\n",
    "> inventory = [\"Leather\", \"Healing Potion\", \"Iron Ore\"]\n",
    "> inventory[0] = \"Leather Armor\"\n",
    "> # inventory: ['Leather Armor', 'Healing Potion', 'Iron Ore']\n",
    "> ```\n",
    "\n",
    "### Assignment\n",
    "\n",
    "We need to update the items in our players inventory when they smelt `Iron Ore` into an `Iron Bar`!\n",
    "\n",
    "On line 6, update the `Iron Ore` element in the array to be an `Iron Bar`.\n"
   ]
  },
  {
   "cell_type": "code",
   "execution_count": 10,
   "metadata": {},
   "outputs": [
    {
     "name": "stdout",
     "output_type": "stream",
     "text": [
      "['Healing Potion', 'Iron Ore', 'Bread', 'Shortsword']\n",
      "['Healing Potion', 'Iron Bar', 'Bread', 'Shortsword']\n"
     ]
    }
   ],
   "source": [
    "inventory = [\"Healing Potion\", \"Iron Ore\", \"Bread\", \"Shortsword\"]\n",
    "print(inventory)\n",
    "\n",
    "# don't touch above this line\n",
    "\n",
    "inventory[1] = \"Iron Bar\"\n",
    "\n",
    "# don't touch below this line\n",
    "\n",
    "print(inventory)\n"
   ]
  },
  {
   "attachments": {},
   "cell_type": "markdown",
   "metadata": {},
   "source": [
    "# Appending in Python\n",
    "\n",
    "It's common to create an empty list then fill it with values using a loop. We can add values to the end of a list using the .append() method:\n",
    "\n",
    "> ```\n",
    ">cards = []\n",
    ">cards.append(\"nvidia\")\n",
    ">cards.append(\"amd\")\n",
    "># the cards list is now ['nvidia', 'amd']\n",
    ">```\n",
    "\n",
    "### Assignment\n",
    "\n",
    "We need to generate a unique user ID for each player in the game. An ID is just a unique number.\n",
    "\n",
    "Use a loop to add the unique ID's of 0 through 99 to the player_ids list.\n"
   ]
  },
  {
   "cell_type": "code",
   "execution_count": 11,
   "metadata": {},
   "outputs": [
    {
     "name": "stdout",
     "output_type": "stream",
     "text": [
      "[0, 1, 2, 3, 4, 5, 6, 7, 8, 9, 10, 11, 12, 13, 14, 15, 16, 17, 18, 19, 20, 21, 22, 23, 24, 25, 26, 27, 28, 29, 30, 31, 32, 33, 34, 35, 36, 37, 38, 39, 40, 41, 42, 43, 44, 45, 46, 47, 48, 49, 50, 51, 52, 53, 54, 55, 56, 57, 58, 59, 60, 61, 62, 63, 64, 65, 66, 67, 68, 69, 70, 71, 72, 73, 74, 75, 76, 77, 78, 79, 80, 81, 82, 83, 84, 85, 86, 87, 88, 89, 90, 91, 92, 93, 94, 95, 96, 97, 98, 99]\n"
     ]
    }
   ],
   "source": [
    "player_ids = []\n",
    "\n",
    "for i in range(0, 100):\n",
    "    player_ids.append(i)\n",
    "\n",
    "print(player_ids)\n"
   ]
  },
  {
   "attachments": {},
   "cell_type": "markdown",
   "metadata": {},
   "source": [
    "# Pop Values\n",
    "\n",
    "`.pop()` is the opposite of `.append()`. Pop removes the last element from the array and returns it for use. For example:\n",
    "\n",
    "> ```py\n",
    "> vegetables = [\"broccoli\", \"cabbage\", \"kale\", \"tomato\"];\n",
    "> last_vegetable = vegetables.pop()\n",
    "> # vegetables = ['broccoli', 'cabbage', 'kale']\n",
    "> # last_vegetable = 'tomato'\n",
    "> ```\n",
    "\n",
    "### Assignment\n",
    "\n",
    "Our player is selling the items in their inventory to the shopkeep!\n",
    "\n",
    "Pop the last item from the `inventory` list until there is nothing left. Pop the items into an `item` variable so that it prints each time on line 17.\n"
   ]
  },
  {
   "cell_type": "code",
   "execution_count": 6,
   "metadata": {},
   "outputs": [
    {
     "name": "stdout",
     "output_type": "stream",
     "text": [
      "inventory: ['Healing Potion', 'Iron Bar', 'Kite Shield', 'Shortsword', 'Leather Scraps', 'Tattered Cloth']\n",
      "Selling: Tattered Cloth\n",
      "inventory: ['Healing Potion', 'Iron Bar', 'Kite Shield', 'Shortsword', 'Leather Scraps']\n",
      "Selling: Leather Scraps\n",
      "inventory: ['Healing Potion', 'Iron Bar', 'Kite Shield', 'Shortsword']\n",
      "Selling: Shortsword\n",
      "inventory: ['Healing Potion', 'Iron Bar', 'Kite Shield']\n",
      "Selling: Kite Shield\n",
      "inventory: ['Healing Potion', 'Iron Bar']\n",
      "Selling: Iron Bar\n",
      "inventory: ['Healing Potion']\n",
      "Selling: Healing Potion\n",
      "inventory: []\n"
     ]
    }
   ],
   "source": [
    "inventory = [\n",
    "    \"Healing Potion\",\n",
    "    \"Iron Bar\",\n",
    "    \"Kite Shield\",\n",
    "    \"Shortsword\",\n",
    "    \"Leather Scraps\",\n",
    "    \"Tattered Cloth\",\n",
    "]\n",
    "print(f\"inventory: {inventory}\")\n",
    "\n",
    "# don't touch above this line\n",
    "\n",
    "for i in range(0, len(inventory)):\n",
    "    item = inventory.pop()\n",
    "\n",
    "    # don't touch below this line\n",
    "    print(f\"Selling: {item}\")\n",
    "    print(f\"inventory: {inventory}\")\n"
   ]
  },
  {
   "attachments": {},
   "cell_type": "markdown",
   "metadata": {},
   "source": [
    "# Counting the items in a list\n",
    "\n",
    "Remember that we can iterate (count) over all the items in an array using a loop. For example, the following code will print each item in the `sports` array.\n",
    "\n",
    "> ```py\n",
    "> for i in range(0, len(sports)):\n",
    ">     print(sports[i])\n",
    "> ```\n",
    "\n",
    "### Assignment\n",
    "\n",
    "Our players need a way to see how many copies of a specific item they have within their inventory!\n",
    "\n",
    "Within the loop, count how many times Potion, Bread, and Shortsword appear using the potion_count, bread_count and shortsword_count variables respectively.\n"
   ]
  },
  {
   "cell_type": "code",
   "execution_count": 13,
   "metadata": {},
   "outputs": [
    {
     "name": "stdout",
     "output_type": "stream",
     "text": [
      "You have 5 potions in your inventory.\n",
      "You have 6 pieces of bread in your inventory.\n",
      "You have 3 shortswords in your inventory.\n"
     ]
    }
   ],
   "source": [
    "items = [ \"Potion\", \"Iron Breastplate\", \"Leather Scraps\", \"Iron Ore\", \"Light Leather\", \"Bread\", \"Shortsword\", \"Longsword\", \"Iron Mace\", \"Gold Ore\", \"Bread\", \"Silk Cloth\", \"Bread\",  \"Leather Armor Kit\", \"Bread\", \"Iron Boots\", \"Iron Bar\", \"Potion\", \"Iron Breastplate\", \"Leather Scraps\", \"Iron Ore\", \"Light Leather\", \"Bread\", \"Shortsword\", \"Longsword\", \"Iron Mace\", \"Gold Ore\", \"Silk Cloth\", \"Leather Armor Kit\", \"Iron Boots\", \"Iron Bar\", \"Iron Mace\", \"Gold Ore\", \"Potion\", \"Silk Cloth\", \"Leather Armor Kit\", \"Iron Boots\", \"Iron Bar\", \"Potion\", \"Iron Breastplate\", \"Leather Scraps\", \"Iron Ore\", \"Light Leather\", \"Potion\", \"Iron Breastplate\", \"Leather Scraps\", \"Iron Ore\", \"Light Leather\", \"Bread\", \"Shortsword\", \"Longsword\", \"Iron Mace\", \"Gold Ore\", \"Silk Cloth\", \"Leather Armor Kit\", \"Iron Boots\", \"Iron Bar\" ]\n",
    "\n",
    "potion_count = 0\n",
    "bread_count = 0\n",
    "shortsword_count = 0\n",
    "\n",
    "# don't touch above this line\n",
    "\n",
    "for i in range(0, len(items)):\n",
    "    potion_count = items.count(\"Potion\")\n",
    "    bread_count = items.count(\"Bread\")\n",
    "    shortsword_count = items.count(\"Shortsword\")\n",
    "\n",
    "# don't touch below this line\n",
    "\n",
    "print(f\"You have {potion_count} potions in your inventory.\")\n",
    "print(f\"You have {bread_count} pieces of bread in your inventory.\")\n",
    "print(f\"You have {shortsword_count} shortswords in your inventory.\")\n"
   ]
  },
  {
   "attachments": {},
   "cell_type": "markdown",
   "metadata": {},
   "source": [
    "# No-index Syntax\n",
    "\n",
    "In my opinion, Python has the *most elegant* syntax for iterating directly over the items in a list without worrying about index numbers. If you don't need the index number you can use the following syntax:\n",
    "\n",
    "> ```py\n",
    "> trees = ['oak', 'pine', 'maple']\n",
    "> for tree in trees:\n",
    ">   print(tree)\n",
    "> # Prints:\n",
    "> # oak\n",
    "> # pine\n",
    "> # maple\n",
    "> ```\n",
    "\n",
    "`tree`, the variable declared using the `in` keyword, directly accesses the value in the array rather than the index of the value. If we don't need to update the item, and only need to access its value then this is a more clean way to write the code.\n"
   ]
  },
  {
   "attachments": {},
   "cell_type": "markdown",
   "metadata": {},
   "source": [
    "# Find an item in a list\n",
    "\n",
    "Example of \"no-index\" or \"no-range\" syntax:\n",
    "\n",
    "> ```py\n",
    "> for fruit in fruits:\n",
    ">     print(fruit)\n",
    "> ```\n",
    "\n",
    "### Assignment\n",
    "\n",
    "We need to check if a player has a specific item in their inventory. Use the no-index syntax to iterate over each item in the player's `inventory`. If you find an item called `Leather Scraps`, set the `found` variable to `True`.\n"
   ]
  },
  {
   "cell_type": "code",
   "execution_count": 3,
   "metadata": {},
   "outputs": [
    {
     "name": "stdout",
     "output_type": "stream",
     "text": [
      "Found the leather scraps!\n"
     ]
    }
   ],
   "source": [
    "inventory = [\"Potion\", \"Healing Potion\", \"Iron Breastplate\", \"Leather Scraps\"]\n",
    "\n",
    "# don't touch above this line\n",
    "\n",
    "found = False\n",
    "\n",
    "for item in inventory:\n",
    "    if item == \"Leather Scraps\":\n",
    "        found = True\n",
    "        break\n",
    "\n",
    "# don't touch below this line\n",
    "\n",
    "if found:\n",
    "    print(\"Found the leather scraps!\")\n",
    "else:\n",
    "    print(\"Couldn't find the leather scraps!\")\n"
   ]
  },
  {
   "attachments": {},
   "cell_type": "markdown",
   "metadata": {},
   "source": [
    "# Find the Difference\n",
    "\n",
    "### Assignment\n",
    "\n",
    "We keep track of each character's level in an array. When someone's level changes we want to know about it so we can congratulate them! Your assignment is to find any differences between the `old_character_levels` and `new_character_levels` lists, and to print the index where the values are different.\n",
    "\n",
    "The shell of the loop you've been given loops over all of the indexes in `old_character_levels`. Because `old_character_levels` and `new_character_levels` are the same lengths, you can reuse `i` to index into both.\n",
    "\n",
    "Fill in the loop with code that prints the indexes where the items in the arrays differ. For example, if the arrays are:\n",
    "\n",
    "> ```py\n",
    "> old_character_levels = [2, 5, 3, 7, 5]\n",
    "> new_character_levels = [2, 5, 19, 7, 8]\n",
    "> ```\n",
    "\n",
    "Then your code should print:\n",
    "\n",
    "> ```py\n",
    "> 2\n",
    "> 4\n",
    "> ```\n"
   ]
  },
  {
   "cell_type": "code",
   "execution_count": 43,
   "metadata": {},
   "outputs": [
    {
     "name": "stdout",
     "output_type": "stream",
     "text": [
      "14\n",
      "25\n",
      "26\n",
      "92\n",
      "96\n",
      "122\n"
     ]
    }
   ],
   "source": [
    "old_character_levels = [ 6, 4, 3, 7, 7, 7, 2, 7, 2, 6, 5, 1, 2, 4, 6, 6, 1, 4, 4, 1, 1, 5, 4, 3, 2, 0, 5, 5, 6, 1, 6, 2, 1, 2, 3, 1, 7, 7, 2, 0, 0, 6, 2, 6, 8, 5, 3, 1, 6, 3, 0, 5, 1, 3, 3, 0, 2, 8, 3, 0, 3, 5, 7, 3, 1, 4, 5, 0, 0, 1, 7, 0, 6, 1, 0, 2, 0, 0, 8, 6, 0, 0, 1, 4, 0, 7, 8, 2, 7, 8, 7, 4, 8, 6, 0, 3, 1, 4, 6, 4, 2, 2, 5, 8, 1, 5, 1, 8, 0, 6, 6, 3, 0, 2, 4, 7, 0, 6, 7, 6, 3, 1, 1, 5, 2 ]\n",
    "new_character_levels = [ 6, 4, 3, 7, 7, 7, 2, 7, 2, 6, 5, 1, 2, 4, 5, 6, 1, 4, 4, 1, 1, 5, 4, 3, 2, 1, 2, 5, 6, 1, 6, 2, 1, 2, 3, 1, 7, 7, 2, 0, 0, 6, 2, 6, 8, 5, 3, 1, 6, 3, 0, 5, 1, 3, 3, 0, 2, 8, 3, 0, 3, 5, 7, 3, 1, 4, 5, 0, 0, 1, 7, 0, 6, 1, 0, 2, 0, 0, 8, 6, 0, 0, 1, 4, 0, 7, 8, 2, 7, 8, 7, 4, 9, 6, 0, 3, 3, 4, 6, 4, 2, 2, 5, 8, 1, 5, 1, 8, 0, 6, 6, 3, 0, 2, 4, 7, 0, 6, 7, 6, 3, 1, 8, 5, 2 ]\n",
    "\n",
    "# don't touch above this line\n",
    "\n",
    "for i in range(0, len(old_character_levels)):\n",
    "  if old_character_levels[i] != new_character_levels[i]:\n",
    "    print(i)\n"
   ]
  },
  {
   "attachments": {},
   "cell_type": "markdown",
   "metadata": {},
   "source": [
    "# Modulus operator in Python\n",
    "## The modulus operator can be used to find a remainder:\n",
    "\n",
    "For example, `7` [modulo](https://en.wikipedia.org/wiki/Modulo_operation) `2` would be `1`, because 2 can be multiplied evenly into 7 at most 3 times:\n",
    "\n",
    "`2 * 3 = 6`\n",
    "\n",
    "Then there is 1 *remaining* to get from `6` to `7`.\n",
    "\n",
    "`7 - 6 = 1`\n",
    "\n",
    "The modulus operator is the percent sign: `%`. It's important to recognize modulo is *not* a percentage though! That's just the symbol we're using.\n",
    "\n",
    "> ```py\n",
    "> remainder = 8 % 3\n",
    "> # remainder = 2\n",
    "> ```\n",
    "\n",
    "An odd number is a number that when divided by `2`, the remainder is *not* `0`.\n",
    "\n",
    "### Assignment\n",
    "\n",
    "Inside the loop, use the modulus operator to check if each number, `i`, is odd. If a number is odd, append it to the `odd_numbers` list.\n"
   ]
  },
  {
   "cell_type": "code",
   "execution_count": 45,
   "metadata": {},
   "outputs": [
    {
     "name": "stdout",
     "output_type": "stream",
     "text": [
      "[1, 3, 5, 7, 9, 11, 13, 15, 17, 19, 21, 23, 25, 27, 29, 31, 33, 35, 37, 39, 41, 43, 45, 47, 49, 51, 53, 55, 57, 59, 61, 63, 65, 67, 69, 71, 73, 75, 77, 79, 81, 83, 85, 87, 89, 91, 93, 95, 97, 99, 101, 103, 105, 107, 109, 111, 113, 115, 117, 119, 121, 123, 125, 127, 129, 131, 133, 135, 137, 139, 141, 143, 145, 147, 149, 151, 153, 155, 157, 159, 161, 163, 165, 167, 169, 171, 173, 175, 177, 179, 181, 183, 185, 187, 189, 191, 193, 195, 197, 199, 201, 203, 205, 207, 209, 211, 213, 215, 217, 219, 221, 223, 225, 227, 229, 231, 233, 235, 237, 239, 241, 243, 245, 247, 249, 251, 253, 255, 257, 259, 261, 263, 265, 267, 269, 271, 273, 275, 277, 279, 281, 283, 285, 287, 289, 291, 293, 295, 297, 299]\n"
     ]
    }
   ],
   "source": [
    "odd_numbers = []\n",
    "\n",
    "# don't touch above this line\n",
    "\n",
    "for i in range(0, 300):\n",
    "    if i % 2 != 0:\n",
    "      odd_numbers.append(i)\n",
    "\n",
    "# don't touch below this line\n",
    "\n",
    "print(odd_numbers)\n"
   ]
  },
  {
   "attachments": {},
   "cell_type": "markdown",
   "metadata": {},
   "source": [
    "# Slicing lists\n",
    "\n",
    "Python makes it easy to slice and dice lists to work only with the section you care about. One way to do this is to use the simple slicing operator, which is just a colon `:`.\n",
    "\n",
    "With this operator, you can specify where to start and end the slice, and how to step through the original. List slicing returns a *new list* from the existing list.\n",
    "\n",
    "The syntax is as follows:\n",
    "\n",
    "> ```py\n",
    "> List[ Initial : End : IndexJump ]\n",
    "> ```\n",
    "\n",
    "> ```py\n",
    "> scores = [50, 70, 30, 20, 90, 10, 50]\n",
    "> # Display list\n",
    "> print(scores[1:5:2])\n",
    "> # Prints [70, 20]\n",
    "> ```\n",
    "\n",
    "The above reads as \"give me a slice of the `scores` list from index 1, up to but not including 5, skipping every 2nd value. *All of the sections are optional.*\n",
    "\n",
    "> ```py\n",
    "> scores = [50, 70, 30, 20, 90, 10, 50]\n",
    "> # Display list\n",
    "> print(scores[1:5])\n",
    "> # Prints [70, 30, 20, 90]\n",
    "> ```\n",
    "\n",
    "> ```py\n",
    "> scores = [50, 70, 30, 20, 90, 10, 50]\n",
    "> # Display list\n",
    "> print(scores[1:])\n",
    "> # Prints [70, 30, 20, 90, 10, 50]\n",
    "> ```\n",
    "\n",
    "### Assignment\n",
    "\n",
    "First, print a slice of the `champions` list that starts with the third item in the list.\n",
    "Next, print a slice of the `champions` list that ends with the third item from the end of the list.\n",
    "Last, print a slice of the `champions` list that skips every odd numbered index.\n"
   ]
  },
  {
   "cell_type": "code",
   "execution_count": 49,
   "metadata": {},
   "outputs": [
    {
     "name": "stdout",
     "output_type": "stream",
     "text": [
      "['Gandolfo', 'Thraine', 'Norwad', 'Gilforn']\n",
      "['Thrundar', 'Morgate', 'Gandolfo', 'Thraine']\n",
      "['Thrundar', 'Gandolfo', 'Norwad']\n"
     ]
    }
   ],
   "source": [
    "champions = [\n",
    "    \"Thrundar\",\n",
    "    \"Morgate\",\n",
    "    \"Gandolfo\",\n",
    "    \"Thraine\",\n",
    "    \"Norwad\",\n",
    "    \"Gilforn\",\n",
    "]\n",
    "\n",
    "# don't touch above this line\n",
    "\n",
    "print(champions[2:])\n",
    "print(champions[:4:])\n",
    "print(champions[::2])\n"
   ]
  },
  {
   "attachments": {},
   "cell_type": "markdown",
   "metadata": {},
   "source": [
    "# List Operations - Concatenate\n",
    "\n",
    "Concatenating two lists (smushing them together) is really easy in Python, just use the `+` operator.\n",
    "\n",
    "> ```py\n",
    "> all = [1, 2, 3] + [4, 5, 6]\n",
    "> print(all)\n",
    "> # Prints: [1, 2, 3, 4, 5, 6]\n",
    "> ```\n",
    "\n",
    "### Assignment\n",
    "\n",
    "Fantasy quest allows users to keep lists of their favorite items. We need to add them all to one giant list so we can keep track of the totals.\n",
    "\n",
    "1. Create a new list that has John's favorites, followed by Jack's, followed by Breanna's.\n",
    "2. Print the total number of items using the `len` function\n",
    "3. Print the actual list containing all the items\n",
    "\n"
   ]
  },
  {
   "cell_type": "code",
   "execution_count": 57,
   "metadata": {},
   "outputs": [
    {
     "name": "stdout",
     "output_type": "stream",
     "text": [
      "6\n",
      "['sword', 'shield', 'potion', 'hat', 'feather', 'lance']\n"
     ]
    }
   ],
   "source": [
    "johns_favorites = [\"sword\", \"shield\"]\n",
    "jacks_favorites = [\"potion\", \"hat\"]\n",
    "breannas_favorites = [\"feather\", \"lance\"]\n",
    "\n",
    "# Don't touch above this line\n",
    "\n",
    "total = johns_favorites + jacks_favorites + breannas_favorites\n",
    "print(len(total))\n",
    "print(total)"
   ]
  },
  {
   "attachments": {},
   "cell_type": "markdown",
   "metadata": {},
   "source": [
    "# List Operations - Contains\n",
    "\n",
    "Checking whether a value exists in a list is also really easy `in` Python, just use the in keyword.\n",
    "\n",
    "> ```py\n",
    "> fruits = [\"apple\", \"orange\", \"banana\"]\n",
    "> print(\"banana\" in fruits)\n",
    "> # Prints: True\n",
    "> ```\n",
    "\n",
    "### Tip: Quotes within quotes\n",
    "\n",
    "In order to use quotes within quotes, they either need to be [escaped](https://stackoverflow.com/questions/10646142/what-does-it-mean-to-escape-a-string) or you need to use the other kind of quotes. Because we usually use double quotes, we can nest strings with single quotes:\n",
    "\n",
    "> ```py\n",
    "> f\"banana is in fruits list: {'banana' in fruits}\"\n",
    "> ```\n",
    "\n",
    "### Assignment\n",
    "\n",
    "Our players have requested an in-game feature that will allow them to type in a weapon name to check if it's in the list of top weapons in the realm.\n",
    "\n",
    "Take a look at the 3 print statements. Replace the static boolean values in the curly braces with an `in` statement that checks if the weapon in the text is in the `top_weapons` list.\n",
    "\n",
    "Look at the text of each print statement to decide which weapon to check for.\n"
   ]
  },
  {
   "cell_type": "code",
   "execution_count": 60,
   "metadata": {},
   "outputs": [
    {
     "name": "stdout",
     "output_type": "stream",
     "text": [
      "sword of justice is a top weapon: True\n",
      "great axe is a top weapon: True\n",
      "silver bow is a top weapon: True\n"
     ]
    }
   ],
   "source": [
    "top_weapons = [\n",
    "    \"sword of justice\",\n",
    "    \"sword of slashing\",\n",
    "    \"stabby daggy\",\n",
    "    \"great axe\",\n",
    "    \"silver bow\",\n",
    "    \"spellbook\",\n",
    "    \"spiked knuckles\",\n",
    "]\n",
    "\n",
    "# don't touch above this line\n",
    "\n",
    "print(f\"sword of justice is a top weapon: {'sword of justice' in top_weapons}\")\n",
    "print(f\"great axe is a top weapon: {'great axe' in top_weapons}\")\n",
    "print(f\"silver bow is a top weapon: {'silver bow' in top_weapons}\")\n"
   ]
  },
  {
   "attachments": {},
   "cell_type": "markdown",
   "metadata": {},
   "source": [
    "# List deletion\n",
    "\n",
    "Python has a built-in keyword `del` that deletes items from objects. In the case of a list, you can delete specific indexes or entire slices.\n",
    "\n",
    "> ```py\n",
    "> nums = [1, 2, 3, 4, 5, 6, 7, 8, 9]\n",
    "> \n",
    "> # delete the fourth item\n",
    "> del nums[3]\n",
    "> print(nums)\n",
    "> # Output: [1, 2, 3, 5, 6, 7, 8, 9]\n",
    "> \n",
    "> # delete items from 2nd to 3rd\n",
    "> nums = [1, 2, 3, 4, 5, 6, 7, 8, 9]\n",
    "> del nums[1:3]\n",
    "> print(nums)\n",
    "> # Output: [1, 4, 5, 6, 7, 8, 9]\n",
    "> \n",
    "> # delete all elements\n",
    "> nums = [1, 2, 3, 4, 5, 6, 7, 8, 9]\n",
    "> del nums[:]\n",
    "> print(nums)\n",
    "> # Output: []\n",
    "> ```\n",
    "\n",
    "### Assignment\n",
    "\n",
    "In Fantasy Quest there are a list of strongholds on the map that players can visit to defeat powerful bosses.\n",
    "\n",
    "1. Delete the first stronghold from the list\n",
    "2. Print the list of strongholds\n",
    "3. Delete the last two strongholds from the list as a slice\n",
    "4. Print the list of strongholds\n"
   ]
  },
  {
   "cell_type": "code",
   "execution_count": 62,
   "metadata": {},
   "outputs": [
    {
     "name": "stdout",
     "output_type": "stream",
     "text": [
      "['The Morgoth Mountains', 'The Lonely Island', 'Mordia', 'Mordane', 'Gondolin']\n",
      "['The Morgoth Mountains', 'The Lonely Island', 'Mordia']\n"
     ]
    }
   ],
   "source": [
    "strongholds = [\n",
    "    \"Rivendale\",\n",
    "    \"The Morgoth Mountains\",\n",
    "    \"The Lonely Island\",\n",
    "    \"Mordia\",\n",
    "    \"Mordane\",\n",
    "    \"Gondolin\",\n",
    "]\n",
    "\n",
    "# Don't touch above this line\n",
    "\n",
    "del strongholds[0]\n",
    "print(strongholds)\n",
    "del strongholds[3:]\n",
    "print(strongholds)\n"
   ]
  },
  {
   "attachments": {},
   "cell_type": "markdown",
   "metadata": {},
   "source": [
    "# Tuples\n",
    "\n",
    "Tuples are collections of data that are ordered and unchangeable. You can think of a tuple as a `List` with a fixed size. Tuples are created with round brackets:\n",
    "\n",
    "> ```py\n",
    "> my_tuple = (\"this is a tuple\", 45, True)\n",
    "> print(my_tuple[0])\n",
    "> # this is a tuple\n",
    "> print(my_tuple[1])\n",
    "> # 45\n",
    "> print(my_tuple[2])\n",
    "> # True\n",
    "> ```\n",
    "While it's typically considered bad practice to store items of different types in a List it's not a problem with Tuples. Because they have a fixed size, it's easy to keep track of which indexes store which types of data.\n",
    "\n",
    "Tuples are often used to store very small groups (like 2 or 3 items) of data. For example, you might use a tuple to store a dog's name and age.\n",
    "\n",
    "> ```py\n",
    "> dog = (\"Fido\", 4)\n",
    "> ```\n",
    "\n",
    "Because Tuples hold their data, multiple tuples can be stored within a list. Similar to storing other data in lists, each tuple within the list is separated by a comma.\n",
    "\n",
    "> ```py\n",
    "> my_tuples = [(\"this is the first tuple in the list\", 45, True),(\"this is the second tuple in the list\", 21, False)]\n",
    "> print(my_tuples[0][0])\n",
    "> # this is the first tuple in the list\n",
    "> ```\n",
    "\n",
    "### Assignment\n",
    "\n",
    "The \"Fantasy Quest\" character system needs a list of \"heroes\" to be able to run the game properly. Someone wrote some pretty nasty code, and the code in question creates a `heroes` list where every 3rd index defines a new hero. First their name, then their age, then whether or not they're an \"elf\".\n",
    "\n",
    "Convert the heroes list from its current state to a list of tuples. Use the same data for each hero, and order it in the same way.\n"
   ]
  },
  {
   "cell_type": "code",
   "execution_count": 66,
   "metadata": {},
   "outputs": [
    {
     "name": "stdout",
     "output_type": "stream",
     "text": [
      "name: Glorfindel, age: 2093, is_elf: True\n",
      "name: Gandalf, age: 1054, is_elf: False\n",
      "name: Gimli, age: 389, is_elf: False\n",
      "name: Aragorn, age: 87, is_elf: False\n"
     ]
    }
   ],
   "source": [
    "heroes = (\n",
    "    [\"Glorfindel\",2093,True],\n",
    "    [\"Gandalf\",1054,False],\n",
    "    [\"Gimli\",389,False],\n",
    "    [\"Aragorn\",87,False]\n",
    ")\n",
    "\n",
    "# Don't touch below this line\n",
    "\n",
    "for hero in heroes:\n",
    "    print(f\"name: {hero[0]}, age: {hero[1]}, is_elf: {hero[2]}\")\n"
   ]
  },
  {
   "attachments": {},
   "cell_type": "markdown",
   "metadata": {},
   "source": [
    "# Evens and odds\n",
    "\n",
    "You've been asked to write a program that will calculate how many odd and even numbers exist in a list.\n",
    "\n",
    "### Challenge\n",
    "\n",
    "Loop through the `numbers` list and check if is odd or even.\n",
    "\n",
    "Increment the `num_evens` counter if even, and the `num_odds` counter if it's odd.\n"
   ]
  },
  {
   "cell_type": "code",
   "execution_count": 74,
   "metadata": {},
   "outputs": [
    {
     "name": "stdout",
     "output_type": "stream",
     "text": [
      "There are 20 even numbers and 23 odd numbers.\n"
     ]
    }
   ],
   "source": [
    "numbers = [0, 99, 2, 33, 4, 604, 61, 44, 9, 10, 12, 13, 1409, 155, 16, 9125, 18, 19, 20213, 281, 209, 123, 768, 621, 29, 81, 755, 242, 982, 61, 1, 240, 1235, 890, 12348, 10, 13612, 721, 3, 22, 35, 9082, 1234]\n",
    "num_evens = 0\n",
    "num_odds = 0\n",
    "\n",
    "# Don't touch above this line\n",
    "\n",
    "for number in numbers:\n",
    "  if number % 2 == 0:\n",
    "    num_evens += 1\n",
    "  else:\n",
    "    num_odds += 1\n",
    "\n",
    "# Don't touch below this line\n",
    "\n",
    "print(f\"There are {num_evens} even numbers and {num_odds} odd numbers.\")\n"
   ]
  },
  {
   "attachments": {},
   "cell_type": "markdown",
   "metadata": {},
   "source": [
    "# Even teams\n",
    "\n",
    "Students at the local wizarding school have been spending too much time trying to split their players up into even teams. The coach has provided you with a list of the players in the class and has asked you to write a program that will split the players into even teams.\n",
    "\n",
    "### Challenge\n",
    "\n",
    "[Slice](https://www.learnbyexample.org/python-list-slicing/) the `players` list into two lists: `red_team` and `blue_team`.\n",
    "\n",
    "- `red_team` should have the players with even-numbered indexes\n",
    "- `blue_team` should have the players with odd-numbered indexes\n",
    "\n"
   ]
  },
  {
   "cell_type": "code",
   "execution_count": 75,
   "metadata": {},
   "outputs": [
    {
     "name": "stdout",
     "output_type": "stream",
     "text": [
      "Red team has 14 players\n",
      "Blue team has 14 players\n"
     ]
    }
   ],
   "source": [
    "players = [\"Harry\", \"Hermione\", \"Ron\", \"Ginny\", \"Fred\", \"Neville\", \"Draco\", \"Luna\", \"Cho\", \"Gregory\", \"Lee\", \"Michael\", \"Lavender\", \"Parvati\", \"Padma\", \"Colin\", \"Dennis\", \"George\", \"Allan\", \"John\", \"Hunter\", \"Angelina\", \"Lee\", \"Katie\", \"Susan\", \"Alicia\", \"Frank\", \"Anthony\"]\n",
    "\n",
    "# Don't touch above this line\n",
    "\n",
    "red_team = players[::2]\n",
    "blue_team = players[1::2]\n",
    "\n",
    "# Don't touch below this line\n",
    "\n",
    "print(f\"Red team has {len(red_team)} players\")\n",
    "print(f\"Blue team has {len(blue_team)} players\")\n"
   ]
  },
  {
   "attachments": {},
   "cell_type": "markdown",
   "metadata": {},
   "source": [
    "# Test Scores\n",
    "\n",
    "Your teacher has been manually grading tests by hand and it has been taking up *all* of her free time. The Bachelor isn't going to watch itself tonight.\n",
    "\n",
    "She has asked you to write a program that compares an answer key to a student's multiple-choice answers and calculates the percentage of questions they got right.\n",
    "\n",
    "### Challenge\n",
    "\n",
    "Loop over the `answer_sheet` and `student_answers` lists. Calculate the student's score as a percentage and store it in a variable called `percentage`.\n",
    "\n",
    "For example, if these were the lists:\n",
    "\n",
    "> ```py\n",
    "> answer_sheet = [\"A\", \"A\", \"C\", \"D\"]\n",
    "> student_answers = [\"A\", \"B\", \"C\", \"D\"]\n",
    "> ```\n",
    "\n",
    "Then the `percentage` would be `75`.\n"
   ]
  },
  {
   "cell_type": "code",
   "execution_count": 114,
   "metadata": {},
   "outputs": [
    {
     "name": "stdout",
     "output_type": "stream",
     "text": [
      "The student answered correctly on 85.0% of the questions\n"
     ]
    }
   ],
   "source": [
    "answer_sheet = [\"A\", \"A\", \"C\", \"D\", \"D\", \"B\", \"C\", \"A\", \"C\", \"B\", \"A\", \"D\", \"C\", \"B\", \"D\", \"C\", \"B\", \"A\", \"D\", \"A\"]\n",
    "student_answers = [\"A\", \"B\", \"C\", \"A\", \"D\", \"B\", \"C\", \"A\", \"C\", \"B\", \"A\", \"A\", \"C\", \"B\", \"D\", \"C\", \"B\", \"A\", \"D\", \"A\"]\n",
    "\n",
    "# Don't touch above this line\n",
    "correct = []\n",
    "\n",
    "for i in range(0, len(answer_sheet)):\n",
    "  if answer_sheet[i] == student_answers[i]:\n",
    "    correct.append(i)\n",
    "\n",
    "percentage = (len(correct) / len(answer_sheet)) * 100\n",
    "\n",
    "# Don't touch below this line\n",
    "\n",
    "print(f\"The student answered correctly on {percentage}% of the questions\")\n"
   ]
  }
 ],
 "metadata": {
  "kernelspec": {
   "display_name": "Python 3.9.6 64-bit",
   "language": "python",
   "name": "python3"
  },
  "language_info": {
   "codemirror_mode": {
    "name": "ipython",
    "version": 3
   },
   "file_extension": ".py",
   "mimetype": "text/x-python",
   "name": "python",
   "nbconvert_exporter": "python",
   "pygments_lexer": "ipython3",
   "version": "3.9.6"
  },
  "orig_nbformat": 4,
  "vscode": {
   "interpreter": {
    "hash": "31f2aee4e71d21fbe5cf8b01ff0e069b9275f58929596ceb00d14d90e3e16cd6"
   }
  }
 },
 "nbformat": 4,
 "nbformat_minor": 2
}
