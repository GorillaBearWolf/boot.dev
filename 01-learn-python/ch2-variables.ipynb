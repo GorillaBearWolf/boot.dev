{
 "cells": [
  {
   "cell_type": "code",
   "execution_count": null,
   "metadata": {},
   "outputs": [],
   "source": [
    "player_health = 1_000\n",
    "\n",
    "print(player_health)\n"
   ]
  },
  {
   "cell_type": "code",
   "execution_count": null,
   "metadata": {},
   "outputs": [],
   "source": [
    "player_health = 1_000\n",
    "\n",
    "player_health = player_health - 100\n",
    "\n",
    "print(player_health)\n",
    "\n",
    "player_health = player_health - 100\n",
    "\n",
    "print(player_health)\n",
    "\n",
    "player_health = player_health - 100\n",
    "\n",
    "print(player_health)\n",
    "\n",
    "player_health = player_health - 100\n",
    "\n",
    "print(player_health)\n"
   ]
  },
  {
   "cell_type": "code",
   "execution_count": null,
   "metadata": {},
   "outputs": [],
   "source": [
    "player_health = 1000\n",
    "armor_multiplier = 2\n",
    "\n",
    "armored_health = player_health * armor_multiplier\n",
    "print(armored_health)\n"
   ]
  },
  {
   "cell_type": "code",
   "execution_count": null,
   "metadata": {},
   "outputs": [],
   "source": [
    "player_health = 6_783_424_367_754\n",
    "poison_damage = -89_743_873\n",
    "\n",
    "player_poison_health = player_health + poison_damage\n",
    "\n",
    "print(player_poison_health)\n"
   ]
  },
  {
   "cell_type": "code",
   "execution_count": null,
   "metadata": {},
   "outputs": [],
   "source": [
    "# the bestSword variable holds the value of the best sword in the game\n",
    "best_sword = \"scimitar\"\n",
    "print(best_sword)\n"
   ]
  },
  {
   "cell_type": "code",
   "execution_count": null,
   "metadata": {},
   "outputs": [],
   "source": [
    "player_health = 100\n",
    "\n",
    "player_has_magic = True\n",
    "\n",
    "# don't touch below this line\n",
    "print(f\"player_health is a/an {type(player_health)}\")\n",
    "print(f\"player_has_magic is a/an {type(player_has_magic)}\")\n"
   ]
  },
  {
   "cell_type": "code",
   "execution_count": null,
   "metadata": {},
   "outputs": [],
   "source": [
    "enemy = None\n",
    "\n",
    "\n",
    "# don't touch below this line\n",
    "print(enemy is None)\n"
   ]
  },
  {
   "cell_type": "code",
   "execution_count": null,
   "metadata": {},
   "outputs": [],
   "source": [
    "sentence_start = \"You have \"\n",
    "sentence_end = \" health\"\n",
    "\n",
    "player1_health = \"1200\"\n",
    "player2_health = \"1100\"\n",
    "\n",
    "# Don't edit above this line\n",
    "\n",
    "print(sentence_start + player1_health + sentence_end)\n",
    "print(sentence_start + player2_health + sentence_end)\n"
   ]
  },
  {
   "cell_type": "code",
   "execution_count": null,
   "metadata": {},
   "outputs": [],
   "source": [
    "email_start = \"Thank you for shopping with us!\"\n",
    "email_middle = \"Your total today was: \"\n",
    "email_end = \"Please consider filling out our customer survey.\"\n",
    "dollar_sign = \"$\"\n",
    "total_price = \"20.25\"\n",
    "\n",
    "# don't touch above this line\n",
    "\n",
    "print (email_start)\n",
    "print (email_middle + \"\" + dollar_sign + total_price)\n",
    "print (email_end)"
   ]
  },
  {
   "cell_type": "code",
   "execution_count": null,
   "metadata": {},
   "outputs": [],
   "source": [
    "game_one_score = 97\n",
    "game_two_score = 91\n",
    "game_three_score = 106\n",
    "game_four_score = 105\n",
    "game_five_score = 96\n",
    "game_six_score = 93\n",
    "game_seven_score = 104\n",
    "\n",
    "# Don't touch above this line\n",
    "\n",
    "average_score = (game_one_score + game_two_score + game_three_score + game_four_score + game_five_score + game_six_score + game_seven_score) / 7\n",
    "\n",
    "# Don't touch below this line\n",
    "\n",
    "print(round(average_score))\n"
   ]
  },
  {
   "cell_type": "code",
   "execution_count": null,
   "metadata": {},
   "outputs": [],
   "source": [
    "part_one = \"Roses are red, \"\n",
    "part_two = \"violets are blue.\"\n",
    "part_three = \"Python is cool, \"\n",
    "part_four = \"and so are you!\"\n",
    "\n",
    "# Don't touch above this line\n",
    "\n",
    "line_one = part_one + part_two\n",
    "line_two = part_three + part_four\n",
    "\n",
    "# Don't touch below this line\n",
    "\n",
    "print(line_one)\n",
    "print(line_two)\n"
   ]
  }
 ],
 "metadata": {
  "kernelspec": {
   "display_name": "Python 3.9.6 64-bit",
   "language": "python",
   "name": "python3"
  },
  "language_info": {
   "codemirror_mode": {
    "name": "ipython",
    "version": 3
   },
   "file_extension": ".py",
   "mimetype": "text/x-python",
   "name": "python",
   "nbconvert_exporter": "python",
   "pygments_lexer": "ipython3",
   "version": "3.9.6"
  },
  "orig_nbformat": 4,
  "vscode": {
   "interpreter": {
    "hash": "31f2aee4e71d21fbe5cf8b01ff0e069b9275f58929596ceb00d14d90e3e16cd6"
   }
  }
 },
 "nbformat": 4,
 "nbformat_minor": 2
}
