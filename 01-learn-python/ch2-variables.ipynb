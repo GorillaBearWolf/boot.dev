{
 "cells": [
  {
   "cell_type": "markdown",
   "metadata": {},
   "source": [
    "# Variables\n",
    "\n",
    "[Variables](https://www.cs.utah.edu/~germain/PPS/Topics/variables.html) are how we store data in our program. So far we've been directly printing data by passing it directly into the `print()` function.\n",
    "\n",
    "Now we are going to learn to save the data in variables so we can use and change it before we need to print it.\n",
    "\n",
    "A variable is a name that we define that will point to some data. For example, I could define a new variable called `my_height` and set its value to `100`. I could also define a variable called `my_name` and set it equal to `Lane`.\n",
    "\n",
    "## Creating variables\n",
    "\n",
    "To create a new variable in Python we use the following syntax:\n",
    "\n",
    "> ```python\n",
    "> my_new_variable_two = 2\n",
    "> this_can_be_called_anything = 3\n",
    "\n",
    "## Assignment\n",
    "\n",
    "We need to keep track of our hero's health!\n",
    "\n",
    "On the first line of code, create a new variable named `player_health` and set it equal to `1000`.\n"
   ]
  },
  {
   "cell_type": "code",
   "execution_count": 12,
   "metadata": {},
   "outputs": [
    {
     "name": "stdout",
     "output_type": "stream",
     "text": [
      "1000\n"
     ]
    }
   ],
   "source": [
    "player_health = 1_000\n",
    "\n",
    "print(player_health)\n"
   ]
  },
  {
   "cell_type": "markdown",
   "metadata": {},
   "source": [
    "# Variables Vary\n",
    "\n",
    "Variables are called \"variables\" because they can hold any value and that value can change (it varies).\n",
    "\n",
    "For example, the following will print `20`:\n",
    "\n",
    "> ```python\n",
    "> acceleration = 10\n",
    "> acceleration = 20\n",
    "> print(acceleration)\n",
    "\n",
    "The line `acceleration = 20` reassigns the value of `acceleration` to 20. It overwrites whatever was being held in the `acceleration` variable before.\n",
    "\n",
    "## Assignment\n",
    "\n",
    "We need to reduce our hero's health as they take damage in the game.\n",
    "\n",
    "Before each `print()` function in the provided code, change the value of `player_health` to be 100 less than it was before.\n"
   ]
  },
  {
   "cell_type": "code",
   "execution_count": 13,
   "metadata": {},
   "outputs": [
    {
     "name": "stdout",
     "output_type": "stream",
     "text": [
      "900\n",
      "800\n",
      "700\n",
      "600\n"
     ]
    }
   ],
   "source": [
    "player_health = 1_000\n",
    "\n",
    "player_health = player_health - 100\n",
    "\n",
    "print(player_health)\n",
    "\n",
    "player_health = player_health - 100\n",
    "\n",
    "print(player_health)\n",
    "\n",
    "player_health = player_health - 100\n",
    "\n",
    "print(player_health)\n",
    "\n",
    "player_health = player_health - 100\n",
    "\n",
    "print(player_health)\n"
   ]
  },
  {
   "cell_type": "markdown",
   "metadata": {},
   "source": [
    "# Let's do some math\n",
    "\n",
    "Now that we know how to store and change the value of variables let's do some math!\n",
    "\n",
    "Here are some examples of common mathematical operators in Python syntax.\n",
    "\n",
    "> ```python\n",
    "> sum = a + b\n",
    "> difference = a - b\n",
    "> product = a * b\n",
    "> quotient = a / b\n",
    "\n",
    "## Assignment\n",
    "\n",
    "Create a new variable called `armored_health` on line 4 and set it equal to `player_health * armor_multiplier`\n"
   ]
  },
  {
   "cell_type": "code",
   "execution_count": 14,
   "metadata": {},
   "outputs": [
    {
     "name": "stdout",
     "output_type": "stream",
     "text": [
      "2000\n"
     ]
    }
   ],
   "source": [
    "player_health = 1000\n",
    "armor_multiplier = 2\n",
    "\n",
    "armored_health = player_health * armor_multiplier\n",
    "print(armored_health)\n"
   ]
  },
  {
   "cell_type": "markdown",
   "metadata": {},
   "source": [
    "# Let's do some more math\n",
    "\n",
    "Creating negative numbers in Python works the way you probably expect, just add a minus sign in front of a number.\n",
    "\n",
    "> ```python\n",
    "> my_negative_num = -1\n",
    "\n",
    "## Assignment\n",
    "\n",
    "When our hero walks through poison, their health should be reduced. Change the `poison_damage` variable to be negative.\n",
    "\n",
    "## Fun Fact\n",
    "\n",
    "Computers can do math on really big numbers very quickly.\n"
   ]
  },
  {
   "cell_type": "code",
   "execution_count": 15,
   "metadata": {},
   "outputs": [
    {
     "name": "stdout",
     "output_type": "stream",
     "text": [
      "6783334623881\n"
     ]
    }
   ],
   "source": [
    "player_health = 6_783_424_367_754\n",
    "poison_damage = -89_743_873\n",
    "\n",
    "player_poison_health = player_health + poison_damage\n",
    "\n",
    "print(player_poison_health)\n"
   ]
  },
  {
   "cell_type": "markdown",
   "metadata": {},
   "source": [
    "# Comments\n",
    "\n",
    "Comments don't run like code, they are ignored by the computer. Comments are useful for adding reminders or explaining what a piece of code does in plain english.\n",
    "\n",
    "## Single line comment\n",
    "\n",
    "> ```python\n",
    "> # speed is a variable describing how fast your player moves\n",
    "> speed = 2\n",
    "\n",
    "## Multi line comments (aka docstrings)\n",
    "\n",
    "You can use triple quotes to start and end multi-line comments as well:\n",
    "\n",
    "> ```python\n",
    "> \"\"\"\n",
    ">     the code found below\n",
    ">     will print 'Hello, World!' to the console\n",
    "> \"\"\"\n",
    "> print('Hello, World!')\n",
    "\n",
    "This is useful if you don't want to add the `#` to the start of each line when writing paragraphs of comments.\n",
    "\n",
    "## Assignment\n",
    "\n",
    "Line #1 in the code was meant to be a comment, but the developer forgot to use the right syntax (`#`). Fix the bug by making the first line in the code a comment.\n"
   ]
  },
  {
   "cell_type": "code",
   "execution_count": 16,
   "metadata": {},
   "outputs": [
    {
     "name": "stdout",
     "output_type": "stream",
     "text": [
      "scimitar\n"
     ]
    }
   ],
   "source": [
    "# the bestSword variable holds the value of the best sword in the game\n",
    "best_sword = \"scimitar\"\n",
    "print(best_sword)\n"
   ]
  },
  {
   "cell_type": "markdown",
   "metadata": {},
   "source": [
    "# Variable Names\n",
    "\n",
    "Variable names can't have spaces, they're continuous strings of characters.\n",
    "\n",
    "In Python you should use \"snake_case\" when creating variable names - it's become the \"rule of thumb\" for the language. By way of comparison, \"camel case\" is where the beginning of each new word except the first is capitalized.\n",
    "\n",
    "## Casing Examples\n",
    "\n",
    "No casing:\n",
    "\n",
    "> ```python\n",
    "> somevariablehere = 10\n",
    "\n",
    "Camel Case:\n",
    "\n",
    "> ```python\n",
    "> someVariableHere = 10\n",
    "\n",
    "Snake Case:\n",
    "\n",
    "> ```python\n",
    "> some_variable_here = 10\n"
   ]
  },
  {
   "cell_type": "markdown",
   "metadata": {},
   "source": [
    "# Basic Variable Types\n",
    "\n",
    "In Python there are several basic data types.\n",
    "\n",
    "## String Type\n",
    "\n",
    "\"Strings\" are raw text in coding speak. They are called \"strings\" because they are a list of characters strung together. Strings are declared in Python by using single quotes or double quotes. That said, for consistency's sake, we prefer double quotes.\n",
    "\n",
    "> ```python\n",
    "> name_with_single_quotes = 'boot.dev'\n",
    "> name_With_double_quotes = \"boot.dev\"\n",
    "\n",
    "## Numeric Types\n",
    "\n",
    "Numbers aren't surrounded by quotes when created, but they can have decimals and negative signs.\n",
    "\n",
    "## Integers are numbers without a decimal\n",
    "\n",
    "> ```python\n",
    "> x = 5\n",
    "> y = -5\n",
    "\n",
    "## A \"Float\" is a number with a decimal\n",
    "\n",
    "> ```python\n",
    "> x = 5.2\n",
    "> y = -5.2\n",
    "\n",
    "## Boolean Type\n",
    "\n",
    "A \"Boolean\" (or \"bool\") is a type that can only have one of two values: `True` or `False`. As you may have heard computers really only use 1's and 0's. These 1's and 0's are just `Boolean` values.\n",
    "\n",
    "> ```python\n",
    "> 0 = False\n",
    "> 1 = True\n",
    "\n",
    "> ```python\n",
    "> is_tall = True\n",
    "\n",
    "## Assignment\n",
    "\n",
    "Fix the bugs in the code to move on. `player_health` should be an integer and `player_has_magic` should be a boolean.\n"
   ]
  },
  {
   "cell_type": "code",
   "execution_count": 17,
   "metadata": {},
   "outputs": [
    {
     "name": "stdout",
     "output_type": "stream",
     "text": [
      "player_health is a/an <class 'int'>\n",
      "player_has_magic is a/an <class 'bool'>\n"
     ]
    }
   ],
   "source": [
    "player_health = 100\n",
    "\n",
    "player_has_magic = True\n",
    "\n",
    "# don't touch below this line\n",
    "print(f\"player_health is a/an {type(player_health)}\")\n",
    "print(f\"player_has_magic is a/an {type(player_has_magic)}\")\n"
   ]
  },
  {
   "cell_type": "markdown",
   "metadata": {},
   "source": [
    "# NoneType Variables\n",
    "\n",
    "Not all variables have a value. We can declare an \"empty\" variable by setting it to None.\n",
    "\n",
    "> ```python\n",
    "> empty = None\n",
    "\n",
    "The value of `empty` in this instance is `None` until we use the assignment operator, `=`, to give it a value.\n",
    "\n",
    "## None is NOT a specific string\n",
    "\n",
    "Note that the `None` type is not the same as a string with a value of \"None\":\n",
    "\n",
    "> ```python\n",
    "> my_none = None # this is a None-type\n",
    "> my_none = \"None\" # this is a string\n",
    "\n",
    "## Assignment\n",
    "\n",
    "Declare a variable named `enemy` and set it to `None`. Don't change the `print()` function.\n"
   ]
  },
  {
   "cell_type": "code",
   "execution_count": 18,
   "metadata": {},
   "outputs": [
    {
     "name": "stdout",
     "output_type": "stream",
     "text": [
      "True\n"
     ]
    }
   ],
   "source": [
    "enemy = None\n",
    "\n",
    "\n",
    "# don't touch below this line\n",
    "print(enemy is None)\n"
   ]
  },
  {
   "cell_type": "markdown",
   "metadata": {},
   "source": [
    "# NoneType\n",
    "\n",
    "Like we mentioned in the last exercise, the `None` keyword is used to define a null variable or object. In Python, the `None` keyword is an object (which we'll cover later), and it is a data type of the class `NoneType`.\n"
   ]
  },
  {
   "cell_type": "markdown",
   "metadata": {},
   "source": [
    "# Dynamic Typing\n",
    "\n",
    "Python is [dynamically typed](https://en.wikipedia.org/wiki/Type_system#Static_and_dynamic_type_checking_in_practice). All this means is that a variable can store any type, and that type can change.\n",
    "\n",
    "For example, if I make a number variable, I can later change that variable to be a string:\n",
    "\n",
    "This is valid:\n",
    "\n",
    "> ```py\n",
    "> speed = 5\n",
    "> speed = \"five\"\n",
    "\n",
    "## Just because you can doesn't mean you should!\n",
    "\n",
    "In almost all circumstances, it's a bad idea to change the type of a variable. The \"proper\" thing to do is to just create a new one. For example:\n",
    "\n",
    "> ```py\n",
    "> speed = 5\n",
    "> speed_description = \"five\"\n",
    "\n",
    "## What if it weren't dynamically typed?\n",
    "\n",
    "Strongly typed languages like Go (which you'll learn in a later course) are strongly-typed instead of dynamically-typed. In a strongly-typed language, if you try to assign a value to a variable of the wrong type, an error would crash the program.\n",
    "\n",
    "If Python were strongly-typed, the first example from before would crash on the second line, `speed = \"five\"`. The computer would give an error along the lines of `you can't assign a string value (\"five\") to a number variable (speed)`\n"
   ]
  },
  {
   "cell_type": "markdown",
   "metadata": {},
   "source": [
    "# Math With Strings\n",
    "\n",
    "Most of the math operators we went over earlier don't work with strings, with the exception of the `+` addition operator. When working with strings the `+` operator performs a \"concatenation\".\n",
    "\n",
    "\"Concatenation\" is a fancy word that means the joining of two strings.\n",
    "\n",
    "> ```py\n",
    "> first_name = \"Lane \"\n",
    "> last_name = \"Wagner\"\n",
    "> full_name = first_name + last_name\n",
    "\n",
    "`full_name` now holds the value \"Lane Wagner\".\n",
    "\n",
    "Notice the extra space at the end of `\"Lane \"` in the `first_name` variable. That extra space is there to separate the words in the final result: `\"Lane Wagner\"`.\n",
    "\n",
    "## Assignment\n",
    "\n",
    "We have a second player in our game!\n",
    "\n",
    "We need to tell each of our players how much health they have left.\n",
    "\n",
    "1. Edit line `9` to print Player 1's health: `You have 1200 health` using string concatenation and the variables provided\n",
    "2. Edit line `10` to print Player 2's health: `You have 1100 health` in the same way\n"
   ]
  },
  {
   "cell_type": "code",
   "execution_count": 19,
   "metadata": {},
   "outputs": [
    {
     "name": "stdout",
     "output_type": "stream",
     "text": [
      "You have 1200 health\n",
      "You have 1100 health\n"
     ]
    }
   ],
   "source": [
    "sentence_start = \"You have \"\n",
    "sentence_end = \" health\"\n",
    "\n",
    "player1_health = \"1200\"\n",
    "player2_health = \"1100\"\n",
    "\n",
    "# Don't edit above this line\n",
    "\n",
    "print(sentence_start + player1_health + sentence_end)\n",
    "print(sentence_start + player2_health + sentence_end)\n"
   ]
  },
  {
   "cell_type": "markdown",
   "metadata": {},
   "source": [
    "# Multi Variable Declaration\n",
    "\n",
    "We can save space when creating many new variables by declaring them on the same line:\n",
    "\n",
    "> ```py\n",
    "> sword_name, sword_damage, sword_length = \"Excalibur\", 10, 200\n",
    "\n",
    "Which is the same as:\n",
    "\n",
    "> ```py\n",
    "> sword_name = \"Excalibur\"\n",
    "> sword_damage = 10\n",
    "> sword_length = 200\n",
    "\n",
    "Any number of variables can be declared on the same line, and variables declared on the same line should be related to one another in some way so that the code remains easy to understand.\n",
    "\n",
    "We call code that's easy to understand \"clean code\".\n"
   ]
  },
  {
   "attachments": {},
   "cell_type": "markdown",
   "metadata": {},
   "source": [
    "# Email output\n",
    "\n",
    "An e-commerce store has configured an automated receipt, but can't figure out how to print the email message in the correct order.\n",
    "\n",
    "\n",
    "### Challenge\n",
    "\n",
    "Add some print statements to the end of the code to get the expected output. Make sure you use the existing variables, and that the output is contained within 3 lines.\n",
    "\n",
    "```text\n",
    "Thank you for shopping with us!\n",
    "Your total today was: $20.25\n",
    "Please consider filling out our customer survey.\n",
    "```\n"
   ]
  },
  {
   "cell_type": "code",
   "execution_count": 6,
   "metadata": {},
   "outputs": [
    {
     "name": "stdout",
     "output_type": "stream",
     "text": [
      "Thank you for shopping with us!\n",
      "Your total today was: $20.25\n",
      "Please consider filling out our customer survey.\n"
     ]
    }
   ],
   "source": [
    "email_start = \"Thank you for shopping with us!\"\n",
    "email_middle = \"Your total today was: \"\n",
    "email_end = \"Please consider filling out our customer survey.\"\n",
    "dollar_sign = \"$\"\n",
    "total_price = \"20.25\"\n",
    "\n",
    "# don't touch above this line\n",
    "\n",
    "print (email_start)\n",
    "print (email_middle + \"\" + dollar_sign + total_price)\n",
    "print (email_end)"
   ]
  },
  {
   "attachments": {},
   "cell_type": "markdown",
   "metadata": {},
   "source": [
    "# Playoff Average\n",
    "\n",
    "Allan's favorite NBA Basketball team just played a 7 game series in the Playoffs. He needs help writing a program that will calculate the average points scored by his team through the 7 games.\n",
    "\n",
    "### Challenge\n",
    "\n",
    "Using the score variables. Assign the average score of the 7 games to the `average_score` variable.\n"
   ]
  },
  {
   "cell_type": "code",
   "execution_count": 7,
   "metadata": {},
   "outputs": [
    {
     "name": "stdout",
     "output_type": "stream",
     "text": [
      "99\n"
     ]
    }
   ],
   "source": [
    "game_one_score = 97\n",
    "game_two_score = 91\n",
    "game_three_score = 106\n",
    "game_four_score = 105\n",
    "game_five_score = 96\n",
    "game_six_score = 93\n",
    "game_seven_score = 104\n",
    "\n",
    "# Don't touch above this line\n",
    "\n",
    "average_score = (game_one_score + game_two_score + game_three_score + game_four_score + game_five_score + game_six_score + game_seven_score) / 7\n",
    "\n",
    "# Don't touch below this line\n",
    "\n",
    "print(round(average_score))\n"
   ]
  },
  {
   "attachments": {},
   "cell_type": "markdown",
   "metadata": {},
   "source": [
    "# Tim's Poem\n",
    "\n",
    "Tim is working on a program that writes a poem to the console. However, Tim is having trouble getting the poem to print on only two lines.\n",
    "\n",
    "### Challenge\n",
    "\n",
    "Use string concatenation to assign values to the `line_one` and `line_two` variables correctly.\n"
   ]
  },
  {
   "cell_type": "code",
   "execution_count": 8,
   "metadata": {},
   "outputs": [
    {
     "name": "stdout",
     "output_type": "stream",
     "text": [
      "Roses are red, violets are blue.\n",
      "Python is cool, and so are you!\n"
     ]
    }
   ],
   "source": [
    "part_one = \"Roses are red, \"\n",
    "part_two = \"violets are blue.\"\n",
    "part_three = \"Python is cool, \"\n",
    "part_four = \"and so are you!\"\n",
    "\n",
    "# Don't touch above this line\n",
    "\n",
    "line_one = part_one + part_two\n",
    "line_two = part_three + part_four\n",
    "\n",
    "# Don't touch below this line\n",
    "\n",
    "print(line_one)\n",
    "print(line_two)\n"
   ]
  }
 ],
 "metadata": {
  "kernelspec": {
   "display_name": "Python 3.9.6 64-bit",
   "language": "python",
   "name": "python3"
  },
  "language_info": {
   "codemirror_mode": {
    "name": "ipython",
    "version": 3
   },
   "file_extension": ".py",
   "mimetype": "text/x-python",
   "name": "python",
   "nbconvert_exporter": "python",
   "pygments_lexer": "ipython3",
   "version": "3.9.6"
  },
  "orig_nbformat": 4,
  "vscode": {
   "interpreter": {
    "hash": "31f2aee4e71d21fbe5cf8b01ff0e069b9275f58929596ceb00d14d90e3e16cd6"
   }
  }
 },
 "nbformat": 4,
 "nbformat_minor": 2
}
