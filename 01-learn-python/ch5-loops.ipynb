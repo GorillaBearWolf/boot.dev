{
 "cells": [
  {
   "cell_type": "code",
   "execution_count": null,
   "metadata": {},
   "outputs": [],
   "source": [
    "for i in range(0, 100):\n",
    "    print(i)\n"
   ]
  },
  {
   "cell_type": "code",
   "execution_count": null,
   "metadata": {},
   "outputs": [],
   "source": [
    "for i in range(0, 200):\n",
    "    print(i)\n"
   ]
  },
  {
   "cell_type": "code",
   "execution_count": null,
   "metadata": {},
   "outputs": [],
   "source": [
    "for i in range(5, 16):\n",
    "    print(i)\n"
   ]
  },
  {
   "cell_type": "code",
   "execution_count": null,
   "metadata": {},
   "outputs": [],
   "source": [
    "for i in range(10, 0, -1):\n",
    "    print(i)\n"
   ]
  },
  {
   "cell_type": "code",
   "execution_count": null,
   "metadata": {},
   "outputs": [],
   "source": [
    "for age in range(0, 75):\n",
    "    if age < 8:\n",
    "      print(f\"You qualify for free meals. You are: {age} years old.\")\n",
    "    elif age > 65:\n",
    "      print(f\"You qualify for retirement. You are: {age} years old.\")\n"
   ]
  },
  {
   "cell_type": "code",
   "execution_count": null,
   "metadata": {},
   "outputs": [],
   "source": [
    "total = 0\n",
    "for i in range(0, 100):\n",
    "    total += i\n",
    "print(total)\n"
   ]
  },
  {
   "cell_type": "code",
   "execution_count": null,
   "metadata": {},
   "outputs": [],
   "source": [
    "total = 0\n",
    "for i in range(1, 100, 2):\n",
    "    total += i\n",
    "print(total)\n"
   ]
  },
  {
   "cell_type": "code",
   "execution_count": 2,
   "metadata": {},
   "outputs": [
    {
     "name": "stdout",
     "output_type": "stream",
     "text": [
      "---------------------------------\n",
      "Inputs:\n",
      " * current_health: 0\n",
      " *     max_health: 10\n",
      " * enemy_distance: 20\n",
      "Expecting: 9\n",
      "   Actual: 9\n",
      "Pass\n",
      "---------------------------------\n",
      "Inputs:\n",
      " * current_health: 0\n",
      " *     max_health: 10\n",
      " * enemy_distance: 4\n",
      "Expecting: 1\n",
      "   Actual: 1\n",
      "Pass\n",
      "---------------------------------\n",
      "Inputs:\n",
      " * current_health: 8\n",
      " *     max_health: 10\n",
      " * enemy_distance: 20\n",
      "Expecting: 10\n",
      "   Actual: 10\n",
      "Pass\n",
      "---------------------------------\n",
      "Inputs:\n",
      " * current_health: 0\n",
      " *     max_health: 0\n",
      " * enemy_distance: 0\n",
      "Expecting: 0\n",
      "   Actual: 0\n",
      "Pass\n",
      "---------------------------------\n",
      "Inputs:\n",
      " * current_health: 9\n",
      " *     max_health: 10\n",
      " * enemy_distance: 3\n",
      "Expecting: 9\n",
      "   Actual: 9\n",
      "Pass\n",
      "---------------------------------\n",
      "Inputs:\n",
      " * current_health: 100\n",
      " *     max_health: 100\n",
      " * enemy_distance: 200\n",
      "Expecting: 100\n",
      "   Actual: 100\n",
      "Pass\n",
      "---------------------------------\n",
      "Inputs:\n",
      " * current_health: 2\n",
      " *     max_health: 110\n",
      " * enemy_distance: 50\n",
      "Expecting: 26\n",
      "   Actual: 26\n",
      "Pass\n",
      "---------------------------------\n",
      "Inputs:\n",
      " * current_health: 100\n",
      " *     max_health: 1010\n",
      " * enemy_distance: 2000\n",
      "Expecting: 1010\n",
      "   Actual: 1010\n",
      "Pass\n",
      "============= PASS ==============\n",
      "8 passed, 0 failed\n"
     ]
    }
   ],
   "source": [
    "def regenerate(current_health, max_health, enemy_distance):\n",
    "    while current_health != max_health:\n",
    "        if enemy_distance <= 3:\n",
    "            return current_health\n",
    "        current_health += 1\n",
    "        enemy_distance -= 2\n",
    "    return current_health\n",
    "\n",
    "run_cases = [(0, 10, 20, 9), (0, 10, 4, 1), (8, 10, 20, 10)]\n",
    "\n",
    "submit_cases = run_cases + [\n",
    "    (0, 0, 0, 0),\n",
    "    (9, 10, 3, 9),\n",
    "    (100, 100, 200, 100),\n",
    "    (2, 110, 50, 26),\n",
    "    (100, 1010, 2000, 1010),\n",
    "]\n",
    "\n",
    "\n",
    "def test(input1, input2, input3, expected_output):\n",
    "    print(\"---------------------------------\")\n",
    "    print(f\"Inputs:\")\n",
    "    print(f\" * current_health: {input1}\")\n",
    "    print(f\" *     max_health: {input2}\")\n",
    "    print(f\" * enemy_distance: {input3}\")\n",
    "    print(f\"Expecting: {expected_output}\")\n",
    "    result = regenerate(input1, input2, input3)\n",
    "    print(f\"   Actual: {result}\")\n",
    "    if result == expected_output:\n",
    "        print(\"Pass\")\n",
    "        return True\n",
    "    print(\"Fail\")\n",
    "    return False\n",
    "\n",
    "\n",
    "def main():\n",
    "    passed = 0\n",
    "    failed = 0\n",
    "    for test_case in test_cases:\n",
    "        correct = test(*test_case)\n",
    "        if correct:\n",
    "            passed += 1\n",
    "        else:\n",
    "            failed += 1\n",
    "    if failed == 0:\n",
    "        print(\"============= PASS ==============\")\n",
    "    else:\n",
    "        print(\"============= FAIL ==============\")\n",
    "    print(f\"{passed} passed, {failed} failed\")\n",
    "\n",
    "\n",
    "test_cases = submit_cases\n",
    "if \"__RUN__\" in globals():\n",
    "    test_cases = run_cases\n",
    "\n",
    "main()\n",
    "\n"
   ]
  },
  {
   "cell_type": "code",
   "execution_count": null,
   "metadata": {},
   "outputs": [],
   "source": [
    "for i in range(10, 0, -1):\n",
    "  if i == 1:\n",
    "    print(f\"{i}... Blastoff!\")\n",
    "  else:\n",
    "    print(f\"{i}...\")\n"
   ]
  },
  {
   "cell_type": "code",
   "execution_count": null,
   "metadata": {},
   "outputs": [],
   "source": [
    "for i in range(100, 110, 1):\n",
    "  print(f\"{i} squared = {i * i}\")\n"
   ]
  },
  {
   "cell_type": "code",
   "execution_count": null,
   "metadata": {},
   "outputs": [],
   "source": [
    "number_of_employees = 102\n",
    "\n",
    "c_level_bonus = 2000\n",
    "manager_bonus = 1000\n",
    "standard_bonus = 500\n",
    "\n",
    "# C Level Executives\n",
    "sarah_id = 1\n",
    "mary_id = 2\n",
    "\n",
    "# Managers\n",
    "john_id = 6\n",
    "bob_id = 44\n",
    "joe_id = 18\n",
    "\n",
    "dollars_needed = 0\n",
    "\n",
    "# Don't touch above this line\n",
    "\n",
    "execs = [sarah_id, mary_id]\n",
    "managers = [john_id, bob_id, joe_id]\n",
    "\n",
    "\n",
    "for i in range(0, number_of_employees):\n",
    "  if i in execs:\n",
    "    dollars_needed += c_level_bonus\n",
    "  elif i in managers:\n",
    "    dollars_needed += manager_bonus\n",
    "  else:\n",
    "    dollars_needed += standard_bonus\n",
    "\n",
    "# Don't touch below this line\n",
    "\n",
    "print(f\"{dollars_needed} dollars are needed to fulfill all bonuses\")\n"
   ]
  }
 ],
 "metadata": {
  "kernelspec": {
   "display_name": "Python 3.9.6 64-bit",
   "language": "python",
   "name": "python3"
  },
  "language_info": {
   "codemirror_mode": {
    "name": "ipython",
    "version": 3
   },
   "file_extension": ".py",
   "mimetype": "text/x-python",
   "name": "python",
   "nbconvert_exporter": "python",
   "pygments_lexer": "ipython3",
   "version": "3.12.4"
  },
  "orig_nbformat": 4,
  "vscode": {
   "interpreter": {
    "hash": "31f2aee4e71d21fbe5cf8b01ff0e069b9275f58929596ceb00d14d90e3e16cd6"
   }
  }
 },
 "nbformat": 4,
 "nbformat_minor": 2
}
