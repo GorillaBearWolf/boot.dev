{
 "cells": [
  {
   "cell_type": "code",
   "execution_count": null,
   "metadata": {},
   "outputs": [],
   "source": [
    "for i in range(0, 100):\n",
    "    print(i)\n"
   ]
  },
  {
   "cell_type": "code",
   "execution_count": null,
   "metadata": {},
   "outputs": [],
   "source": [
    "for i in range(0, 200):\n",
    "    print(i)\n"
   ]
  },
  {
   "cell_type": "code",
   "execution_count": null,
   "metadata": {},
   "outputs": [],
   "source": [
    "for i in range(5, 16):\n",
    "    print(i)\n"
   ]
  },
  {
   "cell_type": "code",
   "execution_count": null,
   "metadata": {},
   "outputs": [],
   "source": [
    "for i in range(10, 0, -1):\n",
    "    print(i)\n"
   ]
  },
  {
   "cell_type": "code",
   "execution_count": null,
   "metadata": {},
   "outputs": [],
   "source": [
    "for age in range(0, 75):\n",
    "    if age < 8:\n",
    "      print(f\"You qualify for free meals. You are: {age} years old.\")\n",
    "    elif age > 65:\n",
    "      print(f\"You qualify for retirement. You are: {age} years old.\")\n"
   ]
  },
  {
   "cell_type": "code",
   "execution_count": null,
   "metadata": {},
   "outputs": [],
   "source": [
    "total = 0\n",
    "for i in range(0, 100):\n",
    "    total += i\n",
    "print(total)\n"
   ]
  },
  {
   "cell_type": "code",
   "execution_count": null,
   "metadata": {},
   "outputs": [],
   "source": [
    "total = 0\n",
    "for i in range(1, 100, 2):\n",
    "    total += i\n",
    "print(total)\n"
   ]
  },
  {
   "cell_type": "code",
   "execution_count": null,
   "metadata": {},
   "outputs": [],
   "source": [
    "for i in range(10, 0, -1):\n",
    "  if i == 1:\n",
    "    print(f\"{i}... Blastoff!\")\n",
    "  else:\n",
    "    print(f\"{i}...\")"
   ]
  },
  {
   "cell_type": "code",
   "execution_count": null,
   "metadata": {},
   "outputs": [],
   "source": [
    "for i in range(100, 110, 1):\n",
    "  print(f\"{i} squared = {i * i}\")"
   ]
  },
  {
   "cell_type": "code",
   "execution_count": null,
   "metadata": {},
   "outputs": [],
   "source": [
    "number_of_employees = 102\n",
    "\n",
    "c_level_bonus = 2000\n",
    "manager_bonus = 1000\n",
    "standard_bonus = 500\n",
    "\n",
    "# C Level Executives\n",
    "sarah_id = 1\n",
    "mary_id = 2\n",
    "\n",
    "# Managers\n",
    "john_id = 6\n",
    "bob_id = 44\n",
    "joe_id = 18\n",
    "\n",
    "dollars_needed = 0\n",
    "\n",
    "# Don't touch above this line\n",
    "\n",
    "execs = [sarah_id, mary_id]\n",
    "managers = [john_id, bob_id, joe_id]\n",
    "\n",
    "\n",
    "for i in range(0, number_of_employees):\n",
    "  if i in execs:\n",
    "    dollars_needed += c_level_bonus\n",
    "  elif i in managers:\n",
    "    dollars_needed += manager_bonus\n",
    "  else:\n",
    "    dollars_needed += standard_bonus\n",
    "\n",
    "# Don't touch below this line\n",
    "\n",
    "print(f\"{dollars_needed} dollars are needed to fulfill all bonuses\")\n"
   ]
  }
 ],
 "metadata": {
  "kernelspec": {
   "display_name": "Python 3.9.6 64-bit",
   "language": "python",
   "name": "python3"
  },
  "language_info": {
   "codemirror_mode": {
    "name": "ipython",
    "version": 3
   },
   "file_extension": ".py",
   "mimetype": "text/x-python",
   "name": "python",
   "nbconvert_exporter": "python",
   "pygments_lexer": "ipython3",
   "version": "3.9.6"
  },
  "orig_nbformat": 4,
  "vscode": {
   "interpreter": {
    "hash": "31f2aee4e71d21fbe5cf8b01ff0e069b9275f58929596ceb00d14d90e3e16cd6"
   }
  }
 },
 "nbformat": 4,
 "nbformat_minor": 2
}
