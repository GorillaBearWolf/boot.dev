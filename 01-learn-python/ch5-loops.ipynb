{
 "cells": [
  {
   "cell_type": "markdown",
   "metadata": {},
   "source": [
    "# Loops\n",
    "\n",
    "Loops are a programmer's best friend. Loops allow us to do the same operation multiple times without having to write it explicitly each time.\n",
    "\n",
    "For example, let's pretend I want to print the numbers 0-9.\n",
    "\n",
    "I could do this:\n",
    "\n",
    ">```py\n",
    ">print(0)\n",
    ">print(1)\n",
    ">print(2)\n",
    ">print(3)\n",
    ">print(4)\n",
    ">print(5)\n",
    ">print(6)\n",
    ">print(7)\n",
    ">print(8)\n",
    ">print(9)\n",
    "\n",
    "Even so, it would save me a lot of time typing to use a loop. Especially if I wanted to do the same thing _one thousand or one million_ times.\n",
    "\n",
    "A \"*for loop*\" in Python is written like this:\n",
    "\n",
    ">```py\n",
    ">for i in range(0, 10):\n",
    ">    print(i)\n",
    "\n",
    "In English, the code says:\n",
    "\n",
    "1. Start with `i` equals `0`. (`i in range(0)`)\n",
    "2. If `i` is not less than 10 (`range(0, 10)`), exit the loop.\n",
    "3. Print `i` to the console. (`print(i)`)\n",
    "4. Add `1` to `i`. (`range` defaults to incrementing by 1)\n",
    "5. Go back to step 2\n",
    "\n",
    "The result is that the numbers `0-9` are logged to the console in order.\n",
    "\n",
    "## Whitespace matters in Python!\n",
    "\n",
    "The body of a for-loop *must* be indented, otherwise you'll get a syntax error.\n",
    "\n",
    "## Assignment\n",
    "\n",
    "Complete the missing sections of the for-loop so that it prints the numbers 0-99 to the console.\n"
   ]
  },
  {
   "cell_type": "code",
   "execution_count": null,
   "metadata": {},
   "outputs": [],
   "source": [
    "for i in range(0, 100):\n",
    "    print(i)\n"
   ]
  },
  {
   "cell_type": "markdown",
   "metadata": {},
   "source": [
    "## Assignment\n",
    "\n",
    "Write a for-loop from scratch that logs the numbers 0-199 to the console."
   ]
  },
  {
   "cell_type": "code",
   "execution_count": null,
   "metadata": {},
   "outputs": [],
   "source": [
    "for i in range(0, 200):\n",
    "    print(i)\n"
   ]
  },
  {
   "cell_type": "markdown",
   "metadata": {},
   "source": [
    "## Assignment\n",
    "\n",
    "Edit the for-loop to print the numbers 5 to 15 instead."
   ]
  },
  {
   "cell_type": "code",
   "execution_count": null,
   "metadata": {},
   "outputs": [],
   "source": [
    "for i in range(5, 16):\n",
    "    print(i)\n"
   ]
  },
  {
   "cell_type": "markdown",
   "metadata": {},
   "source": [
    "# Loop Review\n",
    "\n",
    ">```py\n",
    ">for i in range(0, 10):\n",
    ">    print(i)\n",
    "\n",
    "Prints the numbers 0-9 to the console.\n",
    "\n",
    ">```py\n",
    ">for i in range(0, 1000):\n",
    ">    print(i)\n",
    "\n",
    "Prints the numbers 0-999 to the console.\n",
    "\n",
    "## Whitespace matters in Python!\n",
    "\n",
    "The body of a for-loop *must* be indented, otherwise you'll get a syntax error. Not only that, but every line in the body of the loop must be indented in the same way - we use the \"4 spaces\" convention. Pressing the `<tab>` key should automatically insert 4 spaces.\n"
   ]
  },
  {
   "cell_type": "markdown",
   "metadata": {},
   "source": [
    "# Range Continued\n",
    "\n",
    "The `range()` function we've been using in our `for` loops actually has an optional 3rd parameter: the \"step\".\n",
    "\n",
    ">```py\n",
    ">for i in range(0, 10, 2):\n",
    ">    print(i)\n",
    "># prints:\n",
    "># 0\n",
    "># 2\n",
    "># 4\n",
    "># 6\n",
    "># 8\n",
    "\n",
    "The \"step\" parameter determines how much to increment `i` by in each iteration of the loop. You can even go backwards:\n",
    "\n",
    ">```py\n",
    ">for i in range(3, 0, -1):\n",
    ">    print(i)\n",
    "># prints:\n",
    "># 3\n",
    "># 2\n",
    "># 1\n",
    "\n",
    "Assignment\n",
    "\n",
    "Fix the code so that it prints the numbers `10 -> 1` in order.\n"
   ]
  },
  {
   "cell_type": "code",
   "execution_count": null,
   "metadata": {},
   "outputs": [],
   "source": [
    "for i in range(10, 0, -1):\n",
    "    print(i)\n"
   ]
  },
  {
   "cell_type": "markdown",
   "metadata": {},
   "source": [
    "# F-strings in Python\n",
    "\n",
    "You can create a string with dynamic values by using `f-strings` in Python. It's a really beautiful syntax that I wish more programming languages adopted.\n",
    "\n",
    ">```py\n",
    ">num_bananas = 10\n",
    ">print(f\"You have {num_bananas} bananas\")\n",
    "># You have 10 bananas\n",
    "\n",
    "The opening quotes need to be proceeded by an `f`, then any variables within curly brackets have their values interpolated into the string.\n",
    "\n",
    "## Assignment\n",
    "\n",
    "At the home-town tavern in Fantasy Quest, the inn-keeper offers free meals and retirement plans based on the age of his patrons. I wrote a loop for you that increments the `age` variable from 0 to 74.\n",
    "\n",
    "In the body of the `for` loop, if `age` is less than `8` your code should print:\n",
    "\n",
    ">```py\n",
    ">You qualify for free meals. You are: _ years old.\n",
    "\n",
    "Otherwise, if `age` is greater than `65` you should print:\n",
    "\n",
    ">```py\n",
    ">You qualify for retirement. You are: _ years old.\n",
    "\n",
    "`_` should be the current value of the `age` variable.\n"
   ]
  },
  {
   "cell_type": "code",
   "execution_count": null,
   "metadata": {},
   "outputs": [],
   "source": [
    "for age in range(0, 75):\n",
    "    if age < 8:\n",
    "      print(f\"You qualify for free meals. You are: {age} years old.\")\n",
    "    elif age > 65:\n",
    "      print(f\"You qualify for retirement. You are: {age} years old.\")\n"
   ]
  },
  {
   "attachments": {},
   "cell_type": "markdown",
   "metadata": {},
   "source": [
    "# Sum Game\n",
    "\n",
    "Remember that the increment and decrement operators can increment or decrement a variable by any amount.\n",
    "\n",
    "> ```py\n",
    "> number_of_enemies = 10\n",
    "> number_of_enemies += 2\n",
    "> # number_of_enemies is 12\n",
    "> ```\n",
    "\n",
    "> ```py\n",
    "> number_of_enemies = 10\n",
    "> number_of_enemies -= 2\n",
    "> # number_of_enemies is 8\n",
    "> ```\n",
    "\n",
    "## Assignment\n",
    "\n",
    "Fix the bug in the program. Instead of adding 1 to `total` at each iteration of the loop, it should add `i`. For example, instead of:\n",
    "\n",
    "`1 + 1 + 1 + 1 + 1...`\n",
    "\n",
    "we want:\n",
    "\n",
    "`0 + 1 + 2 + 3 + 4...`\n"
   ]
  },
  {
   "cell_type": "code",
   "execution_count": 1,
   "metadata": {},
   "outputs": [
    {
     "name": "stdout",
     "output_type": "stream",
     "text": [
      "4950\n"
     ]
    }
   ],
   "source": [
    "total = 0\n",
    "for i in range(0, 100):\n",
    "    total += i\n",
    "print(total)\n"
   ]
  },
  {
   "attachments": {},
   "cell_type": "markdown",
   "metadata": {},
   "source": [
    "# Sum Game 2\n",
    "\n",
    "## Assignment\n",
    "\n",
    "Write a program that sums all the numbers from 0-99, but skips even numbers."
   ]
  },
  {
   "cell_type": "code",
   "execution_count": 2,
   "metadata": {},
   "outputs": [
    {
     "name": "stdout",
     "output_type": "stream",
     "text": [
      "2500\n"
     ]
    }
   ],
   "source": [
    "total = 0\n",
    "for i in range(1, 100, 2):\n",
    "    total += i\n",
    "print(total)\n"
   ]
  },
  {
   "attachments": {},
   "cell_type": "markdown",
   "metadata": {},
   "source": [
    "# Learning Effectively\n",
    "\n",
    "This course is about to get *harder*. There's no way around it, if programming were a walk in the park everyone would be earning 6 figures as a software engineer. But it's not, and to succeed without getting stuck and frustrated you need to learn how to learn.\n",
    "\n",
    "## Process for solving hard coding problems\n",
    "\n",
    "1. **Read the lesson first!** Understand the code examples before diving into the assignment.\n",
    "2. **Read the assignment.** Understand the goal of the assignment before you start writing code.\n",
    "3. **Start writing code.**\n",
    "4. **Add print() statements.** Don't wait until you've written a lot of code to start testing. Add `print()` statements and use the `Run` button to see if your code is doing what you expect at each step. It's easier to find issues in small bits of code than in large blocks of code.\n",
    "5. **Remove any print() statements before submitting.** Once you have a working solution, remove any extra `print()` statements you added to debug and test your code.\n",
    "6. **Submit your code.** The *output* of your code is the only thing compared to our answer key. If the output is the same, you'll pass. If it's different, you'll fail.\n",
    "7. **Compare your code to the instructor's.** You will *not* be penalized for looking at the solution after you have successfully completed the assignment.\n",
    "\n",
    "## Additional tidbits\n",
    "\n",
    "- It's okay to peek at the solution when you're completely stuck every once in a while, but *don't make it a habit*. If you find that you're always stuck, you should restart the chapter or course to make sure you understand the material.\n",
    "- You can reset your code for an assignment with the \"reset\" button. For example, maybe you forgot which modifications *you* made, or maybe you messed up the test suite.\n",
    "- You can reset all your cached code from the settings page. This is useful if you want to restart a course or chapter.\n",
    "\n",
    "## Here's me explaining all this in a video\n",
    "\n",
    "<https://youtu.be/sfsY-DQ41HU>"
   ]
  },
  {
   "attachments": {},
   "cell_type": "markdown",
   "metadata": {},
   "source": [
    "# Rocket Launch\n",
    "\n",
    "A team of scientists is getting ready to launch the rockets they have been working on. You've been asked to write a program that will countdown to the rockets launch.\n",
    "\n",
    "## Challenge\n",
    "\n",
    "Write a loop that counts down from `10` to `1`. At each iteration it should print:\n",
    "\n",
    "`NUM...`\n",
    "\n",
    "Where `NUM` is the current number in the countdown. However, when `NUM` is `1`, it should instead print:\n",
    "\n",
    "`NUM... Blastoff!\"`\n"
   ]
  },
  {
   "cell_type": "code",
   "execution_count": null,
   "metadata": {},
   "outputs": [],
   "source": [
    "for i in range(10, 0, -1):\n",
    "  if i == 1:\n",
    "    print(f\"{i}... Blastoff!\")\n",
    "  else:\n",
    "    print(f\"{i}...\")"
   ]
  },
  {
   "attachments": {},
   "cell_type": "markdown",
   "metadata": {},
   "source": [
    "# Squaring Numbers\n",
    "\n",
    "John is finishing some math homework and needs to calculate the [square](https://www.mathsisfun.com/definitions/square-numbers-.html) of some numbers. However, he's getting tired of entering each of them into a calculator individually.\n",
    "\n",
    "## Challenge\n",
    "\n",
    "Write a loop that calculates and prints the squares of the numbers 100 - 109.\n",
    "\n",
    "Use the following format to print each line:\n",
    "\n",
    "> ```py\n",
    "> NUM squared = SQUARE\n",
    "> ```\n",
    "\n",
    "Where `NUM` is the number, and `SQUARE` is its square.\n",
    "\n",
    "For example, the first pass of the loop should print:\n",
    "\n",
    "> ```py\n",
    "> 100 squared = 10000\n",
    "> ```\n"
   ]
  },
  {
   "cell_type": "code",
   "execution_count": 16,
   "metadata": {},
   "outputs": [
    {
     "name": "stdout",
     "output_type": "stream",
     "text": [
      "100 squared = 10000\n",
      "101 squared = 10201\n",
      "102 squared = 10404\n",
      "103 squared = 10609\n",
      "104 squared = 10816\n",
      "105 squared = 11025\n",
      "106 squared = 11236\n",
      "107 squared = 11449\n",
      "108 squared = 11664\n",
      "109 squared = 11881\n"
     ]
    }
   ],
   "source": [
    "for i in range(100, 110, 1):\n",
    "  print(f\"{i} squared = {i * i}\")"
   ]
  },
  {
   "attachments": {},
   "cell_type": "markdown",
   "metadata": {},
   "source": [
    "# Christmas Bonus\n",
    "\n",
    "A local company is gearing up to send out Christmas bonuses to their employees. They are trying to figure out how much money it will cost the company to give out bonuses to each employee. They don't want another [jelly of the month](https://www.youtube.com/watch?v=1K8-kNuDgoA) situation...\n",
    "\n",
    "The bonus an employee receives varies depending on their position.\n",
    "\n",
    "- C-level executives will receive a $2,000 bonus\n",
    "- Managers will receive a $1,000 bonus\n",
    "- All other employees will receive a $500 bonus\n",
    "\n",
    "## Challenge\n",
    "\n",
    "There are `number_of_employees` employees, whose IDs are simply the numbers from `0` to `number_of_employees - 1`. Loop over each employee id and:\n",
    "\n",
    "- If the employee is a C-Level Executive add the `c_level_bonus` to the `dollars_needed`.\n",
    "- If the employee is a manager add the `manager_bonus` to the `dollars_needed`.\n",
    "- Otherwise, add the `standard_bonus` to the `dollars_needed`.\n",
    "\n",
    "Use the variables given as necessary.\n"
   ]
  },
  {
   "cell_type": "code",
   "execution_count": 22,
   "metadata": {},
   "outputs": [
    {
     "name": "stdout",
     "output_type": "stream",
     "text": [
      "55500 dollars are needed to fulfill all bonuses\n"
     ]
    }
   ],
   "source": [
    "number_of_employees = 102\n",
    "\n",
    "c_level_bonus = 2000\n",
    "manager_bonus = 1000\n",
    "standard_bonus = 500\n",
    "\n",
    "# C Level Executives\n",
    "sarah_id = 1\n",
    "mary_id = 2\n",
    "\n",
    "# Managers\n",
    "john_id = 6\n",
    "bob_id = 44\n",
    "joe_id = 18\n",
    "\n",
    "dollars_needed = 0\n",
    "\n",
    "# Don't touch above this line\n",
    "\n",
    "execs = [sarah_id, mary_id]\n",
    "managers = [john_id, bob_id, joe_id]\n",
    "\n",
    "\n",
    "for i in range(0, number_of_employees):\n",
    "  if i in execs:\n",
    "    dollars_needed += c_level_bonus\n",
    "  elif i in managers:\n",
    "    dollars_needed += manager_bonus\n",
    "  else:\n",
    "    dollars_needed += standard_bonus\n",
    "\n",
    "# Don't touch below this line\n",
    "\n",
    "print(f\"{dollars_needed} dollars are needed to fulfill all bonuses\")\n"
   ]
  }
 ],
 "metadata": {
  "kernelspec": {
   "display_name": "Python 3.9.6 64-bit",
   "language": "python",
   "name": "python3"
  },
  "language_info": {
   "codemirror_mode": {
    "name": "ipython",
    "version": 3
   },
   "file_extension": ".py",
   "mimetype": "text/x-python",
   "name": "python",
   "nbconvert_exporter": "python",
   "pygments_lexer": "ipython3",
   "version": "3.9.6"
  },
  "orig_nbformat": 4,
  "vscode": {
   "interpreter": {
    "hash": "31f2aee4e71d21fbe5cf8b01ff0e069b9275f58929596ceb00d14d90e3e16cd6"
   }
  }
 },
 "nbformat": 4,
 "nbformat_minor": 2
}
