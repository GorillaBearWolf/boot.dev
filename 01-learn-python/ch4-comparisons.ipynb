{
 "cells": [
  {
   "cell_type": "code",
   "execution_count": null,
   "metadata": {},
   "outputs": [],
   "source": [
    "print(5 < 6)\n",
    "print(5 != 6)\n",
    "print(5 == 5)\n",
    "print(6 >= 6)\n"
   ]
  },
  {
   "cell_type": "code",
   "execution_count": null,
   "metadata": {},
   "outputs": [],
   "source": [
    "elon_height = 5\n",
    "sara_height = 10\n",
    "jill_height = 7\n",
    "bob_height = 6\n",
    "\n",
    "# don't edit above this line\n",
    "\n",
    "bobTallerThanElon = bob_height > elon_height\n",
    "saraTallerThanElon = sara_height > elon_height\n",
    "jillTallerThanSara = jill_height > sara_height\n",
    "\n",
    "# don't edit below this line\n",
    "\n",
    "print(type(bobTallerThanElon))\n",
    "print(bobTallerThanElon)\n",
    "print(type(saraTallerThanElon))\n",
    "print(saraTallerThanElon)\n",
    "print(type(jillTallerThanSara))\n",
    "print(jillTallerThanSara)\n"
   ]
  },
  {
   "cell_type": "code",
   "execution_count": null,
   "metadata": {},
   "outputs": [],
   "source": [
    "hero_armor = 175\n",
    "enemy_damage = 250\n",
    "\n",
    "# Don't touch above this line\n",
    "\n",
    "enough_armor = hero_armor >= enemy_damage\n",
    "\n",
    "# Don't touch below this line\n",
    "\n",
    "print(\"Your armor can withstand the enemies blows:\", enough_armor)\n"
   ]
  },
  {
   "cell_type": "code",
   "execution_count": null,
   "metadata": {},
   "outputs": [],
   "source": [
    "shield_armor = 5\n",
    "\n",
    "print(\"shield_armor was: \" + str(shield_armor))\n",
    "\n",
    "# Don't touch above this line\n",
    "\n",
    "shield_armor -= 3\n",
    "\n",
    "# Don't touch below this line\n",
    "\n",
    "print(\"shield_armor is: \" + str(shield_armor))\n"
   ]
  },
  {
   "cell_type": "code",
   "execution_count": null,
   "metadata": {},
   "outputs": [],
   "source": [
    "player_health = 0\n",
    "\n",
    "# Don't edit below this line\n",
    "\n",
    "if player_health == 0:\n",
    "    print(\"dead!\")\n",
    "\n",
    "if player_health > 0:\n",
    "    print(\"alive!\")\n"
   ]
  },
  {
   "cell_type": "code",
   "execution_count": null,
   "metadata": {},
   "outputs": [],
   "source": [
    "number_of_swords = 500\n",
    "number_of_soldiers = 1000\n",
    "\n",
    "## Don't touch above this line\n",
    "\n",
    "if number_of_swords < number_of_soldiers:\n",
    "    print(\"We do not have enough swords for the army!\")\n"
   ]
  },
  {
   "cell_type": "code",
   "execution_count": null,
   "metadata": {},
   "outputs": [],
   "source": [
    "player_health = 4\n",
    "\n",
    "## Don't touch above this line\n",
    "\n",
    "if player_health == 0:\n",
    "    print(\"dead\")\n",
    "elif player_health < 5:\n",
    "    print(\"injured\")\n",
    "else:\n",
    "    print(\"alive\")\n"
   ]
  },
  {
   "cell_type": "code",
   "execution_count": null,
   "metadata": {},
   "outputs": [],
   "source": [
    "current_player_name = \"ash ketchum\"\n",
    "high_scoring_player_name = \"ash ketchum\"\n",
    "\n",
    "# Don't touch above this line\n",
    "\n",
    "if current_player_name == high_scoring_player_name:\n",
    "    print(\"You are the highest scoring player!\")\n",
    "else:\n",
    "    print(\"You are not the highest scoring player\")\n"
   ]
  },
  {
   "cell_type": "code",
   "execution_count": null,
   "metadata": {},
   "outputs": [],
   "source": [
    "current_player_name = \"brock harrison\"\n",
    "high_scoring_player_name = \"ash ketchum\"\n",
    "lowest_scoring_player_name = \"brock harrison\"\n",
    "\n",
    "# Don't touch above this line\n",
    "\n",
    "if current_player_name == high_scoring_player_name:\n",
    "    print(\"You are the highest scoring player!\")\n",
    "elif current_player_name == lowest_scoring_player_name:\n",
    "    print(\"You are the lowest scoring player!\")\n"
   ]
  }
 ],
 "metadata": {
  "kernelspec": {
   "display_name": "Python 3.9.6 64-bit",
   "language": "python",
   "name": "python3"
  },
  "language_info": {
   "codemirror_mode": {
    "name": "ipython",
    "version": 3
   },
   "file_extension": ".py",
   "mimetype": "text/x-python",
   "name": "python",
   "nbconvert_exporter": "python",
   "pygments_lexer": "ipython3",
   "version": "3.9.6"
  },
  "orig_nbformat": 4,
  "vscode": {
   "interpreter": {
    "hash": "31f2aee4e71d21fbe5cf8b01ff0e069b9275f58929596ceb00d14d90e3e16cd6"
   }
  }
 },
 "nbformat": 4,
 "nbformat_minor": 2
}
