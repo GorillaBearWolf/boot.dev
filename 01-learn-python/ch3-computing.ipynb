{
 "cells": [
  {
   "cell_type": "code",
   "execution_count": null,
   "metadata": {},
   "outputs": [],
   "source": [
    "sword_damage = 3\n",
    "arrow_damage = 5\n",
    "spear_damage = 2\n",
    "dagger_damage = 1\n",
    "fire_damage = 4\n",
    "\n",
    "# don't touch above this line\n",
    "\n",
    "total_damage = sword_damage + arrow_damage + spear_damage + dagger_damage + fire_damage\n",
    "average_damage = total_damage / 5\n",
    "\n",
    "# don't touch below this line\n",
    "\n",
    "print(f\"total damage is: {total_damage}\")\n",
    "print(f\"average damage is: {average_damage}\")\n"
   ]
  },
  {
   "cell_type": "code",
   "execution_count": null,
   "metadata": {},
   "outputs": [],
   "source": [
    "player_score = 3_242_439\n",
    "\n",
    "# Don't touch above this line\n",
    "\n",
    "player_score = player_score + 234_340\n",
    "\n",
    "# Don't touch below this line\n",
    "\n",
    "print(\"player_score is: \" + str(player_score))\n"
   ]
  },
  {
   "cell_type": "code",
   "execution_count": null,
   "metadata": {},
   "outputs": [],
   "source": [
    "player_health = 156\n",
    "\n",
    "# don't touch above this line\n",
    "\n",
    "player_health += 10\n",
    "\n",
    "# don't touch below this line\n",
    "\n",
    "print(player_health)\n"
   ]
  },
  {
   "cell_type": "code",
   "execution_count": null,
   "metadata": {},
   "outputs": [],
   "source": [
    "max_number_of_players = 1.024e18\n",
    "\n",
    "# don't touch below this line\n",
    "\n",
    "print(f\"Maximum players on a Fantasy Quest server: {max_number_of_players}\")\n"
   ]
  },
  {
   "cell_type": "code",
   "execution_count": null,
   "metadata": {},
   "outputs": [],
   "source": [
    "user_permissions = 0b0110\n",
    "\n",
    "# DON'T EDIT BELOW THIS LINE\n",
    "\n",
    "can_create_guild = 0b1000\n",
    "can_review_guild = 0b0100\n",
    "can_delete_guild = 0b0010\n",
    "can_edit_guild = 0b0001\n",
    "\n",
    "user_can_create_guild = user_permissions & can_create_guild == can_create_guild\n",
    "user_can_review_guild = user_permissions & can_review_guild == can_review_guild\n",
    "user_can_delete_guild = user_permissions & can_delete_guild == can_delete_guild\n",
    "user_can_edit_guild = user_permissions & can_edit_guild == can_edit_guild\n",
    "\n",
    "print(f\"user_can_create_guild: {user_can_create_guild}\")\n",
    "print(f\"user_can_review_guild: {user_can_review_guild}\")\n",
    "print(f\"user_can_delete_guild: {user_can_delete_guild}\")\n",
    "print(f\"user_can_edit_guild: {user_can_edit_guild}\")\n"
   ]
  },
  {
   "cell_type": "code",
   "execution_count": null,
   "metadata": {},
   "outputs": [],
   "source": [
    "glorfindel_perms = 0b0001\n",
    "galadriel_perms = 0b0010\n",
    "elendil_perms = 0b0001\n",
    "elrond_perms = 0b1011\n",
    "\n",
    "can_create_guild = 0b1000\n",
    "can_review_guild = 0b0100\n",
    "can_delete_guild = 0b0010\n",
    "can_edit_guild = 0b0001\n",
    "\n",
    "# DON'T EDIT ABOVE THIS LINE\n",
    "\n",
    "party_perms = glorfindel_perms | galadriel_perms | elendil_perms | elrond_perms\n",
    "\n",
    "# DON'T EDIT BELOW THIS LINE\n",
    "\n",
    "party_can_create_guild = party_perms & can_create_guild == can_create_guild\n",
    "party_can_review_guild = party_perms & can_review_guild == can_review_guild\n",
    "party_can_delete_guild = party_perms & can_delete_guild == can_delete_guild\n",
    "party_can_edit_guild = party_perms & can_edit_guild == can_edit_guild\n",
    "\n",
    "print(f\"party_perms: 0b{party_perms:b}\")\n",
    "print(f\"party_can_create_guild: {party_can_create_guild}\")\n",
    "print(f\"party_can_review_guild: {party_can_review_guild}\")\n",
    "print(f\"party_can_delete_guild: {party_can_delete_guild}\")\n",
    "print(f\"party_can_edit_guild: {party_can_edit_guild}\")\n"
   ]
  },
  {
   "cell_type": "code",
   "execution_count": null,
   "metadata": {},
   "outputs": [],
   "source": [
    "num_fruit_bats = 8_000_000\n",
    "num_male_bats = 3_000_000\n",
    "\n",
    "# don't touch below this line\n",
    "\n",
    "ratio = num_male_bats / num_fruit_bats\n",
    "print(f\"{ratio * 100}% of fruit bats are male\")\n"
   ]
  },
  {
   "cell_type": "code",
   "execution_count": null,
   "metadata": {},
   "outputs": [],
   "source": [
    "user_permissions = 0b1010\n",
    "\n",
    "read_posts_perm = 0b1000\n",
    "edit_posts_perm = 0b0100\n",
    "delete_posts_perm = 0b0010\n",
    "create_posts_perm = 0b0001\n",
    "\n",
    "# Don't touch above this line\n",
    "\n",
    "can_read_posts = True\n",
    "can_edit_posts = False\n",
    "can_delete_posts = True\n",
    "can_create_posts = False\n",
    "\n",
    "# Don't touch below this line\n",
    "\n",
    "print(f\"The user can read posts: {can_read_posts}\")\n",
    "print(f\"The user can edit posts: {can_edit_posts}\")\n",
    "print(f\"The user can delete posts: {can_delete_posts}\")\n",
    "print(f\"The user can create posts: {can_create_posts}\")\n"
   ]
  },
  {
   "cell_type": "code",
   "execution_count": null,
   "metadata": {},
   "outputs": [],
   "source": [
    "num_heads = \"0001\"\n",
    "num_arms = \"0010\"\n",
    "num_fingers = \"1010\"\n",
    "\n",
    "# Don't touch below this line\n",
    "\n",
    "print(f\"Humans typically have {int(num_heads, 2)} head(s)\")\n",
    "print(f\"Humans typically have {int(num_arms, 2)} arms\")\n",
    "print(f\"Humans typically have {int(num_fingers, 2)} fingers\")\n"
   ]
  }
 ],
 "metadata": {
  "kernelspec": {
   "display_name": "Python 3.9.6 64-bit",
   "language": "python",
   "name": "python3"
  },
  "language_info": {
   "codemirror_mode": {
    "name": "ipython",
    "version": 3
   },
   "file_extension": ".py",
   "mimetype": "text/x-python",
   "name": "python",
   "nbconvert_exporter": "python",
   "pygments_lexer": "ipython3",
   "version": "3.11.3"
  },
  "orig_nbformat": 4,
  "vscode": {
   "interpreter": {
    "hash": "31f2aee4e71d21fbe5cf8b01ff0e069b9275f58929596ceb00d14d90e3e16cd6"
   }
  }
 },
 "nbformat": 4,
 "nbformat_minor": 2
}
