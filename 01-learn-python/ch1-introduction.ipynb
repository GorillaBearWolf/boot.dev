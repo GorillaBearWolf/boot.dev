{
 "cells": [
  {
   "cell_type": "code",
   "execution_count": null,
   "metadata": {},
   "outputs": [],
   "source": [
    "print(\"Enter a username\")\n"
   ]
  },
  {
   "cell_type": "code",
   "execution_count": null,
   "metadata": {},
   "outputs": [],
   "source": [
    "sword_damage = 10\n",
    "player_health = 100\n",
    "health_after_attack = player_health - sword_damage\n",
    "\n",
    "# Don't touch below this line\n",
    "print(f\"Lollilfred's health is: {player_health}\")\n",
    "print(f\"Lollilfred is hit by a sword for {sword_damage} damage...\")\n",
    "print(f\"Lollilfred's health is now: {health_after_attack}\")"
   ]
  },
  {
   "cell_type": "code",
   "execution_count": null,
   "metadata": {},
   "outputs": [],
   "source": [
    "print(\"Press the spacebar\")"
   ]
  },
  {
   "cell_type": "code",
   "execution_count": null,
   "metadata": {},
   "outputs": [],
   "source": [
    "print(250+75)"
   ]
  },
  {
   "cell_type": "code",
   "execution_count": null,
   "metadata": {},
   "outputs": [],
   "source": [
    "print(\"Jax: B-Kaw!\")\n",
    "print(\"Hero: ...\")\n",
    "print(\"Jax: Where are you off to this morning? Bkaw...\")\n",
    "print(\"Hero: Where did an owl learn to speak??\")\n"
   ]
  },
  {
   "cell_type": "code",
   "execution_count": null,
   "metadata": {},
   "outputs": [],
   "source": [
    "# Print(\"Welcome to Fantasy Quest!\")\n",
    "\n",
    "print(\"Welcome to Fantasy Quest!\")\n"
   ]
  },
  {
   "cell_type": "code",
   "execution_count": null,
   "metadata": {},
   "outputs": [],
   "source": [
    "print(\"Starting up server...\")\n",
    "print(\"local server is listening on port 8080\")\n"
   ]
  },
  {
   "cell_type": "code",
   "execution_count": null,
   "metadata": {},
   "outputs": [],
   "source": [
    "print((250 + 241 + 244 + 255) / 4)\n"
   ]
  },
  {
   "cell_type": "code",
   "execution_count": null,
   "metadata": {},
   "outputs": [],
   "source": [
    "items_in_cart = 5\n",
    "cost_of_each_item = 2.50\n",
    "total_cost = items_in_cart * cost_of_each_item\n",
    "\n",
    "# Don't Touch Above This line\n",
    "\n",
    "print (\"Thank you for shopping at Bootmart!\")\n",
    "print (\"Your total today was:\")\n",
    "\n",
    "# Don't Touch Below This Line\n",
    "\n",
    "print(f\"${total_cost:.2f}\")\n"
   ]
  }
 ],
 "metadata": {
  "kernelspec": {
   "display_name": "Python 3.9.6 64-bit",
   "language": "python",
   "name": "python3"
  },
  "language_info": {
   "codemirror_mode": {
    "name": "ipython",
    "version": 3
   },
   "file_extension": ".py",
   "mimetype": "text/x-python",
   "name": "python",
   "nbconvert_exporter": "python",
   "pygments_lexer": "ipython3",
   "version": "3.11.4"
  },
  "orig_nbformat": 4,
  "vscode": {
   "interpreter": {
    "hash": "31f2aee4e71d21fbe5cf8b01ff0e069b9275f58929596ceb00d14d90e3e16cd6"
   }
  }
 },
 "nbformat": 4,
 "nbformat_minor": 2
}
