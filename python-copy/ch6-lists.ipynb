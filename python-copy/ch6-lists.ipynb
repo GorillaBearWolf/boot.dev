{
 "cells": [
  {
   "cell_type": "code",
   "execution_count": null,
   "metadata": {},
   "outputs": [],
   "source": [
    "inventory = [\"Healing Potion\", \"Leather Scraps\", \"Iron Helmet\", \"Bread\", \"Shortsword\"]\n",
    "\n",
    "# Don't touch below this line\n",
    "\n",
    "print(inventory)\n"
   ]
  },
  {
   "cell_type": "code",
   "execution_count": null,
   "metadata": {},
   "outputs": [],
   "source": [
    "inventory = [\"Healing Potion\", \"Leather Scraps\", \"Iron Helmet\", \"Bread\", \"Shortsword\"]\n",
    "\n",
    "item_index = 1\n",
    "\n",
    "# don't edit below this line\n",
    "\n",
    "item = inventory[item_index]\n",
    "\n",
    "print(f\"inventory: {inventory}\")\n",
    "print(f\"index: {item_index}\")\n",
    "print(f\"item: {inventory[item_index]}\")\n"
   ]
  },
  {
   "cell_type": "code",
   "execution_count": null,
   "metadata": {},
   "outputs": [],
   "source": [
    "inventory = [ \"Potion\", \"Iron Breastplate\", \"Leather Scraps\", \"Iron Ore\", \"Light Leather\", \"Bread\", \"Shortsword\", \"Longsword\", \"Iron Mace\", \"Gold Ore\", \"Healing Potion\", \"Silk Cloth\", \"Leather Armor Kit\", \"Iron Boots\", \"Iron Bar\", \"Potion\", \"Iron Breastplate\", \"Leather Scraps\", \"Iron Ore\", \"Light Leather\", \"Bread\", \"Shortsword\", \"Longsword\", \"Iron Mace\", \"Gold Ore\", \"Healing Potion\", \"Silk Cloth\", \"Leather Armor Kit\", \"Iron Boots\", \"Iron Bar\", \"Iron Mace\", \"Gold Ore\", \"Healing Potion\", \"Silk Cloth\", \"Leather Armor Kit\", \"Iron Boots\", \"Iron Bar\", \"Potion\", \"Iron Breastplate\", \"Leather Scraps\", \"Iron Ore\", \"Light Leather\", \"Potion\", \"Iron Breastplate\", \"Leather Scraps\", \"Iron Ore\", \"Light Leather\", \"Bread\", \"Shortsword\", \"Longsword\", \"Iron Mace\", \"Gold Ore\", \"Healing Potion\", \"Silk Cloth\", \"Leather Armor Kit\", \"Iron Boots\", \"Iron Bar\" ]\n",
    "\n",
    "last_index = len(inventory) - 1\n",
    "\n",
    "# don't edit below this line\n",
    "\n",
    "last_item = inventory[last_index]\n",
    "\n",
    "print(f\"last_index: {last_index}\")\n",
    "print(f\"last_item: {last_item}\")\n"
   ]
  },
  {
   "cell_type": "code",
   "execution_count": null,
   "metadata": {},
   "outputs": [],
   "source": [
    "inventory = [\"Healing Potion\", \"Iron Ore\", \"Bread\", \"Shortsword\"]\n",
    "print(inventory)\n",
    "\n",
    "# don't touch above this line\n",
    "\n",
    "inventory[1] = \"Iron Bar\"\n",
    "\n",
    "# don't touch below this line\n",
    "\n",
    "print(inventory)\n"
   ]
  },
  {
   "cell_type": "code",
   "execution_count": null,
   "metadata": {},
   "outputs": [],
   "source": [
    "player_ids = []\n",
    "\n",
    "for i in range(0, 100):\n",
    "    player_ids.append(i)\n",
    "\n",
    "print(player_ids)\n"
   ]
  },
  {
   "cell_type": "code",
   "execution_count": null,
   "metadata": {},
   "outputs": [],
   "source": [
    "inventory = [\n",
    "    \"Healing Potion\",\n",
    "    \"Iron Bar\",\n",
    "    \"Kite Shield\",\n",
    "    \"Shortsword\",\n",
    "    \"Leather Scraps\",\n",
    "    \"Tattered Cloth\",\n",
    "]\n",
    "print(f\"inventory: {inventory}\")\n",
    "\n",
    "# don't touch above this line\n",
    "\n",
    "for i in range(0, len(inventory)):\n",
    "    item = inventory.pop()\n",
    "\n",
    "    # don't touch below this line\n",
    "    print(f\"Selling: {item}\")\n",
    "    print(f\"inventory: {inventory}\")\n"
   ]
  },
  {
   "cell_type": "code",
   "execution_count": null,
   "metadata": {},
   "outputs": [],
   "source": [
    "items = [ \"Potion\", \"Iron Breastplate\", \"Leather Scraps\", \"Iron Ore\", \"Light Leather\", \"Bread\", \"Shortsword\", \"Longsword\", \"Iron Mace\", \"Gold Ore\", \"Bread\", \"Silk Cloth\", \"Bread\",  \"Leather Armor Kit\", \"Bread\", \"Iron Boots\", \"Iron Bar\", \"Potion\", \"Iron Breastplate\", \"Leather Scraps\", \"Iron Ore\", \"Light Leather\", \"Bread\", \"Shortsword\", \"Longsword\", \"Iron Mace\", \"Gold Ore\", \"Silk Cloth\", \"Leather Armor Kit\", \"Iron Boots\", \"Iron Bar\", \"Iron Mace\", \"Gold Ore\", \"Potion\", \"Silk Cloth\", \"Leather Armor Kit\", \"Iron Boots\", \"Iron Bar\", \"Potion\", \"Iron Breastplate\", \"Leather Scraps\", \"Iron Ore\", \"Light Leather\", \"Potion\", \"Iron Breastplate\", \"Leather Scraps\", \"Iron Ore\", \"Light Leather\", \"Bread\", \"Shortsword\", \"Longsword\", \"Iron Mace\", \"Gold Ore\", \"Silk Cloth\", \"Leather Armor Kit\", \"Iron Boots\", \"Iron Bar\" ]\n",
    "\n",
    "potion_count = 0\n",
    "bread_count = 0\n",
    "shortsword_count = 0\n",
    "\n",
    "# don't touch above this line\n",
    "\n",
    "for i in range(0, len(items)):\n",
    "    potion_count = items.count(\"Potion\")\n",
    "    bread_count = items.count(\"Bread\")\n",
    "    shortsword_count = items.count(\"Shortsword\")\n",
    "\n",
    "# don't touch below this line\n",
    "\n",
    "print(f\"You have {potion_count} potions in your inventory.\")\n",
    "print(f\"You have {bread_count} pieces of bread in your inventory.\")\n",
    "print(f\"You have {shortsword_count} shortswords in your inventory.\")\n"
   ]
  },
  {
   "cell_type": "code",
   "execution_count": null,
   "metadata": {},
   "outputs": [],
   "source": [
    "inventory = [\"Potion\", \"Healing Potion\", \"Iron Breastplate\", \"Leather Scraps\"]\n",
    "\n",
    "# don't touch above this line\n",
    "\n",
    "found = False\n",
    "\n",
    "for item in inventory:\n",
    "    if item == \"Leather Scraps\":\n",
    "        found = True\n",
    "        break\n",
    "\n",
    "# don't touch below this line\n",
    "\n",
    "if found:\n",
    "    print(\"Found the leather scraps!\")\n",
    "else:\n",
    "    print(\"Couldn't find the leather scraps!\")\n"
   ]
  },
  {
   "cell_type": "code",
   "execution_count": null,
   "metadata": {},
   "outputs": [],
   "source": [
    "old_character_levels = [ 6, 4, 3, 7, 7, 7, 2, 7, 2, 6, 5, 1, 2, 4, 6, 6, 1, 4, 4, 1, 1, 5, 4, 3, 2, 0, 5, 5, 6, 1, 6, 2, 1, 2, 3, 1, 7, 7, 2, 0, 0, 6, 2, 6, 8, 5, 3, 1, 6, 3, 0, 5, 1, 3, 3, 0, 2, 8, 3, 0, 3, 5, 7, 3, 1, 4, 5, 0, 0, 1, 7, 0, 6, 1, 0, 2, 0, 0, 8, 6, 0, 0, 1, 4, 0, 7, 8, 2, 7, 8, 7, 4, 8, 6, 0, 3, 1, 4, 6, 4, 2, 2, 5, 8, 1, 5, 1, 8, 0, 6, 6, 3, 0, 2, 4, 7, 0, 6, 7, 6, 3, 1, 1, 5, 2 ]\n",
    "new_character_levels = [ 6, 4, 3, 7, 7, 7, 2, 7, 2, 6, 5, 1, 2, 4, 5, 6, 1, 4, 4, 1, 1, 5, 4, 3, 2, 1, 2, 5, 6, 1, 6, 2, 1, 2, 3, 1, 7, 7, 2, 0, 0, 6, 2, 6, 8, 5, 3, 1, 6, 3, 0, 5, 1, 3, 3, 0, 2, 8, 3, 0, 3, 5, 7, 3, 1, 4, 5, 0, 0, 1, 7, 0, 6, 1, 0, 2, 0, 0, 8, 6, 0, 0, 1, 4, 0, 7, 8, 2, 7, 8, 7, 4, 9, 6, 0, 3, 3, 4, 6, 4, 2, 2, 5, 8, 1, 5, 1, 8, 0, 6, 6, 3, 0, 2, 4, 7, 0, 6, 7, 6, 3, 1, 8, 5, 2 ]\n",
    "\n",
    "# don't touch above this line\n",
    "\n",
    "for i in range(0, len(old_character_levels)):\n",
    "  if old_character_levels[i] != new_character_levels[i]:\n",
    "    print(i)\n"
   ]
  },
  {
   "cell_type": "code",
   "execution_count": null,
   "metadata": {},
   "outputs": [],
   "source": [
    "odd_numbers = []\n",
    "\n",
    "# don't touch above this line\n",
    "\n",
    "for i in range(0, 300):\n",
    "    if i % 2 != 0:\n",
    "      odd_numbers.append(i)\n",
    "\n",
    "# don't touch below this line\n",
    "\n",
    "print(odd_numbers)\n"
   ]
  },
  {
   "cell_type": "code",
   "execution_count": null,
   "metadata": {},
   "outputs": [],
   "source": [
    "champions = [\n",
    "    \"Thrundar\",\n",
    "    \"Morgate\",\n",
    "    \"Gandolfo\",\n",
    "    \"Thraine\",\n",
    "    \"Norwad\",\n",
    "    \"Gilforn\",\n",
    "]\n",
    "\n",
    "# don't touch above this line\n",
    "\n",
    "print(champions[2:])\n",
    "print(champions[:4:])\n",
    "print(champions[::2])\n"
   ]
  },
  {
   "cell_type": "code",
   "execution_count": null,
   "metadata": {},
   "outputs": [],
   "source": [
    "johns_favorites = [\"sword\", \"shield\"]\n",
    "jacks_favorites = [\"potion\", \"hat\"]\n",
    "breannas_favorites = [\"feather\", \"lance\"]\n",
    "\n",
    "# Don't touch above this line\n",
    "\n",
    "total = johns_favorites + jacks_favorites + breannas_favorites\n",
    "print(len(total))\n",
    "print(total)"
   ]
  },
  {
   "cell_type": "code",
   "execution_count": null,
   "metadata": {},
   "outputs": [],
   "source": [
    "top_weapons = [\n",
    "    \"sword of justice\",\n",
    "    \"sword of slashing\",\n",
    "    \"stabby daggy\",\n",
    "    \"great axe\",\n",
    "    \"silver bow\",\n",
    "    \"spellbook\",\n",
    "    \"spiked knuckles\",\n",
    "]\n",
    "\n",
    "# don't touch above this line\n",
    "\n",
    "print(f\"sword of justice is a top weapon: {'sword of justice' in top_weapons}\")\n",
    "print(f\"great axe is a top weapon: {'great axe' in top_weapons}\")\n",
    "print(f\"silver bow is a top weapon: {'silver bow' in top_weapons}\")\n"
   ]
  },
  {
   "cell_type": "code",
   "execution_count": null,
   "metadata": {},
   "outputs": [],
   "source": [
    "strongholds = [\n",
    "    \"Rivendale\",\n",
    "    \"The Morgoth Mountains\",\n",
    "    \"The Lonely Island\",\n",
    "    \"Mordia\",\n",
    "    \"Mordane\",\n",
    "    \"Gondolin\",\n",
    "]\n",
    "\n",
    "# Don't touch above this line\n",
    "\n",
    "del strongholds[0]\n",
    "print(strongholds)\n",
    "del strongholds[3:]\n",
    "print(strongholds)\n"
   ]
  },
  {
   "cell_type": "code",
   "execution_count": null,
   "metadata": {},
   "outputs": [],
   "source": [
    "heroes = (\n",
    "    [\"Glorfindel\",2093,True],\n",
    "    [\"Gandalf\",1054,False],\n",
    "    [\"Gimli\",389,False],\n",
    "    [\"Aragorn\",87,False]\n",
    ")\n",
    "\n",
    "# Don't touch below this line\n",
    "\n",
    "for hero in heroes:\n",
    "    print(f\"name: {hero[0]}, age: {hero[1]}, is_elf: {hero[2]}\")\n"
   ]
  },
  {
   "cell_type": "code",
   "execution_count": null,
   "metadata": {},
   "outputs": [],
   "source": [
    "numbers = [0, 99, 2, 33, 4, 604, 61, 44, 9, 10, 12, 13, 1409, 155, 16, 9125, 18, 19, 20213, 281, 209, 123, 768, 621, 29, 81, 755, 242, 982, 61, 1, 240, 1235, 890, 12348, 10, 13612, 721, 3, 22, 35, 9082, 1234]\n",
    "num_evens = 0\n",
    "num_odds = 0\n",
    "\n",
    "# Don't touch above this line\n",
    "\n",
    "for number in numbers:\n",
    "  if number % 2 == 0:\n",
    "    num_evens += 1\n",
    "  else:\n",
    "    num_odds += 1\n",
    "\n",
    "# Don't touch below this line\n",
    "\n",
    "print(f\"There are {num_evens} even numbers and {num_odds} odd numbers.\")\n"
   ]
  },
  {
   "cell_type": "code",
   "execution_count": null,
   "metadata": {},
   "outputs": [],
   "source": [
    "players = [\"Harry\", \"Hermione\", \"Ron\", \"Ginny\", \"Fred\", \"Neville\", \"Draco\", \"Luna\", \"Cho\", \"Gregory\", \"Lee\", \"Michael\", \"Lavender\", \"Parvati\", \"Padma\", \"Colin\", \"Dennis\", \"George\", \"Allan\", \"John\", \"Hunter\", \"Angelina\", \"Lee\", \"Katie\", \"Susan\", \"Alicia\", \"Frank\", \"Anthony\"]\n",
    "\n",
    "# Don't touch above this line\n",
    "\n",
    "red_team = players[::2]\n",
    "blue_team = players[1::2]\n",
    "\n",
    "# Don't touch below this line\n",
    "\n",
    "print(f\"Red team has {len(red_team)} players\")\n",
    "print(f\"Blue team has {len(blue_team)} players\")\n"
   ]
  },
  {
   "cell_type": "code",
   "execution_count": null,
   "metadata": {},
   "outputs": [],
   "source": [
    "answer_sheet = [\"A\", \"A\", \"C\", \"D\", \"D\", \"B\", \"C\", \"A\", \"C\", \"B\", \"A\", \"D\", \"C\", \"B\", \"D\", \"C\", \"B\", \"A\", \"D\", \"A\"]\n",
    "student_answers = [\"A\", \"B\", \"C\", \"A\", \"D\", \"B\", \"C\", \"A\", \"C\", \"B\", \"A\", \"A\", \"C\", \"B\", \"D\", \"C\", \"B\", \"A\", \"D\", \"A\"]\n",
    "\n",
    "# Don't touch above this line\n",
    "correct = []\n",
    "\n",
    "for i in range(0, len(answer_sheet)):\n",
    "  if answer_sheet[i] == student_answers[i]:\n",
    "    correct.append(i)\n",
    "\n",
    "percentage = (len(correct) / len(answer_sheet)) * 100\n",
    "\n",
    "# Don't touch below this line\n",
    "\n",
    "print(f\"The student answered correctly on {percentage}% of the questions\")\n"
   ]
  }
 ],
 "metadata": {
  "kernelspec": {
   "display_name": "Python 3.9.6 64-bit",
   "language": "python",
   "name": "python3"
  },
  "language_info": {
   "codemirror_mode": {
    "name": "ipython",
    "version": 3
   },
   "file_extension": ".py",
   "mimetype": "text/x-python",
   "name": "python",
   "nbconvert_exporter": "python",
   "pygments_lexer": "ipython3",
   "version": "3.11.3"
  },
  "orig_nbformat": 4,
  "vscode": {
   "interpreter": {
    "hash": "31f2aee4e71d21fbe5cf8b01ff0e069b9275f58929596ceb00d14d90e3e16cd6"
   }
  }
 },
 "nbformat": 4,
 "nbformat_minor": 2
}
