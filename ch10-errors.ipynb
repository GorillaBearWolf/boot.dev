{
 "cells": [
  {
   "attachments": {},
   "cell_type": "markdown",
   "metadata": {},
   "source": [
    "# Errors and exceptions in Python\n",
    "\n",
    "You've probably encountered some errors in your code from time to time if you've gotten this far in the course. In Python, there are two main kinds of distinguishable errors.\n",
    "\n",
    "- syntax errors\n",
    "- exceptions\n",
    "\n",
    "## Syntax errors\n",
    "\n",
    "You probably know what these are by now. A syntax error is just the Python interpreter telling you that your code isn't adhering to proper Python syntax.\n",
    "\n",
    "> ```py\n",
    "> this is not valid code, so it will error\n",
    "> ```\n",
    "\n",
    "If I try to run that sentence as if it were valid code I'll get a syntax error:\n",
    "\n",
    "> ```py\n",
    "> this is not valid code, so it will error\n",
    ">       ^\n",
    "> SyntaxError: invalid syntax\n",
    "> ```\n",
    "\n",
    "## Exceptions\n",
    "\n",
    "Even if your code has the right syntax however, it may still cause an error when an attempt is made to execute it. Errors detected during execution are called \"exceptions\" and can be handled gracefully by your code. You can even raise your own exceptions when bad things happen in your code.\n",
    "\n",
    "Python uses a try-except pattern for handling errors.\n",
    "\n",
    "> ```py\n",
    "> try:\n",
    ">   10 / 0\n",
    "> except Exception as e:\n",
    ">   print(e)\n",
    "> \n",
    "> # prints \"division by zero\"\n",
    "> ```\n",
    "\n",
    "The `try` block is executed until an exception is raised or it completes, whichever happens first. In this case, a \"divide by zero\" error is raised because division by zero is impossible. The `except` block is only executed if an exception is raised in the `try` block. It then exposes the exception as data (`e` in our case) so that the program can handle the exception gracefully without crashing.\n",
    "\n",
    "### Assignment\n",
    "\n",
    "One of the calls to `get_player_record` is throwing a `player id not found` exception. Change the code to safely make each call within a try-except block. If an exception is raised, print only the exception.\n"
   ]
  },
  {
   "cell_type": "code",
   "execution_count": 1,
   "metadata": {},
   "outputs": [
    {
     "name": "stdout",
     "output_type": "stream",
     "text": [
      "{'name': 'Slayer', 'level': 128}\n",
      "{'name': 'Dorgoth', 'level': 300}\n",
      "{'name': 'Saruman', 'level': 4000}\n",
      "player id not found\n"
     ]
    }
   ],
   "source": [
    "def main():\n",
    "    try:\n",
    "        print(get_player_record(1))\n",
    "        print(get_player_record(2))\n",
    "        print(get_player_record(3))\n",
    "        print(get_player_record(4))\n",
    "    except Exception as e:\n",
    "        print(f\"{e}\")\n",
    "\n",
    "# Don't edit below this line\n",
    "\n",
    "\n",
    "def get_player_record(player_id):\n",
    "    if player_id == 1:\n",
    "        return {\"name\": \"Slayer\", \"level\": 128}\n",
    "    if player_id == 2:\n",
    "        return {\"name\": \"Dorgoth\", \"level\": 300}\n",
    "    if player_id == 3:\n",
    "        return {\"name\": \"Saruman\", \"level\": 4000}\n",
    "    raise Exception(\"player id not found\")\n",
    "\n",
    "\n",
    "main()\n"
   ]
  },
  {
   "attachments": {},
   "cell_type": "markdown",
   "metadata": {},
   "source": [
    "# Raising your own exceptions\n",
    "\n",
    "Errors are *not* something to be scared of. Every program that runs in production is expected to manage errors on a constant basis. Our job as developers is to handle the errors gracefully and in a way that aligns with our user's expectations.\n",
    "\n",
    "## Errors are NOT bugs\n",
    "\n",
    "[Bugs vs Errors in Programming](https://youtu.be/k23hjyvvhcA)\n",
    "\n",
    "When something in our own code happens that we don't expect, we should raise our own exceptions. For example, if someone passes some bad inputs to a function we write, we should not be afraid to raise an exception to let them know they did something wrong.\n",
    "\n",
    "An error or exception is raised when something bad happens, but as long as our code handles it as users expect it to, it's *not* a bug. A bug is when code behaves in ways our users don't expect it to.\n",
    "\n",
    "For example, if a player tries to forge an iron sword out of bronze metal, we might raise an exception and display an error message to the player. However, that's the expected behavior of the game, so it's not a bug. If a player can forge the iron sword out of bronze, that may be considered a bug because that's against the rules of the game.\n",
    "Syntax for raising exceptions\n",
    "\n",
    "> ```py\n",
    "> raise Exception(\"something bad happened\")\n",
    "> ```\n",
    "\n",
    "### Assignment\n",
    "\n",
    "If a `player_id` that doesn't exist is passed into the `get_player_record` function, we need to raise our own error to alert the caller of our function that the player they are looking for doesn't exist. The exception should say `player id not found`.\n"
   ]
  },
  {
   "cell_type": "code",
   "execution_count": 3,
   "metadata": {},
   "outputs": [
    {
     "name": "stdout",
     "output_type": "stream",
     "text": [
      "{'name': 'Slayer', 'level': 128}\n",
      "{'name': 'Dorgoth', 'level': 300}\n",
      "{'name': 'Saruman', 'level': 4000}\n",
      "player id not found\n"
     ]
    }
   ],
   "source": [
    "def get_player_record(player_id):\n",
    "    if player_id == 1:\n",
    "        return {\"name\": \"Slayer\", \"level\": 128}\n",
    "    if player_id == 2:\n",
    "        return {\"name\": \"Dorgoth\", \"level\": 300}\n",
    "    if player_id == 3:\n",
    "        return {\"name\": \"Saruman\", \"level\": 4000}\n",
    "    raise Exception(\"player id not found\")\n",
    "\n",
    "\n",
    "# Don't edit below this line\n",
    "\n",
    "\n",
    "def main():\n",
    "    try:\n",
    "        print(get_player_record(1))\n",
    "        print(get_player_record(2))\n",
    "        print(get_player_record(3))\n",
    "        print(get_player_record(4))\n",
    "    except Exception as e:\n",
    "        print(e)\n",
    "\n",
    "\n",
    "main()\n"
   ]
  },
  {
   "attachments": {},
   "cell_type": "markdown",
   "metadata": {},
   "source": [
    "# Raising exceptions review\n",
    "\n",
    "Software applications aren't perfect, and user input and network connectivity are far from predictable. Despite intensive debugging and unit testing, applications will still have failure cases.\n",
    "\n",
    "Loss of network connectivity, missing database rows, out of memory issues, and unexpected user inputs can all prevent an application from performing \"normally\". It is your job to catch and handle any and all exceptions gracefully so that your app keeps working. When you are able to detect that something is amiss, you should be raising the errors yourself, in addition to the \"default\" exceptions that the Python interpreter will raise.\n",
    "\n",
    "> ```py\n",
    "> raise Exception(\"something bad happened\")\n",
    "> ```\n"
   ]
  },
  {
   "attachments": {},
   "cell_type": "markdown",
   "metadata": {},
   "source": [
    "# Different types of exceptions\n",
    "\n",
    "We haven't covered classes and objects yet, which is what an Exception really is at its core. We'll go more into that in the object-oriented programming course that we have lined up for you next.\n",
    "\n",
    "For now, what is important to understand is that there are different types of exceptions and that we can differentiate between them in our code.\n",
    "Syntax\n",
    "\n",
    "try:\n",
    "    10/0\n",
    "except ZeroDivisionError:\n",
    "    print(\"0 division\")\n",
    "except Exception:\n",
    "    print(\"unknown exception\")\n",
    "\n",
    "try:\n",
    "    nums = [0, 1]\n",
    "    print(nums[2])\n",
    "except ZeroDivisionError:\n",
    "    print(\"0 division\")\n",
    "except Exception:\n",
    "    print(\"unknown exception\")\n",
    "\n",
    "Which will print:\n",
    "\n",
    "0 division\n",
    "unknown exception\n",
    "\n",
    "Assignment\n",
    "\n",
    "Take a look at the get_player_record function. It can now raise two different types of exceptions. One is an IndexError, the other is a custom exception message of the base Exception type.\n",
    "\n",
    "Complete the handle_get_player_record() function. It should return the result of get_player_record but if an IndexError is raised it will instead print index is too high. Otherwise, if any other exception is raised it will just print the exception itself.\n"
   ]
  }
 ],
 "metadata": {
  "kernelspec": {
   "display_name": "Python 3",
   "language": "python",
   "name": "python3"
  },
  "language_info": {
   "codemirror_mode": {
    "name": "ipython",
    "version": 3
   },
   "file_extension": ".py",
   "mimetype": "text/x-python",
   "name": "python",
   "nbconvert_exporter": "python",
   "pygments_lexer": "ipython3",
   "version": "3.9.6"
  },
  "orig_nbformat": 4
 },
 "nbformat": 4,
 "nbformat_minor": 2
}
