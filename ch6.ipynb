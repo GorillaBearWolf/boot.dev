{
 "cells": [
  {
   "attachments": {},
   "cell_type": "markdown",
   "metadata": {},
   "source": [
    "# Lists\n",
    "\n",
    "A natural way to organize and store data is in the form of a `List`. Some languages call them \"arrays\", but in Python we just call them lists. Think of all the apps you use and how many of the items in the app are organized into lists.\n",
    "\n",
    "For example:\n",
    "\n",
    "- A twitter feed is a list of posts\n",
    "- An online store is a list of products\n",
    "- The state of a chess game is a list of moves\n",
    "- This list is a list of things that are lists\n",
    "\n",
    "Lists in Python are declared using square brackets, with commas separating each item:\n",
    "\n",
    "> ```py\n",
    "> inventory = [\"Iron Breastplate\", \"Healing Potion\", \"Leather Scraps\"]\n",
    "> ```\n",
    "\n",
    "Arrays can contain items of any data type, in our example above we have a `List` of strings.\n",
    "\n",
    "### Assignment\n",
    "\n",
    "Let's work on Fantasy Quest's inventory! We can store items the player is carrying in a list!\n",
    "\n",
    "Add a `Shortsword` to the end of the list.\n"
   ]
  },
  {
   "cell_type": "code",
   "execution_count": 1,
   "metadata": {},
   "outputs": [
    {
     "name": "stdout",
     "output_type": "stream",
     "text": [
      "['Healing Potion', 'Leather Scraps', 'Iron Helmet', 'Bread', 'Shortsword']\n"
     ]
    }
   ],
   "source": [
    "inventory = [\"Healing Potion\", \"Leather Scraps\", \"Iron Helmet\", \"Bread\", \"Shortsword\"]\n",
    "\n",
    "# Don't touch below this line\n",
    "\n",
    "print(inventory)\n"
   ]
  },
  {
   "attachments": {},
   "cell_type": "markdown",
   "metadata": {},
   "source": [
    "Sometimes when we're manually creating lists it can be hard to read if all the items are on the same line of code. We can declare the array using multiple lines if we want to:\n",
    "\n",
    "> ```py\n",
    "> flower_types = [\n",
    ">     \"daffodil\",\n",
    ">     \"rose\",\n",
    ">     \"chrysanthemum\"\n",
    "> ]\n",
    "> ```\n",
    "\n",
    "Keep in mind this is just a styling change. The code will run correctly either way.\n"
   ]
  },
  {
   "attachments": {},
   "cell_type": "markdown",
   "metadata": {},
   "source": [
    "# Counting in Programming\n",
    "\n",
    "In the world of programming, counting is a bit strange!\n",
    "\n",
    "We don't start counting at `1`, we start at `0` instead.\n",
    "\n",
    "### Indexes\n",
    "\n",
    "Each item in an array has an index that refers to its spot in the array.\n",
    "\n",
    "Take the following array as an example:\n",
    "\n",
    "> ```py\n",
    "> names = [\"Bob\", \"Lane\", \"Alice\", \"Breanna\"]\n",
    "> ```\n",
    "\n",
    "- Index 0: `Bob`\n",
    "- Index 1: `Lane`\n",
    "- Index 2: `Alice`\n",
    "- Index 3: `Breanna`\n"
   ]
  },
  {
   "attachments": {},
   "cell_type": "markdown",
   "metadata": {},
   "source": [
    "# Indexing into Lists\n",
    "\n",
    "Now that we know how to create new lists, we need to know how to access specific items in the list.\n",
    "\n",
    "We access items in a list directly by using their *index*. Indexes start at 0 (the first item) and increment by one with each successive item. The syntax is as follows:\n",
    "\n",
    "> ```py\n",
    "> best_languages = [\"JavaScript\", \"Go\", \"Rust\", \"Python\", \"C\"]\n",
    "> print(best_languages[1])\n",
    "> // prints \"Go\", because index 1 was provided\n",
    "> ```\n",
    "\n",
    "### Assignment\n",
    "\n",
    "We need to allow our players to access items within their inventory!\n",
    "\n",
    "Change the value of `item_index` to the index in `inventory` that holds the value \"Leather Scraps\".\n"
   ]
  },
  {
   "cell_type": "code",
   "execution_count": 3,
   "metadata": {},
   "outputs": [
    {
     "name": "stdout",
     "output_type": "stream",
     "text": [
      "inventory: ['Healing Potion', 'Leather Scraps', 'Iron Helmet', 'Bread', 'Shortsword']\n",
      "index: 1\n",
      "item: Leather Scraps\n"
     ]
    }
   ],
   "source": [
    "inventory = [\"Healing Potion\", \"Leather Scraps\", \"Iron Helmet\", \"Bread\", \"Shortsword\"]\n",
    "\n",
    "item_index = 1\n",
    "\n",
    "# don't edit below this line\n",
    "\n",
    "item = inventory[item_index]\n",
    "\n",
    "print(f\"inventory: {inventory}\")\n",
    "print(f\"index: {item_index}\")\n",
    "print(f\"item: {inventory[item_index]}\")\n"
   ]
  },
  {
   "attachments": {},
   "cell_type": "markdown",
   "metadata": {},
   "source": [
    "# List length\n",
    "\n",
    "The length of a List can be calculated using the `len()` function. Again, we'll cover functions in detail later, but this is the syntax:\n",
    "\n",
    "> ```py\n",
    "> fruits = [\"apple\", \"banana\", \"pear\"]\n",
    "> length = len(fruits)\n",
    "> # Prints: 3\n",
    "> ```\n",
    "\n",
    "The length of the list is equal to the number of items present. Don't be fooled by the fact that the length is not equal to the index of the last element, in fact it will always be one greater.\n",
    "\n",
    "### Assignment\n",
    "\n",
    "Some of our players inventories are huge, so looking through the entire list is cumbersome. Let's make an easy way for them to see the last item in their inventory.\n",
    "\n",
    "Set the `last_index` variable equal to the length of the inventory array minus 1. You will need to use the `len()` syntax.\n"
   ]
  },
  {
   "cell_type": "code",
   "execution_count": 6,
   "metadata": {},
   "outputs": [
    {
     "name": "stdout",
     "output_type": "stream",
     "text": [
      "last_index: 56\n",
      "last_item: Iron Bar\n"
     ]
    }
   ],
   "source": [
    "inventory = [ \"Potion\", \"Iron Breastplate\", \"Leather Scraps\", \"Iron Ore\", \"Light Leather\", \"Bread\", \"Shortsword\", \"Longsword\", \"Iron Mace\", \"Gold Ore\", \"Healing Potion\", \"Silk Cloth\", \"Leather Armor Kit\", \"Iron Boots\", \"Iron Bar\", \"Potion\", \"Iron Breastplate\", \"Leather Scraps\", \"Iron Ore\", \"Light Leather\", \"Bread\", \"Shortsword\", \"Longsword\", \"Iron Mace\", \"Gold Ore\", \"Healing Potion\", \"Silk Cloth\", \"Leather Armor Kit\", \"Iron Boots\", \"Iron Bar\", \"Iron Mace\", \"Gold Ore\", \"Healing Potion\", \"Silk Cloth\", \"Leather Armor Kit\", \"Iron Boots\", \"Iron Bar\", \"Potion\", \"Iron Breastplate\", \"Leather Scraps\", \"Iron Ore\", \"Light Leather\", \"Potion\", \"Iron Breastplate\", \"Leather Scraps\", \"Iron Ore\", \"Light Leather\", \"Bread\", \"Shortsword\", \"Longsword\", \"Iron Mace\", \"Gold Ore\", \"Healing Potion\", \"Silk Cloth\", \"Leather Armor Kit\", \"Iron Boots\", \"Iron Bar\" ]\n",
    "\n",
    "last_index = len(inventory) - 1\n",
    "\n",
    "# don't edit below this line\n",
    "\n",
    "last_item = inventory[last_index]\n",
    "\n",
    "print(f\"last_index: {last_index}\")\n",
    "print(f\"last_item: {last_item}\")\n"
   ]
  },
  {
   "attachments": {},
   "cell_type": "markdown",
   "metadata": {},
   "source": [
    "# List Updates\n",
    "\n",
    "We can also change the item that exists at a given index. For example, we can change `Leather` to `Leather Armor` in the `inventory` array in the following way:\n",
    "\n",
    "> ```py\n",
    "> inventory = [\"Leather\", \"Healing Potion\", \"Iron Ore\"]\n",
    "> inventory[0] = \"Leather Armor\"\n",
    "> # inventory: ['Leather Armor', 'Healing Potion', 'Iron Ore']\n",
    "> ```\n",
    "\n",
    "### Assignment\n",
    "\n",
    "We need to update the items in our players inventory when they smelt `Iron Ore` into an `Iron Bar`!\n",
    "\n",
    "On line 6, update the `Iron Ore` element in the array to be an `Iron Bar`.\n"
   ]
  },
  {
   "cell_type": "code",
   "execution_count": 10,
   "metadata": {},
   "outputs": [
    {
     "name": "stdout",
     "output_type": "stream",
     "text": [
      "['Healing Potion', 'Iron Ore', 'Bread', 'Shortsword']\n",
      "['Healing Potion', 'Iron Bar', 'Bread', 'Shortsword']\n"
     ]
    }
   ],
   "source": [
    "inventory = [\"Healing Potion\", \"Iron Ore\", \"Bread\", \"Shortsword\"]\n",
    "print(inventory)\n",
    "\n",
    "# don't touch above this line\n",
    "\n",
    "inventory[1] = \"Iron Bar\"\n",
    "\n",
    "# don't touch below this line\n",
    "\n",
    "print(inventory)\n"
   ]
  },
  {
   "attachments": {},
   "cell_type": "markdown",
   "metadata": {},
   "source": [
    "# Appending in Python\n",
    "\n",
    "It's common to create an empty list then fill it with values using a loop. We can add values to the end of a list using the .append() method:\n",
    "\n",
    "> ```\n",
    ">cards = []\n",
    ">cards.append(\"nvidia\")\n",
    ">cards.append(\"amd\")\n",
    "># the cards list is now ['nvidia', 'amd']\n",
    ">```\n",
    "\n",
    "### Assignment\n",
    "\n",
    "We need to generate a unique user ID for each player in the game. An ID is just a unique number.\n",
    "\n",
    "Use a loop to add the unique ID's of 0 through 99 to the player_ids list.\n"
   ]
  },
  {
   "cell_type": "code",
   "execution_count": 11,
   "metadata": {},
   "outputs": [
    {
     "name": "stdout",
     "output_type": "stream",
     "text": [
      "[0, 1, 2, 3, 4, 5, 6, 7, 8, 9, 10, 11, 12, 13, 14, 15, 16, 17, 18, 19, 20, 21, 22, 23, 24, 25, 26, 27, 28, 29, 30, 31, 32, 33, 34, 35, 36, 37, 38, 39, 40, 41, 42, 43, 44, 45, 46, 47, 48, 49, 50, 51, 52, 53, 54, 55, 56, 57, 58, 59, 60, 61, 62, 63, 64, 65, 66, 67, 68, 69, 70, 71, 72, 73, 74, 75, 76, 77, 78, 79, 80, 81, 82, 83, 84, 85, 86, 87, 88, 89, 90, 91, 92, 93, 94, 95, 96, 97, 98, 99]\n"
     ]
    }
   ],
   "source": [
    "player_ids = []\n",
    "\n",
    "for i in range(0, 100):\n",
    "    player_ids.append(i)\n",
    "\n",
    "print(player_ids)\n"
   ]
  }
 ],
 "metadata": {
  "kernelspec": {
   "display_name": "Python 3.9.6 64-bit",
   "language": "python",
   "name": "python3"
  },
  "language_info": {
   "codemirror_mode": {
    "name": "ipython",
    "version": 3
   },
   "file_extension": ".py",
   "mimetype": "text/x-python",
   "name": "python",
   "nbconvert_exporter": "python",
   "pygments_lexer": "ipython3",
   "version": "3.9.6"
  },
  "orig_nbformat": 4,
  "vscode": {
   "interpreter": {
    "hash": "31f2aee4e71d21fbe5cf8b01ff0e069b9275f58929596ceb00d14d90e3e16cd6"
   }
  }
 },
 "nbformat": 4,
 "nbformat_minor": 2
}
