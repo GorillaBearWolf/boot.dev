{
 "cells": [
  {
   "attachments": {},
   "cell_type": "markdown",
   "metadata": {},
   "source": [
    "# Functions\n",
    "\n",
    "Functions allow us to reuse and organize code. For example, let's pretend we need to calculate the area of a circle. We can use the formula `area = pi * r^2`, or in code:\n",
    "\n",
    "> ```py\n",
    "> r = 5\n",
    "> area = 3.14 * r * r\n",
    "> ```\n",
    "\n",
    "This works great! The problem arises when multiple places in our code need to get the area of a circle\n",
    "\n",
    "> ```py\n",
    "> r = 5\n",
    "> area1 = 3.14 * r * r\n",
    "> \n",
    "> r2 = 7\n",
    "> area2 = 3.14 * r2 * r2\n",
    "> \n",
    "> r3 = 11\n",
    "> area3 = 3.14 * r3 * r3\n",
    "> ```\n",
    "\n",
    "We want to use the same code, why repeat the work?\n",
    "\n",
    "Let's declare a new function `area_of_circle()`. Notice that the `def` keyword is written before the function name, and tells the computer that we're declaring, or defining, a new function.\n",
    "\n",
    "> ```py\n",
    "> def area_of_circle(r):\n",
    ">     return 3.14 * r * r\n",
    "> ```\n",
    "\n",
    "The `area_of_circle` function takes one input (which can also be called a parameter or argument), and returns a single output. We give our function the radius of a circle and we get back the area of that circle!\n",
    "\n",
    "To use or \"call\" the function we can pass in any number as the input, and capture the output into a new variable:\n",
    "\n",
    "> ```py\n",
    "> radius = 5\n",
    "> area = area_of_circle(radius)\n",
    "> ```\n",
    "\n",
    "Let's talk through this code example step by step.\n",
    "\n",
    "1. The `radius` variable is created with a value of `5`.\n",
    "2. The `area_of_circle` function is called with a single argument: `radius`\n",
    "3. The `area_of_circle` function is executed, with `r` being equal to `5`\n",
    "4. The result of `3.14 * r * r` is returned from `area_of_circle`, which happens to be 78.75\n",
    "5. `area_of_circle(radius)` resolves to the returned value of `78.75`\n",
    "6. The area variable is created with a value of `78.75`\n",
    "\n",
    "### Assignment\n",
    "\n",
    "We need to calculate the area around a player that they're able to attack within. With a 1 meter sword for example, they should only be able to attack enemies within the area of a circle with a 1 meter radius.\n",
    "\n",
    "On line 8 add a second function call to `area_of_circle()` that passes `.5` in as the radius. Capture the result into a new variable called `player2_area`\n"
   ]
  },
  {
   "cell_type": "code",
   "execution_count": 2,
   "metadata": {},
   "outputs": [
    {
     "name": "stdout",
     "output_type": "stream",
     "text": [
      "Player 1 has an attack area of 3.14 meters\n",
      "Player 2 has an attack area of 0.785 meters\n"
     ]
    }
   ],
   "source": [
    "def area_of_circle(r):\n",
    "    return 3.14 * r * r\n",
    "\n",
    "\n",
    "# don't touch above this line\n",
    "\n",
    "player1_area = area_of_circle(1)\n",
    "player2_area = area_of_circle(.5)\n",
    "\n",
    "# don't touch below this line\n",
    "\n",
    "print(f\"Player 1 has an attack area of {player1_area} meters\")\n",
    "print(f\"Player 2 has an attack area of {player2_area} meters\")\n"
   ]
  },
  {
   "attachments": {},
   "cell_type": "markdown",
   "metadata": {},
   "source": [
    "# Multiple Parameters\n",
    "\n",
    "Functions can have multiple parameters, or inputs:\n",
    "\n",
    "> ```py\n",
    "> def subtract(a, b):\n",
    ">     return a - b\n",
    "> ```\n",
    "\n",
    "### Assignment\n",
    "\n",
    "We need to be able to calculate the total damage from an attack involving 3 different enemies. Complete the `calculate_damage` that takes three numbers as its parameters and returns the result of adding them all together.\n"
   ]
  },
  {
   "cell_type": "code",
   "execution_count": 3,
   "metadata": {},
   "outputs": [
    {
     "name": "stdout",
     "output_type": "stream",
     "text": [
      "You dealt 9 points of damage!\n",
      "You dealt 6 points of damage!\n",
      "You dealt 9 points of damage!\n",
      "You dealt 7 points of damage!\n"
     ]
    }
   ],
   "source": [
    "def calculate_damage(enemy_one_dmg, enemy_two_dmg, enemy_three_dmg):\n",
    "    return enemy_one_dmg + enemy_two_dmg + enemy_three_dmg\n",
    "\n",
    "\n",
    "# Don't touch below this line\n",
    "\n",
    "print(f\"You dealt {calculate_damage(2, 3, 4)} points of damage!\")\n",
    "print(f\"You dealt {calculate_damage(-1, 4, 3)} points of damage!\")\n",
    "print(f\"You dealt {calculate_damage(3, 2, 4)} points of damage!\")\n",
    "print(f\"You dealt {calculate_damage(1, 4, 2)} points of damage!\")\n"
   ]
  },
  {
   "attachments": {},
   "cell_type": "markdown",
   "metadata": {},
   "source": [
    "# Where to Declare Functions\n",
    "\n",
    "You've probably noticed that a variable needs to be declared *before* it's used. For example, the following doesn't work:\n",
    "\n",
    "> ```py\n",
    "> print(my_name)\n",
    "> my_name = 'Lane Wagner'\n",
    "> ```\n",
    "\n",
    "It needs to be:\n",
    "\n",
    "> ```py\n",
    "> my_name = 'Lane Wagner'\n",
    "> print(my_name)\n",
    "> ```\n",
    "\n",
    "Lines of code execute *in order from top to bottom*, so a variable needs to be created before it can be used. That means that if you define a function, you can't call that function until after the definition.\n",
    "\n",
    "The `main()` function is a convention used in many programming languages to specify the entrypoint of an application. By defining a single `main` function, and only calling `main()` at the end of the entire program we ensure that all of our function are defined before they're called.\n",
    "Assignment\n",
    "\n",
    "There is a bug in our program! Fix it.\n"
   ]
  },
  {
   "cell_type": "code",
   "execution_count": 5,
   "metadata": {},
   "outputs": [
    {
     "name": "stdout",
     "output_type": "stream",
     "text": [
      "Fantasy Quest is booting up...\n"
     ]
    }
   ],
   "source": [
    "def main():\n",
    "    print(\"Fantasy Quest is booting up...\")\n",
    "\n",
    "main()\n"
   ]
  },
  {
   "attachments": {},
   "cell_type": "markdown",
   "metadata": {},
   "source": [
    "# Order of functions\n",
    "\n",
    "All functions *must* be defined before they're used.\n",
    "\n",
    "You might think this would make structuring Python code difficult because the order in which the functions are declared can quickly become so dependent on each other that writing anything becomes impossible.\n",
    "\n",
    "As it turns out, most Python developers solve this problem by simply defining all the functions first, then finally calling the entrypoint function last. If you do that, then the order that the functions are declared in doesn't matter. The entrypoint function is usually called \"main\".\n",
    "\n",
    "> ```py\n",
    "> def main():\n",
    ">     func2()\n",
    "> \n",
    "> def func2():\n",
    ">     func3()\n",
    "> \n",
    "> def func3():\n",
    ">     print(\"I'm function 3\")\n",
    "> \n",
    "> main() # entrypoint\n",
    "> ```\n"
   ]
  },
  {
   "attachments": {},
   "cell_type": "markdown",
   "metadata": {},
   "source": [
    "# Scope\n",
    "\n",
    "Scope refers to *where* a variable or function name is available to be used. For example, when we create variables in a function (by giving names to our parameters for example), that data is *not* available outside of that function.\n",
    "\n",
    "For example:\n",
    "\n",
    "> ```py\n",
    "> def subtract(x, y)\n",
    ">     return x - y\n",
    "> result = subtract(5, 3)\n",
    "> print(x)\n",
    "> # ERROR! \"name 'x' is not defined\"\n",
    "> ```\n",
    "\n",
    "When the `subtract` function is called, we assign the variable `x` to 5, but `x` only exists in the code *within* the `subtract` function. If we try to print x outside of that function then we won't get a result, in fact we'll get a big fat error.\n",
    "\n",
    "<https://youtu.be/LSjMyfzSZMg>\n",
    "\n",
    "### Assignment\n",
    "\n",
    "Find the bug in the code, we're using variable names from the wrong scope. Fix it!"
   ]
  },
  {
   "cell_type": "code",
   "execution_count": 7,
   "metadata": {},
   "outputs": [
    {
     "name": "stdout",
     "output_type": "stream",
     "text": [
      "max_health is: 50\n"
     ]
    }
   ],
   "source": [
    "def get_max_health(modifier, level):\n",
    "    return modifier * level\n",
    "\n",
    "\n",
    "my_modifier = 5\n",
    "my_level = 10\n",
    "\n",
    "## don't touch above this line\n",
    "\n",
    "max_health = get_max_health(my_modifier, my_level)\n",
    "\n",
    "# don't touch below this line\n",
    "\n",
    "print(f\"max_health is: {max_health}\")\n"
   ]
  },
  {
   "attachments": {},
   "cell_type": "markdown",
   "metadata": {},
   "source": [
    "# Global Scope\n",
    "\n",
    "So far we've been working in the global scope. That means that when we define a variable or a function, that name is accessible in *every other place* in our program, even within other functions.\n",
    "\n",
    "For example:\n",
    "\n",
    "> ```py\n",
    "> pi = 3.14\n",
    "> \n",
    "> def get_area_of_circle(radius):\n",
    ">     return pi * radius * radius\n",
    "> ```\n",
    "\n",
    "Because `pi` was declared in the parent \"global\" scope, it is usable within the `get_area_of_circle()` function.\n",
    "\n",
    "### Assignment\n",
    "\n",
    "Let's change how we are calculating our player's stats! The only thing we should need to define globally is the character level and then let our functions do the rest!\n",
    "\n",
    "Declare the variable `player_level` at the top of the global scope and set it to `4`.\n"
   ]
  },
  {
   "cell_type": "code",
   "execution_count": 8,
   "metadata": {},
   "outputs": [
    {
     "name": "stdout",
     "output_type": "stream",
     "text": [
      "Character has 40 max health.\n",
      "Character has 15 primary stats.\n"
     ]
    }
   ],
   "source": [
    "player_level = 4\n",
    "\n",
    "\n",
    "def calculate_health(modifier):\n",
    "    return player_level * modifier\n",
    "\n",
    "\n",
    "def calculate_primary_stats(armor_bonus, modifier):\n",
    "    return armor_bonus + modifier + player_level\n",
    "\n",
    "\n",
    "# Don't touch below this line\n",
    "\n",
    "print(f\"Character has {calculate_health(10)} max health.\")\n",
    "\n",
    "print(f\"Character has {calculate_primary_stats(3, 8)} primary stats.\")\n"
   ]
  },
  {
   "attachments": {},
   "cell_type": "markdown",
   "metadata": {},
   "source": [
    "# Functions Practice - Degrees\n",
    "### Conversion formula\n",
    "\n",
    "`celsius = 5/9 * (fahrenheit-32)`\n",
    "\n",
    "### Assignment\n",
    "\n",
    "Let's take a break from working on \"Fantasy Quest\" for a moment. Instead, we will use what we've learned to build a function we could use in the real world.\n",
    "\n",
    "Write a function called `to_celsius` that converts a temperature in Fahrenheit to Celsius.\n"
   ]
  },
  {
   "cell_type": "code",
   "execution_count": 9,
   "metadata": {},
   "outputs": [
    {
     "name": "stdout",
     "output_type": "stream",
     "text": [
      "100 degrees fahrenheit is 37.78 degrees celsius\n",
      "88 degrees fahrenheit is 31.11 degrees celsius\n",
      "104 degrees fahrenheit is 40.0 degrees celsius\n",
      "112 degrees fahrenheit is 44.44 degrees celsius\n"
     ]
    }
   ],
   "source": [
    "def to_celsius(f):\n",
    "    return (5 / 9) * (f - 32)\n",
    "\n",
    "\n",
    "## Don't touch below this line\n",
    "\n",
    "\n",
    "def test(f):\n",
    "    c = round(to_celsius(f), 2)\n",
    "    print(f\"{f} degrees fahrenheit is {c} degrees celsius\")\n",
    "\n",
    "\n",
    "test(100)\n",
    "test(88)\n",
    "test(104)\n",
    "test(112)\n"
   ]
  },
  {
   "attachments": {},
   "cell_type": "markdown",
   "metadata": {},
   "source": [
    "# Functions Practice - Exists\n",
    "\n",
    "Let's get back to working on \"Fantasy Quest\"!\n",
    "\n",
    "We need to make a way to easily check if an item exists within our inventory!\n",
    "\n",
    "### Assignment\n",
    "\n",
    "Complete the `string_exists` function that checks if a given string can be found within an array.\n",
    "\n",
    "For example:\n",
    "\n",
    "> ```py\n",
    "> string_exists(\"sally\", [\"bob\", \"joe\", \"bill\"]) # returns False\n",
    "> string_exists(\"sally\", [\"bob\", \"sally\", \"bill\"]) # returns True\n",
    "> ```\n"
   ]
  },
  {
   "cell_type": "code",
   "execution_count": 10,
   "metadata": {},
   "outputs": [
    {
     "name": "stdout",
     "output_type": "stream",
     "text": [
      "Healing Potion does NOT exist in ['Iron Bar', 'Leather Scraps', 'Shortsword']\n",
      "Iron Helmet does NOT exist in ['Buckler', 'Leather Armor Kit', 'Iron Breastplate']\n",
      "Iron Ore exists in ['Healing Potion', 'Iron Ore', 'Cheese']\n",
      "Shortsword exists in ['Potion', 'Iron Breastplate', 'Shortsword']\n"
     ]
    }
   ],
   "source": [
    "def string_exists(string_to_check, string_array):\n",
    "  if string_to_check in string_array:\n",
    "    return True\n",
    "  else:\n",
    "    return False\n",
    "\n",
    "\n",
    "# Don't touch below this line\n",
    "\n",
    "\n",
    "def test(string_to_check, string_array):\n",
    "    exists = string_exists(string_to_check, string_array)\n",
    "    if exists:\n",
    "        print(f\"{string_to_check} exists in {string_array}\")\n",
    "    else:\n",
    "        print(f\"{string_to_check} does NOT exist in {string_array}\")\n",
    "\n",
    "\n",
    "test(\"Healing Potion\", [\"Iron Bar\", \"Leather Scraps\", \"Shortsword\"])\n",
    "test(\"Iron Helmet\", [\"Buckler\", \"Leather Armor Kit\", \"Iron Breastplate\"])\n",
    "test(\"Iron Ore\", [\"Healing Potion\", \"Iron Ore\", \"Cheese\"])\n",
    "test(\"Shortsword\", [\"Potion\", \"Iron Breastplate\", \"Shortsword\"])\n"
   ]
  },
  {
   "attachments": {},
   "cell_type": "markdown",
   "metadata": {},
   "source": [
    "# Boolean Logic\n",
    "\n",
    "Boolean logic refers to logic dealing with boolean (`true` or `false`) values. For example,\n",
    "\n",
    "Dogs must have four legs and weigh less than 100 kilograms. (Both conditions must be true)\n",
    "\n",
    "Cars are cool if they go faster than 200 MPH, or if they are electric. (At least one condition must be true)\n",
    "\n",
    "## \"And\" Syntax\n",
    "\n",
    "The `and` operator takes a boolean value on each side and returns `True` if both boolean values are `True`:\n",
    "\n",
    "> ```py\n",
    "> def is_dog(num_legs, weight):\n",
    ">     return num_legs == 4 and weight < 100\n",
    "> ```\n",
    "\n",
    "Let's go over how this function would evaluate given the parameters `4` and `99`:\n",
    "\n",
    "> ```py\n",
    "> return 4 == 4 and 99 < 100\n",
    "> ```\n",
    "\n",
    "> ```py\n",
    "> return True and True\n",
    "> ```\n",
    "\n",
    "> ```py\n",
    "> return True\n",
    "> ```\n",
    "\n",
    "Let's see what would happen with `3` and `98` instead:\n",
    "\n",
    ">```py\n",
    ">return 3 == 4 and 98 < 100\n",
    ">```\n",
    "\n",
    ">```py\n",
    ">return False and True\n",
    ">```\n",
    "\n",
    ">```py\n",
    ">return False\n",
    ">```\n",
    "\n",
    "The `and` operator will only return `True` if both conditions are `True`.\n",
    "\n",
    "## \"Or\" syntax\n",
    "\n",
    "The `or` operator returns `True` if *at least one* of the conditions is `True`:\n",
    "\n",
    "> ```py\n",
    "> def is_car_cool(speed, is_electric):\n",
    ">     return speed > 200 or is_electric\n",
    "> ```\n",
    "\n",
    "Let's use a non-electric car that can do 250:\n",
    "\n",
    "> ```py\n",
    "> return 250 > 200 or False\n",
    "> ```\n",
    "\n",
    "> ```py\n",
    "> return True or False\n",
    "> ```\n",
    "\n",
    "> ```py\n",
    "> return True\n",
    "> ```\n",
    "\n",
    "### Assignment\n",
    "\n",
    "We need a way for our game to track whether a character's attack hits or misses.\n",
    "\n",
    "Complete the `does_attack_hit` function. The function should return `True` if *either* of the following conditions are met:\n",
    "\n",
    "- The `attack_roll` is *not* a 1 and the attack roll is greater than or equal to the `armor_class`\n",
    "- The attack roll is a `20`\n",
    "\n",
    "Otherwise, it should return `False`.\n"
   ]
  },
  {
   "cell_type": "code",
   "execution_count": 11,
   "metadata": {},
   "outputs": [
    {
     "name": "stdout",
     "output_type": "stream",
     "text": [
      "With a roll of 17 and armor class of 18 the attack does NOT hit!\n",
      "With a roll of 20 and armor class of 25 the attack hits!\n",
      "With a roll of 1 and armor class of 0 the attack does NOT hit!\n",
      "With a roll of 16 and armor class of 13 the attack hits!\n",
      "With a roll of 25 and armor class of 21 the attack hits!\n"
     ]
    }
   ],
   "source": [
    "def does_attack_hit(attack_roll, armor_class):\n",
    "    return  (attack_roll != 1 and attack_roll > armor_class) or attack_roll == 20\n",
    "\n",
    "\n",
    "def test(attack_roll, armor_class):\n",
    "    hits = does_attack_hit(attack_roll, armor_class)\n",
    "    if hits:\n",
    "        print(\n",
    "            f\"With a roll of {attack_roll} and armor class of {armor_class} the attack hits!\"\n",
    "        )\n",
    "    else:\n",
    "        print(\n",
    "            f\"With a roll of {attack_roll} and armor class of {armor_class} the attack does NOT hit!\"\n",
    "        )\n",
    "\n",
    "\n",
    "test(17, 18)\n",
    "test(20, 25)\n",
    "test(1, 0)\n",
    "test(16, 13)\n",
    "test(25, 21)\n"
   ]
  },
  {
   "attachments": {},
   "cell_type": "markdown",
   "metadata": {},
   "source": [
    "# Hours to Seconds\n",
    "\n",
    "### Assignment\n",
    "\n",
    "We need to be able to display the current in-game time in seconds to our players!\n",
    "\n",
    "Write the `convert_hours_to_seconds` function. It should convert `hours` to `seconds`.\n"
   ]
  },
  {
   "cell_type": "code",
   "execution_count": 13,
   "metadata": {},
   "outputs": [
    {
     "name": "stdout",
     "output_type": "stream",
     "text": [
      "10 hours is 36000 seconds\n",
      "1 hours is 3600 seconds\n",
      "2.5 hours is 9000.0 seconds\n",
      "100 hours is 360000 seconds\n",
      "33 hours is 118800 seconds\n"
     ]
    }
   ],
   "source": [
    "def convert_hours_to_seconds(hours):\n",
    "    return hours * 60 * 60\n",
    "\n",
    "\n",
    "# Don't touch below this line\n",
    "\n",
    "\n",
    "def test(hours):\n",
    "    secs = convert_hours_to_seconds(hours)\n",
    "    print(f\"{hours} hours is {secs} seconds\")\n",
    "\n",
    "\n",
    "test(10)\n",
    "test(1)\n",
    "test(2.5)\n",
    "test(100)\n",
    "test(33)\n"
   ]
  }
 ],
 "metadata": {
  "kernelspec": {
   "display_name": "Python 3",
   "language": "python",
   "name": "python3"
  },
  "language_info": {
   "codemirror_mode": {
    "name": "ipython",
    "version": 3
   },
   "file_extension": ".py",
   "mimetype": "text/x-python",
   "name": "python",
   "nbconvert_exporter": "python",
   "pygments_lexer": "ipython3",
   "version": "3.9.6"
  },
  "orig_nbformat": 4
 },
 "nbformat": 4,
 "nbformat_minor": 2
}
