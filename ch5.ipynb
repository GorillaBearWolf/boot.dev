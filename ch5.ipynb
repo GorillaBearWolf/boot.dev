{
 "cells": [
  {
   "cell_type": "markdown",
   "metadata": {},
   "source": [
    "# Loops\n",
    "\n",
    "Loops are a programmer's best friend. Loops allow us to do the same operation multiple times without having to write it explicitly each time.\n",
    "\n",
    "For example, let's pretend I want to print the numbers 0-9.\n",
    "\n",
    "I could do this:\n",
    "\n",
    ">```py\n",
    ">print(0)\n",
    ">print(1)\n",
    ">print(2)\n",
    ">print(3)\n",
    ">print(4)\n",
    ">print(5)\n",
    ">print(6)\n",
    ">print(7)\n",
    ">print(8)\n",
    ">print(9)\n",
    "\n",
    "Even so, it would save me a lot of time typing to use a loop. Especially if I wanted to do the same thing _one thousand or one million_ times.\n",
    "\n",
    "A \"*for loop*\" in Python is written like this:\n",
    "\n",
    ">```py\n",
    ">for i in range(0, 10):\n",
    ">    print(i)\n",
    "\n",
    "In English, the code says:\n",
    "\n",
    "1. Start with `i` equals `0`. (`i in range(0)`)\n",
    "2. If `i` is not less than 10 (`range(0, 10)`), exit the loop.\n",
    "3. Print `i` to the console. (`print(i)`)\n",
    "4. Add `1` to `i`. (`range` defaults to incrementing by 1)\n",
    "5. Go back to step 2\n",
    "\n",
    "The result is that the numbers `0-9` are logged to the console in order.\n",
    "\n",
    "## Whitespace matters in Python!\n",
    "\n",
    "The body of a for-loop *must* be indented, otherwise you'll get a syntax error.\n",
    "\n",
    "## Assignment\n",
    "\n",
    "Complete the missing sections of the for-loop so that it prints the numbers 0-99 to the console.\n"
   ]
  },
  {
   "cell_type": "code",
   "execution_count": null,
   "metadata": {},
   "outputs": [],
   "source": [
    "for i in range(0, 100):\n",
    "    print(i)\n"
   ]
  },
  {
   "cell_type": "markdown",
   "metadata": {},
   "source": [
    "## Assignment\n",
    "\n",
    "Write a for-loop from scratch that logs the numbers 0-199 to the console."
   ]
  },
  {
   "cell_type": "code",
   "execution_count": null,
   "metadata": {},
   "outputs": [],
   "source": [
    "for i in range(0, 200):\n",
    "    print(i)\n"
   ]
  },
  {
   "cell_type": "markdown",
   "metadata": {},
   "source": [
    "## Assignment\n",
    "\n",
    "Edit the for-loop to print the numbers 5 to 15 instead."
   ]
  },
  {
   "cell_type": "code",
   "execution_count": null,
   "metadata": {},
   "outputs": [],
   "source": [
    "for i in range(5, 16):\n",
    "    print(i)\n"
   ]
  },
  {
   "cell_type": "markdown",
   "metadata": {},
   "source": [
    "# Loop Review\n",
    "\n",
    ">```py\n",
    ">for i in range(0, 10):\n",
    ">    print(i)\n",
    "\n",
    "Prints the numbers 0-9 to the console.\n",
    "\n",
    ">```py\n",
    ">for i in range(0, 1000):\n",
    ">    print(i)\n",
    "\n",
    "Prints the numbers 0-999 to the console.\n",
    "\n",
    "## Whitespace matters in Python!\n",
    "\n",
    "The body of a for-loop *must* be indented, otherwise you'll get a syntax error. Not only that, but every line in the body of the loop must be indented in the same way - we use the \"4 spaces\" convention. Pressing the `<tab>` key should automatically insert 4 spaces.\n"
   ]
  },
  {
   "cell_type": "markdown",
   "metadata": {},
   "source": [
    "# Range Continued\n",
    "\n",
    "The `range()` function we've been using in our `for` loops actually has an optional 3rd parameter: the \"step\".\n",
    "\n",
    ">```py\n",
    ">for i in range(0, 10, 2):\n",
    ">    print(i)\n",
    "># prints:\n",
    "># 0\n",
    "># 2\n",
    "># 4\n",
    "># 6\n",
    "># 8\n",
    "\n",
    "The \"step\" parameter determines how much to increment `i` by in each iteration of the loop. You can even go backwards:\n",
    "\n",
    ">```py\n",
    ">for i in range(3, 0, -1):\n",
    ">    print(i)\n",
    "># prints:\n",
    "># 3\n",
    "># 2\n",
    "># 1\n",
    "\n",
    "Assignment\n",
    "\n",
    "Fix the code so that it prints the numbers `10 -> 1` in order.\n"
   ]
  },
  {
   "cell_type": "code",
   "execution_count": null,
   "metadata": {},
   "outputs": [],
   "source": [
    "for i in range(10, 0, -1):\n",
    "    print(i)\n"
   ]
  },
  {
   "cell_type": "markdown",
   "metadata": {},
   "source": [
    "# F-strings in Python\n",
    "\n",
    "You can create a string with dynamic values by using `f-strings` in Python. It's a really beautiful syntax that I wish more programming languages adopted.\n",
    "\n",
    ">```py\n",
    ">num_bananas = 10\n",
    ">print(f\"You have {num_bananas} bananas\")\n",
    "># You have 10 bananas\n",
    "\n",
    "The opening quotes need to be proceeded by an `f`, then any variables within curly brackets have their values interpolated into the string.\n",
    "\n",
    "## Assignment\n",
    "\n",
    "At the home-town tavern in Fantasy Quest, the inn-keeper offers free meals and retirement plans based on the age of his patrons. I wrote a loop for you that increments the `age` variable from 0 to 74.\n",
    "\n",
    "In the body of the `for` loop, if `age` is less than `8` your code should print:\n",
    "\n",
    ">```py\n",
    ">You qualify for free meals. You are: _ years old.\n",
    "\n",
    "Otherwise, if `age` is greater than `65` you should print:\n",
    "\n",
    ">```py\n",
    ">You qualify for retirement. You are: _ years old.\n",
    "\n",
    "`_` should be the current value of the `age` variable.\n"
   ]
  },
  {
   "cell_type": "code",
   "execution_count": null,
   "metadata": {},
   "outputs": [],
   "source": [
    "for age in range(0, 75):\n",
    "    if age < 8:\n",
    "      print(f\"You qualify for free meals. You are: {age} years old.\")\n",
    "    elif age > 65:\n",
    "      print(f\"You qualify for retirement. You are: {age} years old.\")\n"
   ]
  },
  {
   "cell_type": "markdown",
   "metadata": {},
   "source": [
    "# Sum Game\n",
    "\n",
    "Remember that the increment and decrement operators can increment or decrement a variable by any amount.\n",
    "\n",
    ">```py\n",
    ">number_of_enemies = 10\n",
    ">number_of_enemies += 2\n",
    "># number_of_enemies is 12\n",
    ">\n",
    ">number_of_enemies = 10\n",
    ">number_of_enemies -= 2\n",
    "># number_of_enemies is 8\n",
    "\n",
    "## Assignment\n",
    "\n",
    "Fix the bug in the program. Instead of adding 1 to `total` at each iteration of the loop, it should add `i`. For example, instead of:\n",
    "\n",
    "`1 + 1 + 1 + 1 + 1...`\n",
    "\n",
    "we want:\n",
    "\n",
    "`0 + 1 + 2 + 3 + 4...`\n"
   ]
  },
  {
   "cell_type": "code",
   "execution_count": null,
   "metadata": {},
   "outputs": [],
   "source": [
    "total = 0\n",
    "for i in range(0, 100):\n",
    "    total += i\n",
    "print(total)\n"
   ]
  },
  {
   "cell_type": "markdown",
   "metadata": {},
   "source": [
    "## Assignment\n",
    "\n",
    "Write a program that sums all the numbers from 0-99, but skips even numbers."
   ]
  },
  {
   "cell_type": "code",
   "execution_count": 34,
   "metadata": {},
   "outputs": [
    {
     "name": "stdout",
     "output_type": "stream",
     "text": [
      "2500\n"
     ]
    }
   ],
   "source": [
    "total = 0\n",
    "for i in range(1, 100, 2):\n",
    "    total += i\n",
    "print(total)\n"
   ]
  }
 ],
 "metadata": {
  "kernelspec": {
   "display_name": "Python 3.9.6 64-bit",
   "language": "python",
   "name": "python3"
  },
  "language_info": {
   "codemirror_mode": {
    "name": "ipython",
    "version": 3
   },
   "file_extension": ".py",
   "mimetype": "text/x-python",
   "name": "python",
   "nbconvert_exporter": "python",
   "pygments_lexer": "ipython3",
   "version": "3.9.6"
  },
  "orig_nbformat": 4,
  "vscode": {
   "interpreter": {
    "hash": "31f2aee4e71d21fbe5cf8b01ff0e069b9275f58929596ceb00d14d90e3e16cd6"
   }
  }
 },
 "nbformat": 4,
 "nbformat_minor": 2
}
